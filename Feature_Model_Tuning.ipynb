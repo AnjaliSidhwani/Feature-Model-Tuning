{
  "nbformat": 4,
  "nbformat_minor": 0,
  "metadata": {
    "colab": {
      "provenance": []
    },
    "kernelspec": {
      "name": "python3",
      "display_name": "Python 3"
    },
    "language_info": {
      "name": "python"
    }
  },
  "cells": [
    {
      "cell_type": "code",
      "execution_count": 4,
      "metadata": {
        "colab": {
          "base_uri": "https://localhost:8080/"
        },
        "id": "_xEHdSsA4Ers",
        "outputId": "63ecca93-a3a7-410e-db92-974ef16d2601"
      },
      "outputs": [
        {
          "output_type": "stream",
          "name": "stdout",
          "text": [
            "Drive already mounted at /content/gdrive; to attempt to forcibly remount, call drive.mount(\"/content/gdrive\", force_remount=True).\n"
          ]
        }
      ],
      "source": [
        "from google.colab import drive\n",
        "drive.mount(\"/content/gdrive\")"
      ]
    },
    {
      "cell_type": "code",
      "source": [
        "import numpy as np\n",
        "from numpy import percentile\n",
        "import pandas as pd\n",
        "import matplotlib.pyplot as plt\n",
        "import seaborn as sns\n",
        "from scipy import stats\n",
        "from sklearn.neighbors import KNeighborsClassifier\n",
        "from sklearn import metrics\n",
        "from sklearn.model_selection import GridSearchCV\n",
        "from sklearn import svm\n",
        "from sklearn import preprocessing\n",
        "from sklearn.preprocessing import StandardScaler\n",
        "from sklearn.cluster import KMeans\n",
        "from sklearn.impute import SimpleImputer\n",
        "from sklearn.model_selection import train_test_split\n",
        "from sklearn.decomposition import PCA\n",
        "from sklearn.linear_model import LogisticRegression\n",
        "from sklearn.feature_selection import SelectFromModel\n",
        "from sklearn.linear_model import LinearRegression\n",
        "from statsmodels.stats.outliers_influence import variance_inflation_factor\n",
        "import statsmodels.api as sma\n",
        "from imblearn.over_sampling import SMOTE\n",
        "from imblearn.datasets import make_imbalance\n",
        "from sklearn.naive_bayes import MultinomialNB\n",
        "from sklearn.pipeline import Pipeline\n",
        "from sklearn.model_selection import KFold\n",
        "from sklearn.model_selection import cross_val_score\n",
        "from sklearn.naive_bayes import GaussianNB\n",
        "from sklearn.tree import DecisionTreeClassifier\n",
        "from sklearn.ensemble import RandomForestClassifier\n",
        "from sklearn.feature_selection import SelectKBest\n",
        "from sklearn.feature_selection import f_regression"
      ],
      "metadata": {
        "id": "NnOG47rn47D4"
      },
      "execution_count": 136,
      "outputs": []
    },
    {
      "cell_type": "code",
      "source": [
        "pd.set_option('display.float_format', lambda x:'%3f' %x)"
      ],
      "metadata": {
        "id": "uAZCatH74_pV"
      },
      "execution_count": 6,
      "outputs": []
    },
    {
      "cell_type": "code",
      "source": [
        "%matplotlib inline"
      ],
      "metadata": {
        "id": "8WDwRuSr5CO9"
      },
      "execution_count": 7,
      "outputs": []
    },
    {
      "cell_type": "markdown",
      "source": [
        "Q1 A - Import ‘signal-data.csv’ as DataFrame."
      ],
      "metadata": {
        "id": "DphXfQnT6Ex8"
      }
    },
    {
      "cell_type": "code",
      "source": [
        "%cd /content/gdrive/My Drive/Colab Notebooks/\n",
        "df_signal = pd.read_csv(\"signal-data.csv\")\n",
        "df_signal.shape"
      ],
      "metadata": {
        "colab": {
          "base_uri": "https://localhost:8080/"
        },
        "id": "r3X5Xf3f5U39",
        "outputId": "677179d5-19ad-4953-bf42-60b1db92e0a6"
      },
      "execution_count": 158,
      "outputs": [
        {
          "output_type": "stream",
          "name": "stdout",
          "text": [
            "/content/gdrive/My Drive/Colab Notebooks\n"
          ]
        },
        {
          "output_type": "execute_result",
          "data": {
            "text/plain": [
              "(1567, 592)"
            ]
          },
          "metadata": {},
          "execution_count": 158
        }
      ]
    },
    {
      "cell_type": "code",
      "source": [
        "df_signal.head()"
      ],
      "metadata": {
        "colab": {
          "base_uri": "https://localhost:8080/",
          "height": 429
        },
        "id": "-H8YMKaM54Mc",
        "outputId": "38f7478e-19b8-4cd8-caf7-8b5d9d6aedc9"
      },
      "execution_count": 159,
      "outputs": [
        {
          "output_type": "execute_result",
          "data": {
            "text/plain": [
              "                  Time           0           1           2           3  \\\n",
              "0  2008-07-19 11:55:00 3030.930000 2564.000000 2187.733300 1411.126500   \n",
              "1  2008-07-19 12:32:00 3095.780000 2465.140000 2230.422200 1463.660600   \n",
              "2  2008-07-19 13:17:00 2932.610000 2559.940000 2186.411100 1698.017200   \n",
              "3  2008-07-19 14:43:00 2988.720000 2479.900000 2199.033300  909.792600   \n",
              "4  2008-07-19 15:22:00 3032.240000 2502.870000 2233.366700 1326.520000   \n",
              "\n",
              "         4          5          6        7        8  ...        581      582  \\\n",
              "0 1.360200 100.000000  97.613300 0.124200 1.500500  ...        NaN 0.500500   \n",
              "1 0.829400 100.000000 102.343300 0.124700 1.496600  ... 208.204500 0.501900   \n",
              "2 1.510200 100.000000  95.487800 0.124100 1.443600  ...  82.860200 0.495800   \n",
              "3 1.320400 100.000000 104.236700 0.121700 1.488200  ...  73.843200 0.499000   \n",
              "4 1.533400 100.000000 100.396700 0.123500 1.503100  ...        NaN 0.480000   \n",
              "\n",
              "       583      584       585      586      587      588        589  Pass/Fail  \n",
              "0 0.011800 0.003500  2.363000      NaN      NaN      NaN        NaN         -1  \n",
              "1 0.022300 0.005500  4.444700 0.009600 0.020100 0.006000 208.204500         -1  \n",
              "2 0.015700 0.003900  3.174500 0.058400 0.048400 0.014800  82.860200          1  \n",
              "3 0.010300 0.002500  2.054400 0.020200 0.014900 0.004400  73.843200         -1  \n",
              "4 0.476600 0.104500 99.303200 0.020200 0.014900 0.004400  73.843200         -1  \n",
              "\n",
              "[5 rows x 592 columns]"
            ],
            "text/html": [
              "\n",
              "  <div id=\"df-c3fcda4e-1ce1-48a7-b165-76993d3f97f2\" class=\"colab-df-container\">\n",
              "    <div>\n",
              "<style scoped>\n",
              "    .dataframe tbody tr th:only-of-type {\n",
              "        vertical-align: middle;\n",
              "    }\n",
              "\n",
              "    .dataframe tbody tr th {\n",
              "        vertical-align: top;\n",
              "    }\n",
              "\n",
              "    .dataframe thead th {\n",
              "        text-align: right;\n",
              "    }\n",
              "</style>\n",
              "<table border=\"1\" class=\"dataframe\">\n",
              "  <thead>\n",
              "    <tr style=\"text-align: right;\">\n",
              "      <th></th>\n",
              "      <th>Time</th>\n",
              "      <th>0</th>\n",
              "      <th>1</th>\n",
              "      <th>2</th>\n",
              "      <th>3</th>\n",
              "      <th>4</th>\n",
              "      <th>5</th>\n",
              "      <th>6</th>\n",
              "      <th>7</th>\n",
              "      <th>8</th>\n",
              "      <th>...</th>\n",
              "      <th>581</th>\n",
              "      <th>582</th>\n",
              "      <th>583</th>\n",
              "      <th>584</th>\n",
              "      <th>585</th>\n",
              "      <th>586</th>\n",
              "      <th>587</th>\n",
              "      <th>588</th>\n",
              "      <th>589</th>\n",
              "      <th>Pass/Fail</th>\n",
              "    </tr>\n",
              "  </thead>\n",
              "  <tbody>\n",
              "    <tr>\n",
              "      <th>0</th>\n",
              "      <td>2008-07-19 11:55:00</td>\n",
              "      <td>3030.930000</td>\n",
              "      <td>2564.000000</td>\n",
              "      <td>2187.733300</td>\n",
              "      <td>1411.126500</td>\n",
              "      <td>1.360200</td>\n",
              "      <td>100.000000</td>\n",
              "      <td>97.613300</td>\n",
              "      <td>0.124200</td>\n",
              "      <td>1.500500</td>\n",
              "      <td>...</td>\n",
              "      <td>NaN</td>\n",
              "      <td>0.500500</td>\n",
              "      <td>0.011800</td>\n",
              "      <td>0.003500</td>\n",
              "      <td>2.363000</td>\n",
              "      <td>NaN</td>\n",
              "      <td>NaN</td>\n",
              "      <td>NaN</td>\n",
              "      <td>NaN</td>\n",
              "      <td>-1</td>\n",
              "    </tr>\n",
              "    <tr>\n",
              "      <th>1</th>\n",
              "      <td>2008-07-19 12:32:00</td>\n",
              "      <td>3095.780000</td>\n",
              "      <td>2465.140000</td>\n",
              "      <td>2230.422200</td>\n",
              "      <td>1463.660600</td>\n",
              "      <td>0.829400</td>\n",
              "      <td>100.000000</td>\n",
              "      <td>102.343300</td>\n",
              "      <td>0.124700</td>\n",
              "      <td>1.496600</td>\n",
              "      <td>...</td>\n",
              "      <td>208.204500</td>\n",
              "      <td>0.501900</td>\n",
              "      <td>0.022300</td>\n",
              "      <td>0.005500</td>\n",
              "      <td>4.444700</td>\n",
              "      <td>0.009600</td>\n",
              "      <td>0.020100</td>\n",
              "      <td>0.006000</td>\n",
              "      <td>208.204500</td>\n",
              "      <td>-1</td>\n",
              "    </tr>\n",
              "    <tr>\n",
              "      <th>2</th>\n",
              "      <td>2008-07-19 13:17:00</td>\n",
              "      <td>2932.610000</td>\n",
              "      <td>2559.940000</td>\n",
              "      <td>2186.411100</td>\n",
              "      <td>1698.017200</td>\n",
              "      <td>1.510200</td>\n",
              "      <td>100.000000</td>\n",
              "      <td>95.487800</td>\n",
              "      <td>0.124100</td>\n",
              "      <td>1.443600</td>\n",
              "      <td>...</td>\n",
              "      <td>82.860200</td>\n",
              "      <td>0.495800</td>\n",
              "      <td>0.015700</td>\n",
              "      <td>0.003900</td>\n",
              "      <td>3.174500</td>\n",
              "      <td>0.058400</td>\n",
              "      <td>0.048400</td>\n",
              "      <td>0.014800</td>\n",
              "      <td>82.860200</td>\n",
              "      <td>1</td>\n",
              "    </tr>\n",
              "    <tr>\n",
              "      <th>3</th>\n",
              "      <td>2008-07-19 14:43:00</td>\n",
              "      <td>2988.720000</td>\n",
              "      <td>2479.900000</td>\n",
              "      <td>2199.033300</td>\n",
              "      <td>909.792600</td>\n",
              "      <td>1.320400</td>\n",
              "      <td>100.000000</td>\n",
              "      <td>104.236700</td>\n",
              "      <td>0.121700</td>\n",
              "      <td>1.488200</td>\n",
              "      <td>...</td>\n",
              "      <td>73.843200</td>\n",
              "      <td>0.499000</td>\n",
              "      <td>0.010300</td>\n",
              "      <td>0.002500</td>\n",
              "      <td>2.054400</td>\n",
              "      <td>0.020200</td>\n",
              "      <td>0.014900</td>\n",
              "      <td>0.004400</td>\n",
              "      <td>73.843200</td>\n",
              "      <td>-1</td>\n",
              "    </tr>\n",
              "    <tr>\n",
              "      <th>4</th>\n",
              "      <td>2008-07-19 15:22:00</td>\n",
              "      <td>3032.240000</td>\n",
              "      <td>2502.870000</td>\n",
              "      <td>2233.366700</td>\n",
              "      <td>1326.520000</td>\n",
              "      <td>1.533400</td>\n",
              "      <td>100.000000</td>\n",
              "      <td>100.396700</td>\n",
              "      <td>0.123500</td>\n",
              "      <td>1.503100</td>\n",
              "      <td>...</td>\n",
              "      <td>NaN</td>\n",
              "      <td>0.480000</td>\n",
              "      <td>0.476600</td>\n",
              "      <td>0.104500</td>\n",
              "      <td>99.303200</td>\n",
              "      <td>0.020200</td>\n",
              "      <td>0.014900</td>\n",
              "      <td>0.004400</td>\n",
              "      <td>73.843200</td>\n",
              "      <td>-1</td>\n",
              "    </tr>\n",
              "  </tbody>\n",
              "</table>\n",
              "<p>5 rows × 592 columns</p>\n",
              "</div>\n",
              "    <div class=\"colab-df-buttons\">\n",
              "\n",
              "  <div class=\"colab-df-container\">\n",
              "    <button class=\"colab-df-convert\" onclick=\"convertToInteractive('df-c3fcda4e-1ce1-48a7-b165-76993d3f97f2')\"\n",
              "            title=\"Convert this dataframe to an interactive table.\"\n",
              "            style=\"display:none;\">\n",
              "\n",
              "  <svg xmlns=\"http://www.w3.org/2000/svg\" height=\"24px\" viewBox=\"0 -960 960 960\">\n",
              "    <path d=\"M120-120v-720h720v720H120Zm60-500h600v-160H180v160Zm220 220h160v-160H400v160Zm0 220h160v-160H400v160ZM180-400h160v-160H180v160Zm440 0h160v-160H620v160ZM180-180h160v-160H180v160Zm440 0h160v-160H620v160Z\"/>\n",
              "  </svg>\n",
              "    </button>\n",
              "\n",
              "  <style>\n",
              "    .colab-df-container {\n",
              "      display:flex;\n",
              "      gap: 12px;\n",
              "    }\n",
              "\n",
              "    .colab-df-convert {\n",
              "      background-color: #E8F0FE;\n",
              "      border: none;\n",
              "      border-radius: 50%;\n",
              "      cursor: pointer;\n",
              "      display: none;\n",
              "      fill: #1967D2;\n",
              "      height: 32px;\n",
              "      padding: 0 0 0 0;\n",
              "      width: 32px;\n",
              "    }\n",
              "\n",
              "    .colab-df-convert:hover {\n",
              "      background-color: #E2EBFA;\n",
              "      box-shadow: 0px 1px 2px rgba(60, 64, 67, 0.3), 0px 1px 3px 1px rgba(60, 64, 67, 0.15);\n",
              "      fill: #174EA6;\n",
              "    }\n",
              "\n",
              "    .colab-df-buttons div {\n",
              "      margin-bottom: 4px;\n",
              "    }\n",
              "\n",
              "    [theme=dark] .colab-df-convert {\n",
              "      background-color: #3B4455;\n",
              "      fill: #D2E3FC;\n",
              "    }\n",
              "\n",
              "    [theme=dark] .colab-df-convert:hover {\n",
              "      background-color: #434B5C;\n",
              "      box-shadow: 0px 1px 3px 1px rgba(0, 0, 0, 0.15);\n",
              "      filter: drop-shadow(0px 1px 2px rgba(0, 0, 0, 0.3));\n",
              "      fill: #FFFFFF;\n",
              "    }\n",
              "  </style>\n",
              "\n",
              "    <script>\n",
              "      const buttonEl =\n",
              "        document.querySelector('#df-c3fcda4e-1ce1-48a7-b165-76993d3f97f2 button.colab-df-convert');\n",
              "      buttonEl.style.display =\n",
              "        google.colab.kernel.accessAllowed ? 'block' : 'none';\n",
              "\n",
              "      async function convertToInteractive(key) {\n",
              "        const element = document.querySelector('#df-c3fcda4e-1ce1-48a7-b165-76993d3f97f2');\n",
              "        const dataTable =\n",
              "          await google.colab.kernel.invokeFunction('convertToInteractive',\n",
              "                                                    [key], {});\n",
              "        if (!dataTable) return;\n",
              "\n",
              "        const docLinkHtml = 'Like what you see? Visit the ' +\n",
              "          '<a target=\"_blank\" href=https://colab.research.google.com/notebooks/data_table.ipynb>data table notebook</a>'\n",
              "          + ' to learn more about interactive tables.';\n",
              "        element.innerHTML = '';\n",
              "        dataTable['output_type'] = 'display_data';\n",
              "        await google.colab.output.renderOutput(dataTable, element);\n",
              "        const docLink = document.createElement('div');\n",
              "        docLink.innerHTML = docLinkHtml;\n",
              "        element.appendChild(docLink);\n",
              "      }\n",
              "    </script>\n",
              "  </div>\n",
              "\n",
              "\n",
              "<div id=\"df-275292d8-74b8-4760-9509-d93e26a9fb5a\">\n",
              "  <button class=\"colab-df-quickchart\" onclick=\"quickchart('df-275292d8-74b8-4760-9509-d93e26a9fb5a')\"\n",
              "            title=\"Suggest charts.\"\n",
              "            style=\"display:none;\">\n",
              "\n",
              "<svg xmlns=\"http://www.w3.org/2000/svg\" height=\"24px\"viewBox=\"0 0 24 24\"\n",
              "     width=\"24px\">\n",
              "    <g>\n",
              "        <path d=\"M19 3H5c-1.1 0-2 .9-2 2v14c0 1.1.9 2 2 2h14c1.1 0 2-.9 2-2V5c0-1.1-.9-2-2-2zM9 17H7v-7h2v7zm4 0h-2V7h2v10zm4 0h-2v-4h2v4z\"/>\n",
              "    </g>\n",
              "</svg>\n",
              "  </button>\n",
              "\n",
              "<style>\n",
              "  .colab-df-quickchart {\n",
              "    background-color: #E8F0FE;\n",
              "    border: none;\n",
              "    border-radius: 50%;\n",
              "    cursor: pointer;\n",
              "    display: none;\n",
              "    fill: #1967D2;\n",
              "    height: 32px;\n",
              "    padding: 0 0 0 0;\n",
              "    width: 32px;\n",
              "  }\n",
              "\n",
              "  .colab-df-quickchart:hover {\n",
              "    background-color: #E2EBFA;\n",
              "    box-shadow: 0px 1px 2px rgba(60, 64, 67, 0.3), 0px 1px 3px 1px rgba(60, 64, 67, 0.15);\n",
              "    fill: #174EA6;\n",
              "  }\n",
              "\n",
              "  [theme=dark] .colab-df-quickchart {\n",
              "    background-color: #3B4455;\n",
              "    fill: #D2E3FC;\n",
              "  }\n",
              "\n",
              "  [theme=dark] .colab-df-quickchart:hover {\n",
              "    background-color: #434B5C;\n",
              "    box-shadow: 0px 1px 3px 1px rgba(0, 0, 0, 0.15);\n",
              "    filter: drop-shadow(0px 1px 2px rgba(0, 0, 0, 0.3));\n",
              "    fill: #FFFFFF;\n",
              "  }\n",
              "</style>\n",
              "\n",
              "  <script>\n",
              "    async function quickchart(key) {\n",
              "      const charts = await google.colab.kernel.invokeFunction(\n",
              "          'suggestCharts', [key], {});\n",
              "    }\n",
              "    (() => {\n",
              "      let quickchartButtonEl =\n",
              "        document.querySelector('#df-275292d8-74b8-4760-9509-d93e26a9fb5a button');\n",
              "      quickchartButtonEl.style.display =\n",
              "        google.colab.kernel.accessAllowed ? 'block' : 'none';\n",
              "    })();\n",
              "  </script>\n",
              "</div>\n",
              "    </div>\n",
              "  </div>\n"
            ]
          },
          "metadata": {},
          "execution_count": 159
        }
      ]
    },
    {
      "cell_type": "code",
      "source": [
        "df_signal.info()"
      ],
      "metadata": {
        "colab": {
          "base_uri": "https://localhost:8080/"
        },
        "id": "9uvm2gUw50Au",
        "outputId": "d9ab372c-7708-4009-f230-c6fa316892e4"
      },
      "execution_count": 160,
      "outputs": [
        {
          "output_type": "stream",
          "name": "stdout",
          "text": [
            "<class 'pandas.core.frame.DataFrame'>\n",
            "RangeIndex: 1567 entries, 0 to 1566\n",
            "Columns: 592 entries, Time to Pass/Fail\n",
            "dtypes: float64(590), int64(1), object(1)\n",
            "memory usage: 7.1+ MB\n"
          ]
        }
      ]
    },
    {
      "cell_type": "markdown",
      "source": [
        "Q1 - Print 5 point summary and share at least 2 observations."
      ],
      "metadata": {
        "id": "of1lbNH66Ouk"
      }
    },
    {
      "cell_type": "code",
      "source": [
        "df_signal.describe()"
      ],
      "metadata": {
        "colab": {
          "base_uri": "https://localhost:8080/",
          "height": 349
        },
        "id": "k407CZeV-PWJ",
        "outputId": "7f98442a-5649-494e-9433-310b1145ca13"
      },
      "execution_count": 161,
      "outputs": [
        {
          "output_type": "execute_result",
          "data": {
            "text/plain": [
              "                0           1           2           3           4           5  \\\n",
              "count 1561.000000 1560.000000 1553.000000 1553.000000 1553.000000 1553.000000   \n",
              "mean  3014.452896 2495.850231 2200.547318 1396.376627    4.197013  100.000000   \n",
              "std     73.621787   80.407705   29.513152  441.691640   56.355540    0.000000   \n",
              "min   2743.240000 2158.750000 2060.660000    0.000000    0.681500  100.000000   \n",
              "25%   2966.260000 2452.247500 2181.044400 1081.875800    1.017700  100.000000   \n",
              "50%   3011.490000 2499.405000 2201.066700 1285.214400    1.316800  100.000000   \n",
              "75%   3056.650000 2538.822500 2218.055500 1591.223500    1.525700  100.000000   \n",
              "max   3356.350000 2846.440000 2315.266700 3715.041700 1114.536600  100.000000   \n",
              "\n",
              "                6           7           8           9  ...        581  \\\n",
              "count 1553.000000 1558.000000 1565.000000 1565.000000  ... 618.000000   \n",
              "mean   101.112908    0.121822    1.462862   -0.000841  ...  97.934373   \n",
              "std      6.237214    0.008961    0.073897    0.015116  ...  87.520966   \n",
              "min     82.131100    0.000000    1.191000   -0.053400  ...   0.000000   \n",
              "25%     97.920000    0.121100    1.411200   -0.010800  ...  46.184900   \n",
              "50%    101.512200    0.122400    1.461600   -0.001300  ...  72.288900   \n",
              "75%    104.586700    0.123800    1.516900    0.008400  ... 116.539150   \n",
              "max    129.252200    0.128600    1.656400    0.074900  ... 737.304800   \n",
              "\n",
              "              582         583         584         585         586         587  \\\n",
              "count 1566.000000 1566.000000 1566.000000 1566.000000 1566.000000 1566.000000   \n",
              "mean     0.500096    0.015318    0.003847    3.067826    0.021458    0.016475   \n",
              "std      0.003404    0.017180    0.003720    3.578033    0.012358    0.008808   \n",
              "min      0.477800    0.006000    0.001700    1.197500   -0.016900    0.003200   \n",
              "25%      0.497900    0.011600    0.003100    2.306500    0.013425    0.010600   \n",
              "50%      0.500200    0.013800    0.003600    2.757650    0.020500    0.014800   \n",
              "75%      0.502375    0.016500    0.004100    3.295175    0.027600    0.020300   \n",
              "max      0.509800    0.476600    0.104500   99.303200    0.102800    0.079900   \n",
              "\n",
              "              588         589   Pass/Fail  \n",
              "count 1566.000000 1566.000000 1567.000000  \n",
              "mean     0.005283   99.670066   -0.867262  \n",
              "std      0.002867   93.891919    0.498010  \n",
              "min      0.001000    0.000000   -1.000000  \n",
              "25%      0.003300   44.368600   -1.000000  \n",
              "50%      0.004600   71.900500   -1.000000  \n",
              "75%      0.006400  114.749700   -1.000000  \n",
              "max      0.028600  737.304800    1.000000  \n",
              "\n",
              "[8 rows x 591 columns]"
            ],
            "text/html": [
              "\n",
              "  <div id=\"df-777edc3b-8d4c-4480-8d64-aea718650b9b\" class=\"colab-df-container\">\n",
              "    <div>\n",
              "<style scoped>\n",
              "    .dataframe tbody tr th:only-of-type {\n",
              "        vertical-align: middle;\n",
              "    }\n",
              "\n",
              "    .dataframe tbody tr th {\n",
              "        vertical-align: top;\n",
              "    }\n",
              "\n",
              "    .dataframe thead th {\n",
              "        text-align: right;\n",
              "    }\n",
              "</style>\n",
              "<table border=\"1\" class=\"dataframe\">\n",
              "  <thead>\n",
              "    <tr style=\"text-align: right;\">\n",
              "      <th></th>\n",
              "      <th>0</th>\n",
              "      <th>1</th>\n",
              "      <th>2</th>\n",
              "      <th>3</th>\n",
              "      <th>4</th>\n",
              "      <th>5</th>\n",
              "      <th>6</th>\n",
              "      <th>7</th>\n",
              "      <th>8</th>\n",
              "      <th>9</th>\n",
              "      <th>...</th>\n",
              "      <th>581</th>\n",
              "      <th>582</th>\n",
              "      <th>583</th>\n",
              "      <th>584</th>\n",
              "      <th>585</th>\n",
              "      <th>586</th>\n",
              "      <th>587</th>\n",
              "      <th>588</th>\n",
              "      <th>589</th>\n",
              "      <th>Pass/Fail</th>\n",
              "    </tr>\n",
              "  </thead>\n",
              "  <tbody>\n",
              "    <tr>\n",
              "      <th>count</th>\n",
              "      <td>1561.000000</td>\n",
              "      <td>1560.000000</td>\n",
              "      <td>1553.000000</td>\n",
              "      <td>1553.000000</td>\n",
              "      <td>1553.000000</td>\n",
              "      <td>1553.000000</td>\n",
              "      <td>1553.000000</td>\n",
              "      <td>1558.000000</td>\n",
              "      <td>1565.000000</td>\n",
              "      <td>1565.000000</td>\n",
              "      <td>...</td>\n",
              "      <td>618.000000</td>\n",
              "      <td>1566.000000</td>\n",
              "      <td>1566.000000</td>\n",
              "      <td>1566.000000</td>\n",
              "      <td>1566.000000</td>\n",
              "      <td>1566.000000</td>\n",
              "      <td>1566.000000</td>\n",
              "      <td>1566.000000</td>\n",
              "      <td>1566.000000</td>\n",
              "      <td>1567.000000</td>\n",
              "    </tr>\n",
              "    <tr>\n",
              "      <th>mean</th>\n",
              "      <td>3014.452896</td>\n",
              "      <td>2495.850231</td>\n",
              "      <td>2200.547318</td>\n",
              "      <td>1396.376627</td>\n",
              "      <td>4.197013</td>\n",
              "      <td>100.000000</td>\n",
              "      <td>101.112908</td>\n",
              "      <td>0.121822</td>\n",
              "      <td>1.462862</td>\n",
              "      <td>-0.000841</td>\n",
              "      <td>...</td>\n",
              "      <td>97.934373</td>\n",
              "      <td>0.500096</td>\n",
              "      <td>0.015318</td>\n",
              "      <td>0.003847</td>\n",
              "      <td>3.067826</td>\n",
              "      <td>0.021458</td>\n",
              "      <td>0.016475</td>\n",
              "      <td>0.005283</td>\n",
              "      <td>99.670066</td>\n",
              "      <td>-0.867262</td>\n",
              "    </tr>\n",
              "    <tr>\n",
              "      <th>std</th>\n",
              "      <td>73.621787</td>\n",
              "      <td>80.407705</td>\n",
              "      <td>29.513152</td>\n",
              "      <td>441.691640</td>\n",
              "      <td>56.355540</td>\n",
              "      <td>0.000000</td>\n",
              "      <td>6.237214</td>\n",
              "      <td>0.008961</td>\n",
              "      <td>0.073897</td>\n",
              "      <td>0.015116</td>\n",
              "      <td>...</td>\n",
              "      <td>87.520966</td>\n",
              "      <td>0.003404</td>\n",
              "      <td>0.017180</td>\n",
              "      <td>0.003720</td>\n",
              "      <td>3.578033</td>\n",
              "      <td>0.012358</td>\n",
              "      <td>0.008808</td>\n",
              "      <td>0.002867</td>\n",
              "      <td>93.891919</td>\n",
              "      <td>0.498010</td>\n",
              "    </tr>\n",
              "    <tr>\n",
              "      <th>min</th>\n",
              "      <td>2743.240000</td>\n",
              "      <td>2158.750000</td>\n",
              "      <td>2060.660000</td>\n",
              "      <td>0.000000</td>\n",
              "      <td>0.681500</td>\n",
              "      <td>100.000000</td>\n",
              "      <td>82.131100</td>\n",
              "      <td>0.000000</td>\n",
              "      <td>1.191000</td>\n",
              "      <td>-0.053400</td>\n",
              "      <td>...</td>\n",
              "      <td>0.000000</td>\n",
              "      <td>0.477800</td>\n",
              "      <td>0.006000</td>\n",
              "      <td>0.001700</td>\n",
              "      <td>1.197500</td>\n",
              "      <td>-0.016900</td>\n",
              "      <td>0.003200</td>\n",
              "      <td>0.001000</td>\n",
              "      <td>0.000000</td>\n",
              "      <td>-1.000000</td>\n",
              "    </tr>\n",
              "    <tr>\n",
              "      <th>25%</th>\n",
              "      <td>2966.260000</td>\n",
              "      <td>2452.247500</td>\n",
              "      <td>2181.044400</td>\n",
              "      <td>1081.875800</td>\n",
              "      <td>1.017700</td>\n",
              "      <td>100.000000</td>\n",
              "      <td>97.920000</td>\n",
              "      <td>0.121100</td>\n",
              "      <td>1.411200</td>\n",
              "      <td>-0.010800</td>\n",
              "      <td>...</td>\n",
              "      <td>46.184900</td>\n",
              "      <td>0.497900</td>\n",
              "      <td>0.011600</td>\n",
              "      <td>0.003100</td>\n",
              "      <td>2.306500</td>\n",
              "      <td>0.013425</td>\n",
              "      <td>0.010600</td>\n",
              "      <td>0.003300</td>\n",
              "      <td>44.368600</td>\n",
              "      <td>-1.000000</td>\n",
              "    </tr>\n",
              "    <tr>\n",
              "      <th>50%</th>\n",
              "      <td>3011.490000</td>\n",
              "      <td>2499.405000</td>\n",
              "      <td>2201.066700</td>\n",
              "      <td>1285.214400</td>\n",
              "      <td>1.316800</td>\n",
              "      <td>100.000000</td>\n",
              "      <td>101.512200</td>\n",
              "      <td>0.122400</td>\n",
              "      <td>1.461600</td>\n",
              "      <td>-0.001300</td>\n",
              "      <td>...</td>\n",
              "      <td>72.288900</td>\n",
              "      <td>0.500200</td>\n",
              "      <td>0.013800</td>\n",
              "      <td>0.003600</td>\n",
              "      <td>2.757650</td>\n",
              "      <td>0.020500</td>\n",
              "      <td>0.014800</td>\n",
              "      <td>0.004600</td>\n",
              "      <td>71.900500</td>\n",
              "      <td>-1.000000</td>\n",
              "    </tr>\n",
              "    <tr>\n",
              "      <th>75%</th>\n",
              "      <td>3056.650000</td>\n",
              "      <td>2538.822500</td>\n",
              "      <td>2218.055500</td>\n",
              "      <td>1591.223500</td>\n",
              "      <td>1.525700</td>\n",
              "      <td>100.000000</td>\n",
              "      <td>104.586700</td>\n",
              "      <td>0.123800</td>\n",
              "      <td>1.516900</td>\n",
              "      <td>0.008400</td>\n",
              "      <td>...</td>\n",
              "      <td>116.539150</td>\n",
              "      <td>0.502375</td>\n",
              "      <td>0.016500</td>\n",
              "      <td>0.004100</td>\n",
              "      <td>3.295175</td>\n",
              "      <td>0.027600</td>\n",
              "      <td>0.020300</td>\n",
              "      <td>0.006400</td>\n",
              "      <td>114.749700</td>\n",
              "      <td>-1.000000</td>\n",
              "    </tr>\n",
              "    <tr>\n",
              "      <th>max</th>\n",
              "      <td>3356.350000</td>\n",
              "      <td>2846.440000</td>\n",
              "      <td>2315.266700</td>\n",
              "      <td>3715.041700</td>\n",
              "      <td>1114.536600</td>\n",
              "      <td>100.000000</td>\n",
              "      <td>129.252200</td>\n",
              "      <td>0.128600</td>\n",
              "      <td>1.656400</td>\n",
              "      <td>0.074900</td>\n",
              "      <td>...</td>\n",
              "      <td>737.304800</td>\n",
              "      <td>0.509800</td>\n",
              "      <td>0.476600</td>\n",
              "      <td>0.104500</td>\n",
              "      <td>99.303200</td>\n",
              "      <td>0.102800</td>\n",
              "      <td>0.079900</td>\n",
              "      <td>0.028600</td>\n",
              "      <td>737.304800</td>\n",
              "      <td>1.000000</td>\n",
              "    </tr>\n",
              "  </tbody>\n",
              "</table>\n",
              "<p>8 rows × 591 columns</p>\n",
              "</div>\n",
              "    <div class=\"colab-df-buttons\">\n",
              "\n",
              "  <div class=\"colab-df-container\">\n",
              "    <button class=\"colab-df-convert\" onclick=\"convertToInteractive('df-777edc3b-8d4c-4480-8d64-aea718650b9b')\"\n",
              "            title=\"Convert this dataframe to an interactive table.\"\n",
              "            style=\"display:none;\">\n",
              "\n",
              "  <svg xmlns=\"http://www.w3.org/2000/svg\" height=\"24px\" viewBox=\"0 -960 960 960\">\n",
              "    <path d=\"M120-120v-720h720v720H120Zm60-500h600v-160H180v160Zm220 220h160v-160H400v160Zm0 220h160v-160H400v160ZM180-400h160v-160H180v160Zm440 0h160v-160H620v160ZM180-180h160v-160H180v160Zm440 0h160v-160H620v160Z\"/>\n",
              "  </svg>\n",
              "    </button>\n",
              "\n",
              "  <style>\n",
              "    .colab-df-container {\n",
              "      display:flex;\n",
              "      gap: 12px;\n",
              "    }\n",
              "\n",
              "    .colab-df-convert {\n",
              "      background-color: #E8F0FE;\n",
              "      border: none;\n",
              "      border-radius: 50%;\n",
              "      cursor: pointer;\n",
              "      display: none;\n",
              "      fill: #1967D2;\n",
              "      height: 32px;\n",
              "      padding: 0 0 0 0;\n",
              "      width: 32px;\n",
              "    }\n",
              "\n",
              "    .colab-df-convert:hover {\n",
              "      background-color: #E2EBFA;\n",
              "      box-shadow: 0px 1px 2px rgba(60, 64, 67, 0.3), 0px 1px 3px 1px rgba(60, 64, 67, 0.15);\n",
              "      fill: #174EA6;\n",
              "    }\n",
              "\n",
              "    .colab-df-buttons div {\n",
              "      margin-bottom: 4px;\n",
              "    }\n",
              "\n",
              "    [theme=dark] .colab-df-convert {\n",
              "      background-color: #3B4455;\n",
              "      fill: #D2E3FC;\n",
              "    }\n",
              "\n",
              "    [theme=dark] .colab-df-convert:hover {\n",
              "      background-color: #434B5C;\n",
              "      box-shadow: 0px 1px 3px 1px rgba(0, 0, 0, 0.15);\n",
              "      filter: drop-shadow(0px 1px 2px rgba(0, 0, 0, 0.3));\n",
              "      fill: #FFFFFF;\n",
              "    }\n",
              "  </style>\n",
              "\n",
              "    <script>\n",
              "      const buttonEl =\n",
              "        document.querySelector('#df-777edc3b-8d4c-4480-8d64-aea718650b9b button.colab-df-convert');\n",
              "      buttonEl.style.display =\n",
              "        google.colab.kernel.accessAllowed ? 'block' : 'none';\n",
              "\n",
              "      async function convertToInteractive(key) {\n",
              "        const element = document.querySelector('#df-777edc3b-8d4c-4480-8d64-aea718650b9b');\n",
              "        const dataTable =\n",
              "          await google.colab.kernel.invokeFunction('convertToInteractive',\n",
              "                                                    [key], {});\n",
              "        if (!dataTable) return;\n",
              "\n",
              "        const docLinkHtml = 'Like what you see? Visit the ' +\n",
              "          '<a target=\"_blank\" href=https://colab.research.google.com/notebooks/data_table.ipynb>data table notebook</a>'\n",
              "          + ' to learn more about interactive tables.';\n",
              "        element.innerHTML = '';\n",
              "        dataTable['output_type'] = 'display_data';\n",
              "        await google.colab.output.renderOutput(dataTable, element);\n",
              "        const docLink = document.createElement('div');\n",
              "        docLink.innerHTML = docLinkHtml;\n",
              "        element.appendChild(docLink);\n",
              "      }\n",
              "    </script>\n",
              "  </div>\n",
              "\n",
              "\n",
              "<div id=\"df-fce52dfd-1142-4225-963a-2fe88e785e3d\">\n",
              "  <button class=\"colab-df-quickchart\" onclick=\"quickchart('df-fce52dfd-1142-4225-963a-2fe88e785e3d')\"\n",
              "            title=\"Suggest charts.\"\n",
              "            style=\"display:none;\">\n",
              "\n",
              "<svg xmlns=\"http://www.w3.org/2000/svg\" height=\"24px\"viewBox=\"0 0 24 24\"\n",
              "     width=\"24px\">\n",
              "    <g>\n",
              "        <path d=\"M19 3H5c-1.1 0-2 .9-2 2v14c0 1.1.9 2 2 2h14c1.1 0 2-.9 2-2V5c0-1.1-.9-2-2-2zM9 17H7v-7h2v7zm4 0h-2V7h2v10zm4 0h-2v-4h2v4z\"/>\n",
              "    </g>\n",
              "</svg>\n",
              "  </button>\n",
              "\n",
              "<style>\n",
              "  .colab-df-quickchart {\n",
              "    background-color: #E8F0FE;\n",
              "    border: none;\n",
              "    border-radius: 50%;\n",
              "    cursor: pointer;\n",
              "    display: none;\n",
              "    fill: #1967D2;\n",
              "    height: 32px;\n",
              "    padding: 0 0 0 0;\n",
              "    width: 32px;\n",
              "  }\n",
              "\n",
              "  .colab-df-quickchart:hover {\n",
              "    background-color: #E2EBFA;\n",
              "    box-shadow: 0px 1px 2px rgba(60, 64, 67, 0.3), 0px 1px 3px 1px rgba(60, 64, 67, 0.15);\n",
              "    fill: #174EA6;\n",
              "  }\n",
              "\n",
              "  [theme=dark] .colab-df-quickchart {\n",
              "    background-color: #3B4455;\n",
              "    fill: #D2E3FC;\n",
              "  }\n",
              "\n",
              "  [theme=dark] .colab-df-quickchart:hover {\n",
              "    background-color: #434B5C;\n",
              "    box-shadow: 0px 1px 3px 1px rgba(0, 0, 0, 0.15);\n",
              "    filter: drop-shadow(0px 1px 2px rgba(0, 0, 0, 0.3));\n",
              "    fill: #FFFFFF;\n",
              "  }\n",
              "</style>\n",
              "\n",
              "  <script>\n",
              "    async function quickchart(key) {\n",
              "      const charts = await google.colab.kernel.invokeFunction(\n",
              "          'suggestCharts', [key], {});\n",
              "    }\n",
              "    (() => {\n",
              "      let quickchartButtonEl =\n",
              "        document.querySelector('#df-fce52dfd-1142-4225-963a-2fe88e785e3d button');\n",
              "      quickchartButtonEl.style.display =\n",
              "        google.colab.kernel.accessAllowed ? 'block' : 'none';\n",
              "    })();\n",
              "  </script>\n",
              "</div>\n",
              "    </div>\n",
              "  </div>\n"
            ]
          },
          "metadata": {},
          "execution_count": 161
        }
      ]
    },
    {
      "cell_type": "markdown",
      "source": [
        "\n",
        "Talking on 5 point summary is difficult as the column number is huge. The scales vary a lot amongst columns however they have been handled in questions below. The column number is also huge, hence column reduction has been applied"
      ],
      "metadata": {
        "id": "j4LEbapfCWD2"
      }
    },
    {
      "cell_type": "markdown",
      "source": [
        "Q2 A - Write a for loop which will remove all the features with 20%+ Null values and impute rest with mean of the feature."
      ],
      "metadata": {
        "id": "OHNDTaSTAvDJ"
      }
    },
    {
      "cell_type": "code",
      "source": [
        "for col in df_signal:\n",
        "  percent_missing = df_signal[col].isnull().sum() * 100 / len(df_signal)\n",
        "  if percent_missing>20:\n",
        "    df_signal.drop(col,axis=1,inplace=True)\n",
        "  else:\n",
        "    df_signal.fillna(df_signal.mean(numeric_only=True).round(1), inplace=True)"
      ],
      "metadata": {
        "id": "dApitUElCOqd"
      },
      "execution_count": 12,
      "outputs": []
    },
    {
      "cell_type": "code",
      "source": [
        "df_signal.head()"
      ],
      "metadata": {
        "colab": {
          "base_uri": "https://localhost:8080/",
          "height": 429
        },
        "id": "qKj9XW57H6rr",
        "outputId": "f5514ed0-5e11-4012-b0bb-0a5d6ba93b45"
      },
      "execution_count": 13,
      "outputs": [
        {
          "output_type": "execute_result",
          "data": {
            "text/plain": [
              "                  Time           0           1           2           3  \\\n",
              "0  2008-07-19 11:55:00 3030.930000 2564.000000 2187.733300 1411.126500   \n",
              "1  2008-07-19 12:32:00 3095.780000 2465.140000 2230.422200 1463.660600   \n",
              "2  2008-07-19 13:17:00 2932.610000 2559.940000 2186.411100 1698.017200   \n",
              "3  2008-07-19 14:43:00 2988.720000 2479.900000 2199.033300  909.792600   \n",
              "4  2008-07-19 15:22:00 3032.240000 2502.870000 2233.366700 1326.520000   \n",
              "\n",
              "         4          5          6        7        8  ...        581      582  \\\n",
              "0 1.360200 100.000000  97.613300 0.124200 1.500500  ...  97.900000 0.500500   \n",
              "1 0.829400 100.000000 102.343300 0.124700 1.496600  ... 208.204500 0.501900   \n",
              "2 1.510200 100.000000  95.487800 0.124100 1.443600  ...  82.860200 0.495800   \n",
              "3 1.320400 100.000000 104.236700 0.121700 1.488200  ...  73.843200 0.499000   \n",
              "4 1.533400 100.000000 100.396700 0.123500 1.503100  ...  97.900000 0.480000   \n",
              "\n",
              "       583      584       585      586      587      588        589  Pass/Fail  \n",
              "0 0.011800 0.003500  2.363000 0.000000 0.000000 0.000000  99.700000         -1  \n",
              "1 0.022300 0.005500  4.444700 0.009600 0.020100 0.006000 208.204500         -1  \n",
              "2 0.015700 0.003900  3.174500 0.058400 0.048400 0.014800  82.860200          1  \n",
              "3 0.010300 0.002500  2.054400 0.020200 0.014900 0.004400  73.843200         -1  \n",
              "4 0.476600 0.104500 99.303200 0.020200 0.014900 0.004400  73.843200         -1  \n",
              "\n",
              "[5 rows x 592 columns]"
            ],
            "text/html": [
              "\n",
              "  <div id=\"df-3da79af6-293f-4498-919e-14e94d25d3d3\" class=\"colab-df-container\">\n",
              "    <div>\n",
              "<style scoped>\n",
              "    .dataframe tbody tr th:only-of-type {\n",
              "        vertical-align: middle;\n",
              "    }\n",
              "\n",
              "    .dataframe tbody tr th {\n",
              "        vertical-align: top;\n",
              "    }\n",
              "\n",
              "    .dataframe thead th {\n",
              "        text-align: right;\n",
              "    }\n",
              "</style>\n",
              "<table border=\"1\" class=\"dataframe\">\n",
              "  <thead>\n",
              "    <tr style=\"text-align: right;\">\n",
              "      <th></th>\n",
              "      <th>Time</th>\n",
              "      <th>0</th>\n",
              "      <th>1</th>\n",
              "      <th>2</th>\n",
              "      <th>3</th>\n",
              "      <th>4</th>\n",
              "      <th>5</th>\n",
              "      <th>6</th>\n",
              "      <th>7</th>\n",
              "      <th>8</th>\n",
              "      <th>...</th>\n",
              "      <th>581</th>\n",
              "      <th>582</th>\n",
              "      <th>583</th>\n",
              "      <th>584</th>\n",
              "      <th>585</th>\n",
              "      <th>586</th>\n",
              "      <th>587</th>\n",
              "      <th>588</th>\n",
              "      <th>589</th>\n",
              "      <th>Pass/Fail</th>\n",
              "    </tr>\n",
              "  </thead>\n",
              "  <tbody>\n",
              "    <tr>\n",
              "      <th>0</th>\n",
              "      <td>2008-07-19 11:55:00</td>\n",
              "      <td>3030.930000</td>\n",
              "      <td>2564.000000</td>\n",
              "      <td>2187.733300</td>\n",
              "      <td>1411.126500</td>\n",
              "      <td>1.360200</td>\n",
              "      <td>100.000000</td>\n",
              "      <td>97.613300</td>\n",
              "      <td>0.124200</td>\n",
              "      <td>1.500500</td>\n",
              "      <td>...</td>\n",
              "      <td>97.900000</td>\n",
              "      <td>0.500500</td>\n",
              "      <td>0.011800</td>\n",
              "      <td>0.003500</td>\n",
              "      <td>2.363000</td>\n",
              "      <td>0.000000</td>\n",
              "      <td>0.000000</td>\n",
              "      <td>0.000000</td>\n",
              "      <td>99.700000</td>\n",
              "      <td>-1</td>\n",
              "    </tr>\n",
              "    <tr>\n",
              "      <th>1</th>\n",
              "      <td>2008-07-19 12:32:00</td>\n",
              "      <td>3095.780000</td>\n",
              "      <td>2465.140000</td>\n",
              "      <td>2230.422200</td>\n",
              "      <td>1463.660600</td>\n",
              "      <td>0.829400</td>\n",
              "      <td>100.000000</td>\n",
              "      <td>102.343300</td>\n",
              "      <td>0.124700</td>\n",
              "      <td>1.496600</td>\n",
              "      <td>...</td>\n",
              "      <td>208.204500</td>\n",
              "      <td>0.501900</td>\n",
              "      <td>0.022300</td>\n",
              "      <td>0.005500</td>\n",
              "      <td>4.444700</td>\n",
              "      <td>0.009600</td>\n",
              "      <td>0.020100</td>\n",
              "      <td>0.006000</td>\n",
              "      <td>208.204500</td>\n",
              "      <td>-1</td>\n",
              "    </tr>\n",
              "    <tr>\n",
              "      <th>2</th>\n",
              "      <td>2008-07-19 13:17:00</td>\n",
              "      <td>2932.610000</td>\n",
              "      <td>2559.940000</td>\n",
              "      <td>2186.411100</td>\n",
              "      <td>1698.017200</td>\n",
              "      <td>1.510200</td>\n",
              "      <td>100.000000</td>\n",
              "      <td>95.487800</td>\n",
              "      <td>0.124100</td>\n",
              "      <td>1.443600</td>\n",
              "      <td>...</td>\n",
              "      <td>82.860200</td>\n",
              "      <td>0.495800</td>\n",
              "      <td>0.015700</td>\n",
              "      <td>0.003900</td>\n",
              "      <td>3.174500</td>\n",
              "      <td>0.058400</td>\n",
              "      <td>0.048400</td>\n",
              "      <td>0.014800</td>\n",
              "      <td>82.860200</td>\n",
              "      <td>1</td>\n",
              "    </tr>\n",
              "    <tr>\n",
              "      <th>3</th>\n",
              "      <td>2008-07-19 14:43:00</td>\n",
              "      <td>2988.720000</td>\n",
              "      <td>2479.900000</td>\n",
              "      <td>2199.033300</td>\n",
              "      <td>909.792600</td>\n",
              "      <td>1.320400</td>\n",
              "      <td>100.000000</td>\n",
              "      <td>104.236700</td>\n",
              "      <td>0.121700</td>\n",
              "      <td>1.488200</td>\n",
              "      <td>...</td>\n",
              "      <td>73.843200</td>\n",
              "      <td>0.499000</td>\n",
              "      <td>0.010300</td>\n",
              "      <td>0.002500</td>\n",
              "      <td>2.054400</td>\n",
              "      <td>0.020200</td>\n",
              "      <td>0.014900</td>\n",
              "      <td>0.004400</td>\n",
              "      <td>73.843200</td>\n",
              "      <td>-1</td>\n",
              "    </tr>\n",
              "    <tr>\n",
              "      <th>4</th>\n",
              "      <td>2008-07-19 15:22:00</td>\n",
              "      <td>3032.240000</td>\n",
              "      <td>2502.870000</td>\n",
              "      <td>2233.366700</td>\n",
              "      <td>1326.520000</td>\n",
              "      <td>1.533400</td>\n",
              "      <td>100.000000</td>\n",
              "      <td>100.396700</td>\n",
              "      <td>0.123500</td>\n",
              "      <td>1.503100</td>\n",
              "      <td>...</td>\n",
              "      <td>97.900000</td>\n",
              "      <td>0.480000</td>\n",
              "      <td>0.476600</td>\n",
              "      <td>0.104500</td>\n",
              "      <td>99.303200</td>\n",
              "      <td>0.020200</td>\n",
              "      <td>0.014900</td>\n",
              "      <td>0.004400</td>\n",
              "      <td>73.843200</td>\n",
              "      <td>-1</td>\n",
              "    </tr>\n",
              "  </tbody>\n",
              "</table>\n",
              "<p>5 rows × 592 columns</p>\n",
              "</div>\n",
              "    <div class=\"colab-df-buttons\">\n",
              "\n",
              "  <div class=\"colab-df-container\">\n",
              "    <button class=\"colab-df-convert\" onclick=\"convertToInteractive('df-3da79af6-293f-4498-919e-14e94d25d3d3')\"\n",
              "            title=\"Convert this dataframe to an interactive table.\"\n",
              "            style=\"display:none;\">\n",
              "\n",
              "  <svg xmlns=\"http://www.w3.org/2000/svg\" height=\"24px\" viewBox=\"0 -960 960 960\">\n",
              "    <path d=\"M120-120v-720h720v720H120Zm60-500h600v-160H180v160Zm220 220h160v-160H400v160Zm0 220h160v-160H400v160ZM180-400h160v-160H180v160Zm440 0h160v-160H620v160ZM180-180h160v-160H180v160Zm440 0h160v-160H620v160Z\"/>\n",
              "  </svg>\n",
              "    </button>\n",
              "\n",
              "  <style>\n",
              "    .colab-df-container {\n",
              "      display:flex;\n",
              "      gap: 12px;\n",
              "    }\n",
              "\n",
              "    .colab-df-convert {\n",
              "      background-color: #E8F0FE;\n",
              "      border: none;\n",
              "      border-radius: 50%;\n",
              "      cursor: pointer;\n",
              "      display: none;\n",
              "      fill: #1967D2;\n",
              "      height: 32px;\n",
              "      padding: 0 0 0 0;\n",
              "      width: 32px;\n",
              "    }\n",
              "\n",
              "    .colab-df-convert:hover {\n",
              "      background-color: #E2EBFA;\n",
              "      box-shadow: 0px 1px 2px rgba(60, 64, 67, 0.3), 0px 1px 3px 1px rgba(60, 64, 67, 0.15);\n",
              "      fill: #174EA6;\n",
              "    }\n",
              "\n",
              "    .colab-df-buttons div {\n",
              "      margin-bottom: 4px;\n",
              "    }\n",
              "\n",
              "    [theme=dark] .colab-df-convert {\n",
              "      background-color: #3B4455;\n",
              "      fill: #D2E3FC;\n",
              "    }\n",
              "\n",
              "    [theme=dark] .colab-df-convert:hover {\n",
              "      background-color: #434B5C;\n",
              "      box-shadow: 0px 1px 3px 1px rgba(0, 0, 0, 0.15);\n",
              "      filter: drop-shadow(0px 1px 2px rgba(0, 0, 0, 0.3));\n",
              "      fill: #FFFFFF;\n",
              "    }\n",
              "  </style>\n",
              "\n",
              "    <script>\n",
              "      const buttonEl =\n",
              "        document.querySelector('#df-3da79af6-293f-4498-919e-14e94d25d3d3 button.colab-df-convert');\n",
              "      buttonEl.style.display =\n",
              "        google.colab.kernel.accessAllowed ? 'block' : 'none';\n",
              "\n",
              "      async function convertToInteractive(key) {\n",
              "        const element = document.querySelector('#df-3da79af6-293f-4498-919e-14e94d25d3d3');\n",
              "        const dataTable =\n",
              "          await google.colab.kernel.invokeFunction('convertToInteractive',\n",
              "                                                    [key], {});\n",
              "        if (!dataTable) return;\n",
              "\n",
              "        const docLinkHtml = 'Like what you see? Visit the ' +\n",
              "          '<a target=\"_blank\" href=https://colab.research.google.com/notebooks/data_table.ipynb>data table notebook</a>'\n",
              "          + ' to learn more about interactive tables.';\n",
              "        element.innerHTML = '';\n",
              "        dataTable['output_type'] = 'display_data';\n",
              "        await google.colab.output.renderOutput(dataTable, element);\n",
              "        const docLink = document.createElement('div');\n",
              "        docLink.innerHTML = docLinkHtml;\n",
              "        element.appendChild(docLink);\n",
              "      }\n",
              "    </script>\n",
              "  </div>\n",
              "\n",
              "\n",
              "<div id=\"df-f149d255-4510-43b5-bc3c-619f458af56e\">\n",
              "  <button class=\"colab-df-quickchart\" onclick=\"quickchart('df-f149d255-4510-43b5-bc3c-619f458af56e')\"\n",
              "            title=\"Suggest charts.\"\n",
              "            style=\"display:none;\">\n",
              "\n",
              "<svg xmlns=\"http://www.w3.org/2000/svg\" height=\"24px\"viewBox=\"0 0 24 24\"\n",
              "     width=\"24px\">\n",
              "    <g>\n",
              "        <path d=\"M19 3H5c-1.1 0-2 .9-2 2v14c0 1.1.9 2 2 2h14c1.1 0 2-.9 2-2V5c0-1.1-.9-2-2-2zM9 17H7v-7h2v7zm4 0h-2V7h2v10zm4 0h-2v-4h2v4z\"/>\n",
              "    </g>\n",
              "</svg>\n",
              "  </button>\n",
              "\n",
              "<style>\n",
              "  .colab-df-quickchart {\n",
              "    background-color: #E8F0FE;\n",
              "    border: none;\n",
              "    border-radius: 50%;\n",
              "    cursor: pointer;\n",
              "    display: none;\n",
              "    fill: #1967D2;\n",
              "    height: 32px;\n",
              "    padding: 0 0 0 0;\n",
              "    width: 32px;\n",
              "  }\n",
              "\n",
              "  .colab-df-quickchart:hover {\n",
              "    background-color: #E2EBFA;\n",
              "    box-shadow: 0px 1px 2px rgba(60, 64, 67, 0.3), 0px 1px 3px 1px rgba(60, 64, 67, 0.15);\n",
              "    fill: #174EA6;\n",
              "  }\n",
              "\n",
              "  [theme=dark] .colab-df-quickchart {\n",
              "    background-color: #3B4455;\n",
              "    fill: #D2E3FC;\n",
              "  }\n",
              "\n",
              "  [theme=dark] .colab-df-quickchart:hover {\n",
              "    background-color: #434B5C;\n",
              "    box-shadow: 0px 1px 3px 1px rgba(0, 0, 0, 0.15);\n",
              "    filter: drop-shadow(0px 1px 2px rgba(0, 0, 0, 0.3));\n",
              "    fill: #FFFFFF;\n",
              "  }\n",
              "</style>\n",
              "\n",
              "  <script>\n",
              "    async function quickchart(key) {\n",
              "      const charts = await google.colab.kernel.invokeFunction(\n",
              "          'suggestCharts', [key], {});\n",
              "    }\n",
              "    (() => {\n",
              "      let quickchartButtonEl =\n",
              "        document.querySelector('#df-f149d255-4510-43b5-bc3c-619f458af56e button');\n",
              "      quickchartButtonEl.style.display =\n",
              "        google.colab.kernel.accessAllowed ? 'block' : 'none';\n",
              "    })();\n",
              "  </script>\n",
              "</div>\n",
              "    </div>\n",
              "  </div>\n"
            ]
          },
          "metadata": {},
          "execution_count": 13
        }
      ]
    },
    {
      "cell_type": "markdown",
      "source": [
        "2B. Identify and drop the features which are having the same value for all the rows"
      ],
      "metadata": {
        "id": "_WSRHxRfjsgT"
      }
    },
    {
      "cell_type": "code",
      "source": [
        "nunique = df_signal.nunique()\n",
        "cols_to_drop = nunique[nunique == 1].index\n",
        "df_signal.drop(cols_to_drop, axis=1, inplace=True)"
      ],
      "metadata": {
        "id": "pye1iV8KnQVt"
      },
      "execution_count": 14,
      "outputs": []
    },
    {
      "cell_type": "code",
      "source": [
        "df_signal.shape"
      ],
      "metadata": {
        "colab": {
          "base_uri": "https://localhost:8080/"
        },
        "id": "Yp-FaByAnXLo",
        "outputId": "f7080961-0025-4831-c24f-51752447f7f6"
      },
      "execution_count": 15,
      "outputs": [
        {
          "output_type": "execute_result",
          "data": {
            "text/plain": [
              "(1567, 476)"
            ]
          },
          "metadata": {},
          "execution_count": 15
        }
      ]
    },
    {
      "cell_type": "markdown",
      "source": [
        "2C. Drop other features if required using relevant functional knowledge. Clearly justify the same"
      ],
      "metadata": {
        "id": "4OboH9_FpmIV"
      }
    },
    {
      "cell_type": "code",
      "source": [
        "df_signal.info()"
      ],
      "metadata": {
        "colab": {
          "base_uri": "https://localhost:8080/"
        },
        "id": "fQlmNfzJF_qU",
        "outputId": "f476ea5a-e623-4a74-a688-6c883ff245cc"
      },
      "execution_count": 16,
      "outputs": [
        {
          "output_type": "stream",
          "name": "stdout",
          "text": [
            "<class 'pandas.core.frame.DataFrame'>\n",
            "RangeIndex: 1567 entries, 0 to 1566\n",
            "Columns: 476 entries, Time to Pass/Fail\n",
            "dtypes: float64(474), int64(1), object(1)\n",
            "memory usage: 5.7+ MB\n"
          ]
        }
      ]
    },
    {
      "cell_type": "code",
      "source": [
        "X=df_signal.drop(['Pass/Fail','Time'], axis=1)\n",
        "\n",
        "Y=df_signal[['Pass/Fail']]"
      ],
      "metadata": {
        "id": "idwMK4BjJGwk"
      },
      "execution_count": 17,
      "outputs": []
    },
    {
      "cell_type": "code",
      "source": [
        "X_train, X_test, y_train, y_test = train_test_split(X, Y, test_size=0.25, random_state=100)\n",
        "\n",
        "print(\"Number of records after splitting X train: \", X_train.shape)\n",
        "print(\"Number of records after splitting X test: \", X_test.shape)\n",
        "print(\"Number of records after splitting y train: \", y_train.shape)\n",
        "print(\"Number of records after splitting y test: \", y_test.shape)"
      ],
      "metadata": {
        "colab": {
          "base_uri": "https://localhost:8080/"
        },
        "id": "LBQVSPlVJB2d",
        "outputId": "d0d8e69b-d2db-41d2-86a7-642cb7bde821"
      },
      "execution_count": 18,
      "outputs": [
        {
          "output_type": "stream",
          "name": "stdout",
          "text": [
            "Number of records after splitting X train:  (1175, 474)\n",
            "Number of records after splitting X test:  (392, 474)\n",
            "Number of records after splitting y train:  (1175, 1)\n",
            "Number of records after splitting y test:  (392, 1)\n"
          ]
        }
      ]
    },
    {
      "cell_type": "code",
      "source": [
        "scaler = StandardScaler()\n",
        "scaler.fit(X_train.fillna(0))"
      ],
      "metadata": {
        "colab": {
          "base_uri": "https://localhost:8080/",
          "height": 74
        },
        "id": "COrj0OcoJYlO",
        "outputId": "8498c2e5-1bba-490d-cdb7-f0d538171563"
      },
      "execution_count": 19,
      "outputs": [
        {
          "output_type": "execute_result",
          "data": {
            "text/plain": [
              "StandardScaler()"
            ],
            "text/html": [
              "<style>#sk-container-id-1 {color: black;background-color: white;}#sk-container-id-1 pre{padding: 0;}#sk-container-id-1 div.sk-toggleable {background-color: white;}#sk-container-id-1 label.sk-toggleable__label {cursor: pointer;display: block;width: 100%;margin-bottom: 0;padding: 0.3em;box-sizing: border-box;text-align: center;}#sk-container-id-1 label.sk-toggleable__label-arrow:before {content: \"▸\";float: left;margin-right: 0.25em;color: #696969;}#sk-container-id-1 label.sk-toggleable__label-arrow:hover:before {color: black;}#sk-container-id-1 div.sk-estimator:hover label.sk-toggleable__label-arrow:before {color: black;}#sk-container-id-1 div.sk-toggleable__content {max-height: 0;max-width: 0;overflow: hidden;text-align: left;background-color: #f0f8ff;}#sk-container-id-1 div.sk-toggleable__content pre {margin: 0.2em;color: black;border-radius: 0.25em;background-color: #f0f8ff;}#sk-container-id-1 input.sk-toggleable__control:checked~div.sk-toggleable__content {max-height: 200px;max-width: 100%;overflow: auto;}#sk-container-id-1 input.sk-toggleable__control:checked~label.sk-toggleable__label-arrow:before {content: \"▾\";}#sk-container-id-1 div.sk-estimator input.sk-toggleable__control:checked~label.sk-toggleable__label {background-color: #d4ebff;}#sk-container-id-1 div.sk-label input.sk-toggleable__control:checked~label.sk-toggleable__label {background-color: #d4ebff;}#sk-container-id-1 input.sk-hidden--visually {border: 0;clip: rect(1px 1px 1px 1px);clip: rect(1px, 1px, 1px, 1px);height: 1px;margin: -1px;overflow: hidden;padding: 0;position: absolute;width: 1px;}#sk-container-id-1 div.sk-estimator {font-family: monospace;background-color: #f0f8ff;border: 1px dotted black;border-radius: 0.25em;box-sizing: border-box;margin-bottom: 0.5em;}#sk-container-id-1 div.sk-estimator:hover {background-color: #d4ebff;}#sk-container-id-1 div.sk-parallel-item::after {content: \"\";width: 100%;border-bottom: 1px solid gray;flex-grow: 1;}#sk-container-id-1 div.sk-label:hover label.sk-toggleable__label {background-color: #d4ebff;}#sk-container-id-1 div.sk-serial::before {content: \"\";position: absolute;border-left: 1px solid gray;box-sizing: border-box;top: 0;bottom: 0;left: 50%;z-index: 0;}#sk-container-id-1 div.sk-serial {display: flex;flex-direction: column;align-items: center;background-color: white;padding-right: 0.2em;padding-left: 0.2em;position: relative;}#sk-container-id-1 div.sk-item {position: relative;z-index: 1;}#sk-container-id-1 div.sk-parallel {display: flex;align-items: stretch;justify-content: center;background-color: white;position: relative;}#sk-container-id-1 div.sk-item::before, #sk-container-id-1 div.sk-parallel-item::before {content: \"\";position: absolute;border-left: 1px solid gray;box-sizing: border-box;top: 0;bottom: 0;left: 50%;z-index: -1;}#sk-container-id-1 div.sk-parallel-item {display: flex;flex-direction: column;z-index: 1;position: relative;background-color: white;}#sk-container-id-1 div.sk-parallel-item:first-child::after {align-self: flex-end;width: 50%;}#sk-container-id-1 div.sk-parallel-item:last-child::after {align-self: flex-start;width: 50%;}#sk-container-id-1 div.sk-parallel-item:only-child::after {width: 0;}#sk-container-id-1 div.sk-dashed-wrapped {border: 1px dashed gray;margin: 0 0.4em 0.5em 0.4em;box-sizing: border-box;padding-bottom: 0.4em;background-color: white;}#sk-container-id-1 div.sk-label label {font-family: monospace;font-weight: bold;display: inline-block;line-height: 1.2em;}#sk-container-id-1 div.sk-label-container {text-align: center;}#sk-container-id-1 div.sk-container {/* jupyter's `normalize.less` sets `[hidden] { display: none; }` but bootstrap.min.css set `[hidden] { display: none !important; }` so we also need the `!important` here to be able to override the default hidden behavior on the sphinx rendered scikit-learn.org. See: https://github.com/scikit-learn/scikit-learn/issues/21755 */display: inline-block !important;position: relative;}#sk-container-id-1 div.sk-text-repr-fallback {display: none;}</style><div id=\"sk-container-id-1\" class=\"sk-top-container\"><div class=\"sk-text-repr-fallback\"><pre>StandardScaler()</pre><b>In a Jupyter environment, please rerun this cell to show the HTML representation or trust the notebook. <br />On GitHub, the HTML representation is unable to render, please try loading this page with nbviewer.org.</b></div><div class=\"sk-container\" hidden><div class=\"sk-item\"><div class=\"sk-estimator sk-toggleable\"><input class=\"sk-toggleable__control sk-hidden--visually\" id=\"sk-estimator-id-1\" type=\"checkbox\" checked><label for=\"sk-estimator-id-1\" class=\"sk-toggleable__label sk-toggleable__label-arrow\">StandardScaler</label><div class=\"sk-toggleable__content\"><pre>StandardScaler()</pre></div></div></div></div></div>"
            ]
          },
          "metadata": {},
          "execution_count": 19
        }
      ]
    },
    {
      "cell_type": "markdown",
      "source": [
        "Here penalty l1 which means lasso is used. It helps in dimension reduction i.e. removing features which do not contribute much or which have redundant information. Removing them, will not affect in understanding the variance among other columns and target variable."
      ],
      "metadata": {
        "id": "pp6hX3JGFHUv"
      }
    },
    {
      "cell_type": "code",
      "source": [
        "logistic = LogisticRegression(C=1, penalty='l1', solver='liblinear', random_state=7).fit(X_train,y_train)\n",
        "model=SelectFromModel(logistic, prefit=True)\n",
        "model.transform(X_train)"
      ],
      "metadata": {
        "colab": {
          "base_uri": "https://localhost:8080/"
        },
        "id": "OVBwJu7mySBn",
        "outputId": "d1f2d703-3fd1-4710-a373-b39ec7fc155f"
      },
      "execution_count": 20,
      "outputs": [
        {
          "output_type": "stream",
          "name": "stderr",
          "text": [
            "/usr/local/lib/python3.10/dist-packages/sklearn/utils/validation.py:1143: DataConversionWarning: A column-vector y was passed when a 1d array was expected. Please change the shape of y to (n_samples, ), for example using ravel().\n",
            "  y = column_or_1d(y, warn=True)\n",
            "/usr/local/lib/python3.10/dist-packages/sklearn/base.py:432: UserWarning: X has feature names, but SelectFromModel was fitted without feature names\n",
            "  warnings.warn(\n"
          ]
        },
        {
          "output_type": "execute_result",
          "data": {
            "text/plain": [
              "array([[2.9945600e+03, 2.5053500e+03, 2.2345222e+03, ..., 1.3012330e+02,\n",
              "        3.2066000e+00, 1.3012330e+02],\n",
              "       [3.0547800e+03, 2.4791700e+03, 2.1719000e+03, ..., 2.2419700e+01,\n",
              "        2.3373000e+00, 2.2419700e+01],\n",
              "       [3.1422100e+03, 2.3899100e+03, 2.2235333e+03, ..., 9.7900000e+01,\n",
              "        4.9959000e+00, 1.8583690e+02],\n",
              "       ...,\n",
              "       [2.8653100e+03, 2.5317500e+03, 2.2464889e+03, ..., 7.0179800e+01,\n",
              "        3.8536000e+00, 7.0179800e+01],\n",
              "       [2.9755700e+03, 2.5667900e+03, 2.1975222e+03, ..., 3.3109000e+01,\n",
              "        2.3031000e+00, 3.3109000e+01],\n",
              "       [3.1089800e+03, 2.5377300e+03, 2.2103556e+03, ..., 7.2967600e+01,\n",
              "        3.8442000e+00, 7.2967600e+01]])"
            ]
          },
          "metadata": {},
          "execution_count": 20
        }
      ]
    },
    {
      "cell_type": "code",
      "source": [
        "model.get_support()"
      ],
      "metadata": {
        "colab": {
          "base_uri": "https://localhost:8080/"
        },
        "id": "ZqS2epGeLwGy",
        "outputId": "61f67b33-e985-4dd6-c908-b9ce7b3b25d2"
      },
      "execution_count": 21,
      "outputs": [
        {
          "output_type": "execute_result",
          "data": {
            "text/plain": [
              "array([ True,  True,  True,  True,  True,  True, False, False, False,\n",
              "       False, False,  True,  True,  True,  True, False,  True, False,\n",
              "       False,  True,  True,  True,  True, False, False,  True,  True,\n",
              "       False, False, False,  True,  True, False,  True,  True,  True,\n",
              "        True,  True,  True,  True,  True, False,  True,  True, False,\n",
              "        True, False,  True, False, False,  True, False, False, False,\n",
              "        True,  True, False, False,  True,  True,  True,  True,  True,\n",
              "        True,  True,  True,  True, False, False, False, False, False,\n",
              "       False, False, False, False, False, False, False, False, False,\n",
              "       False,  True, False,  True, False, False, False, False, False,\n",
              "       False,  True, False, False, False, False, False, False, False,\n",
              "       False, False, False, False,  True,  True, False, False, False,\n",
              "        True, False,  True, False, False, False, False,  True, False,\n",
              "       False, False, False, False, False,  True, False, False, False,\n",
              "        True,  True,  True,  True,  True,  True,  True, False, False,\n",
              "       False, False, False, False, False, False,  True,  True,  True,\n",
              "       False,  True, False, False, False,  True,  True,  True,  True,\n",
              "        True, False, False, False, False,  True, False, False, False,\n",
              "       False, False, False, False, False, False,  True, False, False,\n",
              "        True,  True, False,  True,  True,  True, False, False,  True,\n",
              "       False,  True,  True, False,  True,  True,  True,  True, False,\n",
              "        True,  True, False, False, False, False, False, False, False,\n",
              "       False, False, False, False, False, False, False,  True, False,\n",
              "        True, False, False, False, False, False, False, False, False,\n",
              "       False, False,  True, False, False, False, False, False, False,\n",
              "        True, False,  True, False,  True,  True,  True, False, False,\n",
              "       False, False, False, False, False, False, False,  True, False,\n",
              "       False, False, False, False, False,  True,  True,  True,  True,\n",
              "        True, False, False, False, False, False, False, False, False,\n",
              "       False, False, False, False, False, False, False,  True, False,\n",
              "        True, False, False, False, False,  True, False,  True, False,\n",
              "       False,  True,  True, False, False,  True, False, False, False,\n",
              "       False,  True,  True,  True, False, False, False, False, False,\n",
              "       False, False, False, False, False, False, False, False, False,\n",
              "        True, False,  True, False, False, False, False, False, False,\n",
              "       False, False, False, False, False, False,  True, False,  True,\n",
              "       False, False, False, False,  True, False, False, False, False,\n",
              "       False,  True,  True,  True,  True,  True,  True,  True, False,\n",
              "       False,  True, False,  True,  True, False,  True,  True,  True,\n",
              "        True,  True,  True,  True,  True,  True,  True,  True,  True,\n",
              "        True, False,  True, False, False,  True, False, False, False,\n",
              "       False,  True, False, False,  True, False, False,  True,  True,\n",
              "        True, False,  True,  True,  True,  True, False, False,  True,\n",
              "       False, False, False,  True,  True,  True,  True,  True,  True,\n",
              "        True,  True,  True,  True, False, False,  True,  True, False,\n",
              "        True, False,  True,  True,  True,  True,  True,  True, False,\n",
              "        True,  True,  True, False,  True,  True,  True, False,  True,\n",
              "        True, False,  True, False, False, False,  True, False,  True,\n",
              "        True, False,  True, False, False, False, False,  True, False,\n",
              "        True, False, False, False,  True,  True, False,  True, False,\n",
              "       False, False, False,  True,  True,  True,  True, False,  True,\n",
              "       False, False,  True, False, False, False,  True, False, False,\n",
              "       False,  True, False, False, False,  True])"
            ]
          },
          "metadata": {},
          "execution_count": 21
        }
      ]
    },
    {
      "cell_type": "code",
      "source": [
        "selected_feat = X_train.columns[(model.get_support())]\n",
        "print('total features: {}'.format((X_train.shape[1])))\n",
        "print('selected features: {}'.format(len(selected_feat)))"
      ],
      "metadata": {
        "colab": {
          "base_uri": "https://localhost:8080/"
        },
        "id": "cqqp2h4iILlA",
        "outputId": "f2a4f2b5-eb38-4040-e4e2-021d5dcfe74a"
      },
      "execution_count": 22,
      "outputs": [
        {
          "output_type": "stream",
          "name": "stdout",
          "text": [
            "total features: 474\n",
            "selected features: 194\n"
          ]
        }
      ]
    },
    {
      "cell_type": "markdown",
      "source": [
        "Q2 D - Check for multi-collinearity in the data and take necessary action."
      ],
      "metadata": {
        "id": "Wrw74ZVvPs-a"
      }
    },
    {
      "cell_type": "code",
      "source": [
        " vif = pd.DataFrame()\n",
        " vif[\"variables\"] = X_train.columns\n",
        " vif[\"VIF Factor\"] = [float(\"{:.0f}\".format(variance_inflation_factor(X_train, i))) for i in range(X_train.shape[1])]\n",
        " vif.groupby([\"VIF Factor\"]).count()"
      ],
      "metadata": {
        "colab": {
          "base_uri": "https://localhost:8080/",
          "height": 489
        },
        "id": "aa8ghKmIyBSH",
        "outputId": "191980f5-47f7-4e0a-9965-7800da6bc3b1"
      },
      "execution_count": 137,
      "outputs": [
        {
          "output_type": "stream",
          "name": "stderr",
          "text": [
            "/usr/local/lib/python3.10/dist-packages/statsmodels/stats/outliers_influence.py:198: RuntimeWarning: divide by zero encountered in double_scalars\n",
            "  vif = 1. / (1. - r_squared_i)\n"
          ]
        },
        {
          "output_type": "execute_result",
          "data": {
            "text/plain": [
              "                        variables\n",
              "VIF Factor                       \n",
              "2.000000                        6\n",
              "3.000000                       11\n",
              "4.000000                       11\n",
              "5.000000                        3\n",
              "6.000000                        4\n",
              "...                           ...\n",
              "63430980667190.000000           1\n",
              "72638703667266.000000           1\n",
              "200159983438689.000000          1\n",
              "219687786701000.000000          1\n",
              "inf                             5\n",
              "\n",
              "[420 rows x 1 columns]"
            ],
            "text/html": [
              "\n",
              "  <div id=\"df-43843d81-8265-4459-bca6-045f05598ff8\" class=\"colab-df-container\">\n",
              "    <div>\n",
              "<style scoped>\n",
              "    .dataframe tbody tr th:only-of-type {\n",
              "        vertical-align: middle;\n",
              "    }\n",
              "\n",
              "    .dataframe tbody tr th {\n",
              "        vertical-align: top;\n",
              "    }\n",
              "\n",
              "    .dataframe thead th {\n",
              "        text-align: right;\n",
              "    }\n",
              "</style>\n",
              "<table border=\"1\" class=\"dataframe\">\n",
              "  <thead>\n",
              "    <tr style=\"text-align: right;\">\n",
              "      <th></th>\n",
              "      <th>variables</th>\n",
              "    </tr>\n",
              "    <tr>\n",
              "      <th>VIF Factor</th>\n",
              "      <th></th>\n",
              "    </tr>\n",
              "  </thead>\n",
              "  <tbody>\n",
              "    <tr>\n",
              "      <th>2.000000</th>\n",
              "      <td>6</td>\n",
              "    </tr>\n",
              "    <tr>\n",
              "      <th>3.000000</th>\n",
              "      <td>11</td>\n",
              "    </tr>\n",
              "    <tr>\n",
              "      <th>4.000000</th>\n",
              "      <td>11</td>\n",
              "    </tr>\n",
              "    <tr>\n",
              "      <th>5.000000</th>\n",
              "      <td>3</td>\n",
              "    </tr>\n",
              "    <tr>\n",
              "      <th>6.000000</th>\n",
              "      <td>4</td>\n",
              "    </tr>\n",
              "    <tr>\n",
              "      <th>...</th>\n",
              "      <td>...</td>\n",
              "    </tr>\n",
              "    <tr>\n",
              "      <th>63430980667190.000000</th>\n",
              "      <td>1</td>\n",
              "    </tr>\n",
              "    <tr>\n",
              "      <th>72638703667266.000000</th>\n",
              "      <td>1</td>\n",
              "    </tr>\n",
              "    <tr>\n",
              "      <th>200159983438689.000000</th>\n",
              "      <td>1</td>\n",
              "    </tr>\n",
              "    <tr>\n",
              "      <th>219687786701000.000000</th>\n",
              "      <td>1</td>\n",
              "    </tr>\n",
              "    <tr>\n",
              "      <th>inf</th>\n",
              "      <td>5</td>\n",
              "    </tr>\n",
              "  </tbody>\n",
              "</table>\n",
              "<p>420 rows × 1 columns</p>\n",
              "</div>\n",
              "    <div class=\"colab-df-buttons\">\n",
              "\n",
              "  <div class=\"colab-df-container\">\n",
              "    <button class=\"colab-df-convert\" onclick=\"convertToInteractive('df-43843d81-8265-4459-bca6-045f05598ff8')\"\n",
              "            title=\"Convert this dataframe to an interactive table.\"\n",
              "            style=\"display:none;\">\n",
              "\n",
              "  <svg xmlns=\"http://www.w3.org/2000/svg\" height=\"24px\" viewBox=\"0 -960 960 960\">\n",
              "    <path d=\"M120-120v-720h720v720H120Zm60-500h600v-160H180v160Zm220 220h160v-160H400v160Zm0 220h160v-160H400v160ZM180-400h160v-160H180v160Zm440 0h160v-160H620v160ZM180-180h160v-160H180v160Zm440 0h160v-160H620v160Z\"/>\n",
              "  </svg>\n",
              "    </button>\n",
              "\n",
              "  <style>\n",
              "    .colab-df-container {\n",
              "      display:flex;\n",
              "      gap: 12px;\n",
              "    }\n",
              "\n",
              "    .colab-df-convert {\n",
              "      background-color: #E8F0FE;\n",
              "      border: none;\n",
              "      border-radius: 50%;\n",
              "      cursor: pointer;\n",
              "      display: none;\n",
              "      fill: #1967D2;\n",
              "      height: 32px;\n",
              "      padding: 0 0 0 0;\n",
              "      width: 32px;\n",
              "    }\n",
              "\n",
              "    .colab-df-convert:hover {\n",
              "      background-color: #E2EBFA;\n",
              "      box-shadow: 0px 1px 2px rgba(60, 64, 67, 0.3), 0px 1px 3px 1px rgba(60, 64, 67, 0.15);\n",
              "      fill: #174EA6;\n",
              "    }\n",
              "\n",
              "    .colab-df-buttons div {\n",
              "      margin-bottom: 4px;\n",
              "    }\n",
              "\n",
              "    [theme=dark] .colab-df-convert {\n",
              "      background-color: #3B4455;\n",
              "      fill: #D2E3FC;\n",
              "    }\n",
              "\n",
              "    [theme=dark] .colab-df-convert:hover {\n",
              "      background-color: #434B5C;\n",
              "      box-shadow: 0px 1px 3px 1px rgba(0, 0, 0, 0.15);\n",
              "      filter: drop-shadow(0px 1px 2px rgba(0, 0, 0, 0.3));\n",
              "      fill: #FFFFFF;\n",
              "    }\n",
              "  </style>\n",
              "\n",
              "    <script>\n",
              "      const buttonEl =\n",
              "        document.querySelector('#df-43843d81-8265-4459-bca6-045f05598ff8 button.colab-df-convert');\n",
              "      buttonEl.style.display =\n",
              "        google.colab.kernel.accessAllowed ? 'block' : 'none';\n",
              "\n",
              "      async function convertToInteractive(key) {\n",
              "        const element = document.querySelector('#df-43843d81-8265-4459-bca6-045f05598ff8');\n",
              "        const dataTable =\n",
              "          await google.colab.kernel.invokeFunction('convertToInteractive',\n",
              "                                                    [key], {});\n",
              "        if (!dataTable) return;\n",
              "\n",
              "        const docLinkHtml = 'Like what you see? Visit the ' +\n",
              "          '<a target=\"_blank\" href=https://colab.research.google.com/notebooks/data_table.ipynb>data table notebook</a>'\n",
              "          + ' to learn more about interactive tables.';\n",
              "        element.innerHTML = '';\n",
              "        dataTable['output_type'] = 'display_data';\n",
              "        await google.colab.output.renderOutput(dataTable, element);\n",
              "        const docLink = document.createElement('div');\n",
              "        docLink.innerHTML = docLinkHtml;\n",
              "        element.appendChild(docLink);\n",
              "      }\n",
              "    </script>\n",
              "  </div>\n",
              "\n",
              "\n",
              "<div id=\"df-be4697e2-2808-477d-872f-e039680928de\">\n",
              "  <button class=\"colab-df-quickchart\" onclick=\"quickchart('df-be4697e2-2808-477d-872f-e039680928de')\"\n",
              "            title=\"Suggest charts.\"\n",
              "            style=\"display:none;\">\n",
              "\n",
              "<svg xmlns=\"http://www.w3.org/2000/svg\" height=\"24px\"viewBox=\"0 0 24 24\"\n",
              "     width=\"24px\">\n",
              "    <g>\n",
              "        <path d=\"M19 3H5c-1.1 0-2 .9-2 2v14c0 1.1.9 2 2 2h14c1.1 0 2-.9 2-2V5c0-1.1-.9-2-2-2zM9 17H7v-7h2v7zm4 0h-2V7h2v10zm4 0h-2v-4h2v4z\"/>\n",
              "    </g>\n",
              "</svg>\n",
              "  </button>\n",
              "\n",
              "<style>\n",
              "  .colab-df-quickchart {\n",
              "    background-color: #E8F0FE;\n",
              "    border: none;\n",
              "    border-radius: 50%;\n",
              "    cursor: pointer;\n",
              "    display: none;\n",
              "    fill: #1967D2;\n",
              "    height: 32px;\n",
              "    padding: 0 0 0 0;\n",
              "    width: 32px;\n",
              "  }\n",
              "\n",
              "  .colab-df-quickchart:hover {\n",
              "    background-color: #E2EBFA;\n",
              "    box-shadow: 0px 1px 2px rgba(60, 64, 67, 0.3), 0px 1px 3px 1px rgba(60, 64, 67, 0.15);\n",
              "    fill: #174EA6;\n",
              "  }\n",
              "\n",
              "  [theme=dark] .colab-df-quickchart {\n",
              "    background-color: #3B4455;\n",
              "    fill: #D2E3FC;\n",
              "  }\n",
              "\n",
              "  [theme=dark] .colab-df-quickchart:hover {\n",
              "    background-color: #434B5C;\n",
              "    box-shadow: 0px 1px 3px 1px rgba(0, 0, 0, 0.15);\n",
              "    filter: drop-shadow(0px 1px 2px rgba(0, 0, 0, 0.3));\n",
              "    fill: #FFFFFF;\n",
              "  }\n",
              "</style>\n",
              "\n",
              "  <script>\n",
              "    async function quickchart(key) {\n",
              "      const charts = await google.colab.kernel.invokeFunction(\n",
              "          'suggestCharts', [key], {});\n",
              "    }\n",
              "    (() => {\n",
              "      let quickchartButtonEl =\n",
              "        document.querySelector('#df-be4697e2-2808-477d-872f-e039680928de button');\n",
              "      quickchartButtonEl.style.display =\n",
              "        google.colab.kernel.accessAllowed ? 'block' : 'none';\n",
              "    })();\n",
              "  </script>\n",
              "</div>\n",
              "    </div>\n",
              "  </div>\n"
            ]
          },
          "metadata": {},
          "execution_count": 137
        }
      ]
    },
    {
      "cell_type": "code",
      "source": [
        "#choosing values where k is equal to 5 and dropping rest\n",
        "\n",
        "k = 5\n",
        "selected_features = X_train.columns[SelectKBest(f_regression, k=k).fit(X_train, y_train.values.ravel()).get_support()]\n",
        "print(\"selected features: \" +selected_features)"
      ],
      "metadata": {
        "colab": {
          "base_uri": "https://localhost:8080/"
        },
        "id": "gQh-hLsQ6L1I",
        "outputId": "11af64bd-6a6b-4101-dffe-325e56ff99be"
      },
      "execution_count": 139,
      "outputs": [
        {
          "output_type": "stream",
          "name": "stdout",
          "text": [
            "Index(['selected features: 21', 'selected features: 59',\n",
            "       'selected features: 103', 'selected features: 210',\n",
            "       'selected features: 348'],\n",
            "      dtype='object')\n"
          ]
        }
      ]
    },
    {
      "cell_type": "markdown",
      "source": [
        "Q2 E - Make all relevant modifications on the data using both functional/logical reasoning/assumptions"
      ],
      "metadata": {
        "id": "xK0bfdiDBFRu"
      }
    },
    {
      "cell_type": "markdown",
      "source": [
        "1) In the steps above, we commenced with identifying null value percentage. We dropped all rows where null % was greater than 20. Wherever it was less than 20%, we imputed with median.\n",
        "2) Removed duplicate rows from the dataset\n",
        "3) Applied scaling to dataframe so all column values are on similar scale\n",
        "4) Applied Lasso regression, so as to reduce features and factor only important or relevant ones\n",
        "5) Calculated VIF, that means colinearity between all columns/ independent variables. Dropped the ones having value of vif greater than 5 as mostly those columns have redundant information"
      ],
      "metadata": {
        "id": "PzEH3LD3GTSb"
      }
    },
    {
      "cell_type": "markdown",
      "source": [
        "Q3 A - Perform a detailed univariate Analysis with appropriate detailed comments after each analysis."
      ],
      "metadata": {
        "id": "2TrhP--WBTRK"
      }
    },
    {
      "cell_type": "code",
      "source": [
        "sns.displot(data=X_train, x='0', kind='kde')\n",
        "plt.show()\n",
        "sns.boxplot(data=X_train, x='0')\n",
        "plt.show()"
      ],
      "metadata": {
        "colab": {
          "base_uri": "https://localhost:8080/",
          "height": 938
        },
        "id": "sTSNa0axIF80",
        "outputId": "d7ef3bad-163d-4cfb-c231-1c6286182248"
      },
      "execution_count": 29,
      "outputs": [
        {
          "output_type": "display_data",
          "data": {
            "text/plain": [
              "<Figure size 500x500 with 1 Axes>"
            ],
            "image/png": "[encoded data removed]"
          },
          "metadata": {}
        },
        {
          "output_type": "display_data",
          "data": {
            "text/plain": [
              "<Figure size 640x480 with 1 Axes>"
            ],
            "image/png": "[encoded data removed]"
          },
          "metadata": {}
        }
      ]
    },
    {
      "cell_type": "markdown",
      "source": [
        "For column 0, We see bit of right skewed distribution and also lot of outliers on the higher side"
      ],
      "metadata": {
        "id": "hDWUTi2NOJ9y"
      }
    },
    {
      "cell_type": "code",
      "source": [
        "sns.displot(data=X_train, x='75', kind='kde')\n",
        "plt.show()\n",
        "sns.boxplot(data=X_train, x='75')\n",
        "plt.show()"
      ],
      "metadata": {
        "colab": {
          "base_uri": "https://localhost:8080/",
          "height": 938
        },
        "id": "T5libjSZMuit",
        "outputId": "aa1cec18-422b-4584-ddc7-45bc89b9a8c4"
      },
      "execution_count": 30,
      "outputs": [
        {
          "output_type": "display_data",
          "data": {
            "text/plain": [
              "<Figure size 500x500 with 1 Axes>"
            ],
            "image/png": "[encoded data removed]"
          },
          "metadata": {}
        },
        {
          "output_type": "display_data",
          "data": {
            "text/plain": [
              "<Figure size 640x480 with 1 Axes>"
            ],
            "image/png": "[encoded data removed]"
          },
          "metadata": {}
        }
      ]
    },
    {
      "cell_type": "markdown",
      "source": [
        "For column 75, We see right skewed distribution and also lot of outliers on the lower side"
      ],
      "metadata": {
        "id": "BSxLLSveOU0U"
      }
    },
    {
      "cell_type": "code",
      "source": [
        "sns.displot(data=X_train, x='200', kind='kde')\n",
        "plt.show()\n",
        "sns.boxplot(data=X_train, x='200')\n",
        "plt.show()"
      ],
      "metadata": {
        "colab": {
          "base_uri": "https://localhost:8080/",
          "height": 938
        },
        "id": "oe_PnlRDI2NX",
        "outputId": "44b372f2-b422-40b0-927c-7e111da0ca89"
      },
      "execution_count": 31,
      "outputs": [
        {
          "output_type": "display_data",
          "data": {
            "text/plain": [
              "<Figure size 500x500 with 1 Axes>"
            ],
            "image/png": "[encoded data removed]"
          },
          "metadata": {}
        },
        {
          "output_type": "display_data",
          "data": {
            "text/plain": [
              "<Figure size 640x480 with 1 Axes>"
            ],
            "image/png": "[encoded data removed]"
          },
          "metadata": {}
        }
      ]
    },
    {
      "cell_type": "markdown",
      "source": [
        "For column 200, We see right skewed distribution and also lot of outliers on the higher side"
      ],
      "metadata": {
        "id": "K7TA-MfCPBWk"
      }
    },
    {
      "cell_type": "code",
      "source": [
        "sns.displot(data=X_train, x='460', kind='kde')\n",
        "plt.show()\n",
        "sns.boxplot(data=X_train, x='460')\n",
        "plt.show()"
      ],
      "metadata": {
        "colab": {
          "base_uri": "https://localhost:8080/",
          "height": 939
        },
        "id": "bXmkwLFGLZdR",
        "outputId": "e697a50f-b953-478a-e5f0-613d8ae2f112"
      },
      "execution_count": 32,
      "outputs": [
        {
          "output_type": "display_data",
          "data": {
            "text/plain": [
              "<Figure size 500x500 with 1 Axes>"
            ],
            "image/png": "[encoded data removed]"
          },
          "metadata": {}
        },
        {
          "output_type": "display_data",
          "data": {
            "text/plain": [
              "<Figure size 640x480 with 1 Axes>"
            ],
            "image/png": "[encoded data removed]"
          },
          "metadata": {}
        }
      ]
    },
    {
      "cell_type": "markdown",
      "source": [
        "For column 460, We see right skewed distribution and  lot of outliers on the higher side"
      ],
      "metadata": {
        "id": "VlySXlFJPDxS"
      }
    },
    {
      "cell_type": "markdown",
      "source": [
        "Q3 B - Perform bivariate and multivariate analysis with appropriate detailed comments after each analysis."
      ],
      "metadata": {
        "id": "7E_j4nsiBXlj"
      }
    },
    {
      "cell_type": "code",
      "source": [
        "plt.figure(figsize=(5,5))\n",
        "sns.scatterplot(data=X_train, x='100', y='200')\n",
        "plt.show()"
      ],
      "metadata": {
        "colab": {
          "base_uri": "https://localhost:8080/",
          "height": 465
        },
        "id": "47dx_QN-M53C",
        "outputId": "12987f2b-74dd-4df3-d674-bddfeb6b0110"
      },
      "execution_count": 179,
      "outputs": [
        {
          "output_type": "display_data",
          "data": {
            "text/plain": [
              "<Figure size 500x500 with 1 Axes>"
            ],
            "image/png": "[encoded data removed]"
          },
          "metadata": {}
        }
      ]
    },
    {
      "cell_type": "markdown",
      "source": [
        "Here we see most of the distribution in center of the plot where mostly variance in value of y is spread vertically for each value of x. That means lot of data in y column is in certain range for each x value. However, the progress is in positive direction i.e. moving forward as x increases"
      ],
      "metadata": {
        "id": "sE7v4DdJPLVl"
      }
    },
    {
      "cell_type": "code",
      "source": [
        "plt.figure(figsize=(5,5))\n",
        "sns.scatterplot(data=X_train, x='75', y='300')\n",
        "plt.show()\n"
      ],
      "metadata": {
        "colab": {
          "base_uri": "https://localhost:8080/",
          "height": 465
        },
        "id": "7k6gtehwYApH",
        "outputId": "c61b0e1a-f761-4c5b-aa88-f1811875d1f2"
      },
      "execution_count": 178,
      "outputs": [
        {
          "output_type": "display_data",
          "data": {
            "text/plain": [
              "<Figure size 500x500 with 1 Axes>"
            ],
            "image/png": "[encoded data removed]"
          },
          "metadata": {}
        }
      ]
    },
    {
      "cell_type": "markdown",
      "source": [
        "We see data concentrated at the lower end either for less values of y or higher. The distribution is extreme."
      ],
      "metadata": {
        "id": "_p9RGgxJdgKs"
      }
    },
    {
      "cell_type": "markdown",
      "source": [
        "Q4 A - Segregate predictors vs target attributes."
      ],
      "metadata": {
        "id": "D085CMlGUEMU"
      }
    },
    {
      "cell_type": "markdown",
      "source": [
        "Here, 'Pass/Fail' column is the target attribute and other columns are Predictors"
      ],
      "metadata": {
        "id": "GhRJ9PSHeZLQ"
      }
    },
    {
      "cell_type": "markdown",
      "source": [
        "Q4 B - Check for target balancing and fix it if found imbalanced."
      ],
      "metadata": {
        "id": "WPT8WmqMenxm"
      }
    },
    {
      "cell_type": "code",
      "source": [
        "# undersampling\n",
        "\n",
        "from imblearn.under_sampling import RandomUnderSampler\n",
        "rus = RandomUnderSampler(random_state=42)\n",
        "x_rus,y_rus = rus.fit_resample(X,Y)"
      ],
      "metadata": {
        "id": "lz5UvSRbCcUN"
      },
      "execution_count": 34,
      "outputs": []
    },
    {
      "cell_type": "code",
      "source": [
        "print('x_rus shape: ',x_rus.shape)\n",
        "print('y_rus shape: ', y_rus.shape)"
      ],
      "metadata": {
        "colab": {
          "base_uri": "https://localhost:8080/"
        },
        "id": "f9rMDKG4DvvP",
        "outputId": "39b5aae8-c16a-4b55-8a2c-e6af6541ca06"
      },
      "execution_count": 35,
      "outputs": [
        {
          "output_type": "stream",
          "name": "stdout",
          "text": [
            "x_rus shape:  (208, 474)\n",
            "y_rus shape:  (208, 1)\n"
          ]
        }
      ]
    },
    {
      "cell_type": "code",
      "source": [
        "X_train_rus, X_test_rus, y_train_rus, y_test_rus = train_test_split(x_rus, y_rus, test_size=0.25, random_state=100)\n",
        "\n",
        "print(\"Number of records after splitting X train: \", X_train_rus.shape)\n",
        "print(\"Number of records after splitting X test: \", X_test_rus.shape)\n",
        "print(\"Number of records after splitting y train: \", y_train_rus.shape)\n",
        "print(\"Number of records after splitting y test: \", y_test_rus.shape)"
      ],
      "metadata": {
        "colab": {
          "base_uri": "https://localhost:8080/"
        },
        "id": "SlXV3ZjJFbI7",
        "outputId": "309118c0-9005-4d73-b651-18d1865dade2"
      },
      "execution_count": 36,
      "outputs": [
        {
          "output_type": "stream",
          "name": "stdout",
          "text": [
            "Number of records after splitting X train:  (156, 474)\n",
            "Number of records after splitting X test:  (52, 474)\n",
            "Number of records after splitting y train:  (156, 1)\n",
            "Number of records after splitting y test:  (52, 1)\n"
          ]
        }
      ]
    },
    {
      "cell_type": "code",
      "source": [
        "from sklearn.preprocessing import MinMaxScaler\n",
        "#Scaling has been applied as dataset has negative values which Naive Bayes could not handle\n",
        "p = Pipeline([('Normalizing',MinMaxScaler()),('MultinomialNB',MultinomialNB())])\n",
        "p.fit(X_train_rus,y_train_rus.values.ravel())\n",
        "y_pred_rus = p.predict(X_test_rus)"
      ],
      "metadata": {
        "id": "4YlvgvL6Irl8"
      },
      "execution_count": 37,
      "outputs": []
    },
    {
      "cell_type": "code",
      "source": [
        "from sklearn.metrics import accuracy_score\n",
        "print(\"accuracy score: \", accuracy_score(y_pred_rus, y_test_rus))"
      ],
      "metadata": {
        "colab": {
          "base_uri": "https://localhost:8080/"
        },
        "id": "pkFBBqyJPQqn",
        "outputId": "e8450001-c74c-439c-8750-b969cbc8668a"
      },
      "execution_count": 38,
      "outputs": [
        {
          "output_type": "stream",
          "name": "stdout",
          "text": [
            "accuracy score:  0.5192307692307693\n"
          ]
        }
      ]
    },
    {
      "cell_type": "code",
      "source": [
        "from imblearn.combine import SMOTETomek\n",
        "smk = SMOTETomek()\n",
        "x_smk, y_smk = smk.fit_resample(X,Y)"
      ],
      "metadata": {
        "id": "uASIh1h8eocR"
      },
      "execution_count": 39,
      "outputs": []
    },
    {
      "cell_type": "code",
      "source": [
        "X_train_smk, X_test_smk, y_train_smk, y_test_smk = train_test_split(x_smk, y_smk, test_size=0.25, random_state=100)\n",
        "\n",
        "print(\"Number of records after splitting X train: \", X_train_smk.shape)\n",
        "print(\"Number of records after splitting X test: \", X_test_smk.shape)\n",
        "print(\"Number of records after splitting y train: \", y_train_smk.shape)\n",
        "print(\"Number of records after splitting y test: \", y_test_smk.shape)"
      ],
      "metadata": {
        "colab": {
          "base_uri": "https://localhost:8080/"
        },
        "id": "giLizxMvTwOE",
        "outputId": "69a34fc2-b099-404e-957e-b535c093d121"
      },
      "execution_count": 40,
      "outputs": [
        {
          "output_type": "stream",
          "name": "stdout",
          "text": [
            "Number of records after splitting X train:  (2188, 474)\n",
            "Number of records after splitting X test:  (730, 474)\n",
            "Number of records after splitting y train:  (2188, 1)\n",
            "Number of records after splitting y test:  (730, 1)\n"
          ]
        }
      ]
    },
    {
      "cell_type": "code",
      "source": [
        "p_smk = Pipeline([('Normalizing',MinMaxScaler()),('MultinomialNB',MultinomialNB())])\n",
        "p_smk.fit(X_train_smk,y_train_smk.values.ravel())\n",
        "y_pred_smk = p_smk.predict(X_test_smk)\n",
        "\n",
        "print(\"accuracy score: \", accuracy_score(y_pred_smk, y_test_smk))"
      ],
      "metadata": {
        "colab": {
          "base_uri": "https://localhost:8080/"
        },
        "id": "U3eLU8EAUKfX",
        "outputId": "40c5be5a-3e6e-4163-d0cc-3452aadb4c0e"
      },
      "execution_count": 41,
      "outputs": [
        {
          "output_type": "stream",
          "name": "stdout",
          "text": [
            "accuracy score:  0.7465753424657534\n"
          ]
        }
      ]
    },
    {
      "cell_type": "markdown",
      "source": [
        "Q4 C - Perform train-test split and standardise the data or vice versa if required."
      ],
      "metadata": {
        "id": "hpPRKJsJAGT6"
      }
    },
    {
      "cell_type": "code",
      "source": [
        "X_train, X_test, y_train, y_test = train_test_split(X, Y, test_size=0.25, random_state=100)"
      ],
      "metadata": {
        "id": "e6bKafLFLg3i"
      },
      "execution_count": 42,
      "outputs": []
    },
    {
      "cell_type": "code",
      "source": [
        "scaler = StandardScaler()\n",
        "\n",
        "normalized_x_train = pd.DataFrame(scaler.fit_transform(X_train),columns = X_train.columns)\n",
        "\n",
        "normalized_x_test = pd.DataFrame(scaler.transform(X_test),columns = X_test.columns)\n",
        "\n",
        "LR = LogisticRegression(C=0.01,solver='liblinear').fit(normalized_x_train, y_train)\n",
        "\n",
        "y_test_pred = LR.predict(normalized_x_test)\n",
        "\n",
        "accuracy = LR.score(X_test, y_test_pred)\n",
        "print (\"accuracy: \", accuracy)"
      ],
      "metadata": {
        "colab": {
          "base_uri": "https://localhost:8080/"
        },
        "id": "7GSt6E0jMxuG",
        "outputId": "6aff4349-5954-432a-f10c-c7eb39a1c05e"
      },
      "execution_count": 43,
      "outputs": [
        {
          "output_type": "stream",
          "name": "stdout",
          "text": [
            "accuracy:  0.9897959183673469\n"
          ]
        },
        {
          "output_type": "stream",
          "name": "stderr",
          "text": [
            "/usr/local/lib/python3.10/dist-packages/sklearn/utils/validation.py:1143: DataConversionWarning: A column-vector y was passed when a 1d array was expected. Please change the shape of y to (n_samples, ), for example using ravel().\n",
            "  y = column_or_1d(y, warn=True)\n"
          ]
        }
      ]
    },
    {
      "cell_type": "markdown",
      "source": [
        "Q4 D - Check if the train and test data have similar statistical characteristics when compared with original data"
      ],
      "metadata": {
        "id": "OH8IKUT3Uz9Q"
      }
    },
    {
      "cell_type": "code",
      "source": [
        "# printing Statistics of original data\n",
        "print(\"Statistics of original data\")\n",
        "df_signal.describe()\n"
      ],
      "metadata": {
        "colab": {
          "base_uri": "https://localhost:8080/",
          "height": 367
        },
        "id": "IKZo2dmvKSpy",
        "outputId": "930013a1-0c4d-4af9-fd06-3510949e91e6"
      },
      "execution_count": 165,
      "outputs": [
        {
          "output_type": "stream",
          "name": "stdout",
          "text": [
            "Statistics of original data\n"
          ]
        },
        {
          "output_type": "execute_result",
          "data": {
            "text/plain": [
              "                0           1           2           3           4           5  \\\n",
              "count 1561.000000 1560.000000 1553.000000 1553.000000 1553.000000 1553.000000   \n",
              "mean  3014.452896 2495.850231 2200.547318 1396.376627    4.197013  100.000000   \n",
              "std     73.621787   80.407705   29.513152  441.691640   56.355540    0.000000   \n",
              "min   2743.240000 2158.750000 2060.660000    0.000000    0.681500  100.000000   \n",
              "25%   2966.260000 2452.247500 2181.044400 1081.875800    1.017700  100.000000   \n",
              "50%   3011.490000 2499.405000 2201.066700 1285.214400    1.316800  100.000000   \n",
              "75%   3056.650000 2538.822500 2218.055500 1591.223500    1.525700  100.000000   \n",
              "max   3356.350000 2846.440000 2315.266700 3715.041700 1114.536600  100.000000   \n",
              "\n",
              "                6           7           8           9  ...        581  \\\n",
              "count 1553.000000 1558.000000 1565.000000 1565.000000  ... 618.000000   \n",
              "mean   101.112908    0.121822    1.462862   -0.000841  ...  97.934373   \n",
              "std      6.237214    0.008961    0.073897    0.015116  ...  87.520966   \n",
              "min     82.131100    0.000000    1.191000   -0.053400  ...   0.000000   \n",
              "25%     97.920000    0.121100    1.411200   -0.010800  ...  46.184900   \n",
              "50%    101.512200    0.122400    1.461600   -0.001300  ...  72.288900   \n",
              "75%    104.586700    0.123800    1.516900    0.008400  ... 116.539150   \n",
              "max    129.252200    0.128600    1.656400    0.074900  ... 737.304800   \n",
              "\n",
              "              582         583         584         585         586         587  \\\n",
              "count 1566.000000 1566.000000 1566.000000 1566.000000 1566.000000 1566.000000   \n",
              "mean     0.500096    0.015318    0.003847    3.067826    0.021458    0.016475   \n",
              "std      0.003404    0.017180    0.003720    3.578033    0.012358    0.008808   \n",
              "min      0.477800    0.006000    0.001700    1.197500   -0.016900    0.003200   \n",
              "25%      0.497900    0.011600    0.003100    2.306500    0.013425    0.010600   \n",
              "50%      0.500200    0.013800    0.003600    2.757650    0.020500    0.014800   \n",
              "75%      0.502375    0.016500    0.004100    3.295175    0.027600    0.020300   \n",
              "max      0.509800    0.476600    0.104500   99.303200    0.102800    0.079900   \n",
              "\n",
              "              588         589   Pass/Fail  \n",
              "count 1566.000000 1566.000000 1567.000000  \n",
              "mean     0.005283   99.670066   -0.867262  \n",
              "std      0.002867   93.891919    0.498010  \n",
              "min      0.001000    0.000000   -1.000000  \n",
              "25%      0.003300   44.368600   -1.000000  \n",
              "50%      0.004600   71.900500   -1.000000  \n",
              "75%      0.006400  114.749700   -1.000000  \n",
              "max      0.028600  737.304800    1.000000  \n",
              "\n",
              "[8 rows x 591 columns]"
            ],
            "text/html": [
              "\n",
              "  <div id=\"df-d357d890-9599-483a-bb2c-51d116be2b4b\" class=\"colab-df-container\">\n",
              "    <div>\n",
              "<style scoped>\n",
              "    .dataframe tbody tr th:only-of-type {\n",
              "        vertical-align: middle;\n",
              "    }\n",
              "\n",
              "    .dataframe tbody tr th {\n",
              "        vertical-align: top;\n",
              "    }\n",
              "\n",
              "    .dataframe thead th {\n",
              "        text-align: right;\n",
              "    }\n",
              "</style>\n",
              "<table border=\"1\" class=\"dataframe\">\n",
              "  <thead>\n",
              "    <tr style=\"text-align: right;\">\n",
              "      <th></th>\n",
              "      <th>0</th>\n",
              "      <th>1</th>\n",
              "      <th>2</th>\n",
              "      <th>3</th>\n",
              "      <th>4</th>\n",
              "      <th>5</th>\n",
              "      <th>6</th>\n",
              "      <th>7</th>\n",
              "      <th>8</th>\n",
              "      <th>9</th>\n",
              "      <th>...</th>\n",
              "      <th>581</th>\n",
              "      <th>582</th>\n",
              "      <th>583</th>\n",
              "      <th>584</th>\n",
              "      <th>585</th>\n",
              "      <th>586</th>\n",
              "      <th>587</th>\n",
              "      <th>588</th>\n",
              "      <th>589</th>\n",
              "      <th>Pass/Fail</th>\n",
              "    </tr>\n",
              "  </thead>\n",
              "  <tbody>\n",
              "    <tr>\n",
              "      <th>count</th>\n",
              "      <td>1561.000000</td>\n",
              "      <td>1560.000000</td>\n",
              "      <td>1553.000000</td>\n",
              "      <td>1553.000000</td>\n",
              "      <td>1553.000000</td>\n",
              "      <td>1553.000000</td>\n",
              "      <td>1553.000000</td>\n",
              "      <td>1558.000000</td>\n",
              "      <td>1565.000000</td>\n",
              "      <td>1565.000000</td>\n",
              "      <td>...</td>\n",
              "      <td>618.000000</td>\n",
              "      <td>1566.000000</td>\n",
              "      <td>1566.000000</td>\n",
              "      <td>1566.000000</td>\n",
              "      <td>1566.000000</td>\n",
              "      <td>1566.000000</td>\n",
              "      <td>1566.000000</td>\n",
              "      <td>1566.000000</td>\n",
              "      <td>1566.000000</td>\n",
              "      <td>1567.000000</td>\n",
              "    </tr>\n",
              "    <tr>\n",
              "      <th>mean</th>\n",
              "      <td>3014.452896</td>\n",
              "      <td>2495.850231</td>\n",
              "      <td>2200.547318</td>\n",
              "      <td>1396.376627</td>\n",
              "      <td>4.197013</td>\n",
              "      <td>100.000000</td>\n",
              "      <td>101.112908</td>\n",
              "      <td>0.121822</td>\n",
              "      <td>1.462862</td>\n",
              "      <td>-0.000841</td>\n",
              "      <td>...</td>\n",
              "      <td>97.934373</td>\n",
              "      <td>0.500096</td>\n",
              "      <td>0.015318</td>\n",
              "      <td>0.003847</td>\n",
              "      <td>3.067826</td>\n",
              "      <td>0.021458</td>\n",
              "      <td>0.016475</td>\n",
              "      <td>0.005283</td>\n",
              "      <td>99.670066</td>\n",
              "      <td>-0.867262</td>\n",
              "    </tr>\n",
              "    <tr>\n",
              "      <th>std</th>\n",
              "      <td>73.621787</td>\n",
              "      <td>80.407705</td>\n",
              "      <td>29.513152</td>\n",
              "      <td>441.691640</td>\n",
              "      <td>56.355540</td>\n",
              "      <td>0.000000</td>\n",
              "      <td>6.237214</td>\n",
              "      <td>0.008961</td>\n",
              "      <td>0.073897</td>\n",
              "      <td>0.015116</td>\n",
              "      <td>...</td>\n",
              "      <td>87.520966</td>\n",
              "      <td>0.003404</td>\n",
              "      <td>0.017180</td>\n",
              "      <td>0.003720</td>\n",
              "      <td>3.578033</td>\n",
              "      <td>0.012358</td>\n",
              "      <td>0.008808</td>\n",
              "      <td>0.002867</td>\n",
              "      <td>93.891919</td>\n",
              "      <td>0.498010</td>\n",
              "    </tr>\n",
              "    <tr>\n",
              "      <th>min</th>\n",
              "      <td>2743.240000</td>\n",
              "      <td>2158.750000</td>\n",
              "      <td>2060.660000</td>\n",
              "      <td>0.000000</td>\n",
              "      <td>0.681500</td>\n",
              "      <td>100.000000</td>\n",
              "      <td>82.131100</td>\n",
              "      <td>0.000000</td>\n",
              "      <td>1.191000</td>\n",
              "      <td>-0.053400</td>\n",
              "      <td>...</td>\n",
              "      <td>0.000000</td>\n",
              "      <td>0.477800</td>\n",
              "      <td>0.006000</td>\n",
              "      <td>0.001700</td>\n",
              "      <td>1.197500</td>\n",
              "      <td>-0.016900</td>\n",
              "      <td>0.003200</td>\n",
              "      <td>0.001000</td>\n",
              "      <td>0.000000</td>\n",
              "      <td>-1.000000</td>\n",
              "    </tr>\n",
              "    <tr>\n",
              "      <th>25%</th>\n",
              "      <td>2966.260000</td>\n",
              "      <td>2452.247500</td>\n",
              "      <td>2181.044400</td>\n",
              "      <td>1081.875800</td>\n",
              "      <td>1.017700</td>\n",
              "      <td>100.000000</td>\n",
              "      <td>97.920000</td>\n",
              "      <td>0.121100</td>\n",
              "      <td>1.411200</td>\n",
              "      <td>-0.010800</td>\n",
              "      <td>...</td>\n",
              "      <td>46.184900</td>\n",
              "      <td>0.497900</td>\n",
              "      <td>0.011600</td>\n",
              "      <td>0.003100</td>\n",
              "      <td>2.306500</td>\n",
              "      <td>0.013425</td>\n",
              "      <td>0.010600</td>\n",
              "      <td>0.003300</td>\n",
              "      <td>44.368600</td>\n",
              "      <td>-1.000000</td>\n",
              "    </tr>\n",
              "    <tr>\n",
              "      <th>50%</th>\n",
              "      <td>3011.490000</td>\n",
              "      <td>2499.405000</td>\n",
              "      <td>2201.066700</td>\n",
              "      <td>1285.214400</td>\n",
              "      <td>1.316800</td>\n",
              "      <td>100.000000</td>\n",
              "      <td>101.512200</td>\n",
              "      <td>0.122400</td>\n",
              "      <td>1.461600</td>\n",
              "      <td>-0.001300</td>\n",
              "      <td>...</td>\n",
              "      <td>72.288900</td>\n",
              "      <td>0.500200</td>\n",
              "      <td>0.013800</td>\n",
              "      <td>0.003600</td>\n",
              "      <td>2.757650</td>\n",
              "      <td>0.020500</td>\n",
              "      <td>0.014800</td>\n",
              "      <td>0.004600</td>\n",
              "      <td>71.900500</td>\n",
              "      <td>-1.000000</td>\n",
              "    </tr>\n",
              "    <tr>\n",
              "      <th>75%</th>\n",
              "      <td>3056.650000</td>\n",
              "      <td>2538.822500</td>\n",
              "      <td>2218.055500</td>\n",
              "      <td>1591.223500</td>\n",
              "      <td>1.525700</td>\n",
              "      <td>100.000000</td>\n",
              "      <td>104.586700</td>\n",
              "      <td>0.123800</td>\n",
              "      <td>1.516900</td>\n",
              "      <td>0.008400</td>\n",
              "      <td>...</td>\n",
              "      <td>116.539150</td>\n",
              "      <td>0.502375</td>\n",
              "      <td>0.016500</td>\n",
              "      <td>0.004100</td>\n",
              "      <td>3.295175</td>\n",
              "      <td>0.027600</td>\n",
              "      <td>0.020300</td>\n",
              "      <td>0.006400</td>\n",
              "      <td>114.749700</td>\n",
              "      <td>-1.000000</td>\n",
              "    </tr>\n",
              "    <tr>\n",
              "      <th>max</th>\n",
              "      <td>3356.350000</td>\n",
              "      <td>2846.440000</td>\n",
              "      <td>2315.266700</td>\n",
              "      <td>3715.041700</td>\n",
              "      <td>1114.536600</td>\n",
              "      <td>100.000000</td>\n",
              "      <td>129.252200</td>\n",
              "      <td>0.128600</td>\n",
              "      <td>1.656400</td>\n",
              "      <td>0.074900</td>\n",
              "      <td>...</td>\n",
              "      <td>737.304800</td>\n",
              "      <td>0.509800</td>\n",
              "      <td>0.476600</td>\n",
              "      <td>0.104500</td>\n",
              "      <td>99.303200</td>\n",
              "      <td>0.102800</td>\n",
              "      <td>0.079900</td>\n",
              "      <td>0.028600</td>\n",
              "      <td>737.304800</td>\n",
              "      <td>1.000000</td>\n",
              "    </tr>\n",
              "  </tbody>\n",
              "</table>\n",
              "<p>8 rows × 591 columns</p>\n",
              "</div>\n",
              "    <div class=\"colab-df-buttons\">\n",
              "\n",
              "  <div class=\"colab-df-container\">\n",
              "    <button class=\"colab-df-convert\" onclick=\"convertToInteractive('df-d357d890-9599-483a-bb2c-51d116be2b4b')\"\n",
              "            title=\"Convert this dataframe to an interactive table.\"\n",
              "            style=\"display:none;\">\n",
              "\n",
              "  <svg xmlns=\"http://www.w3.org/2000/svg\" height=\"24px\" viewBox=\"0 -960 960 960\">\n",
              "    <path d=\"M120-120v-720h720v720H120Zm60-500h600v-160H180v160Zm220 220h160v-160H400v160Zm0 220h160v-160H400v160ZM180-400h160v-160H180v160Zm440 0h160v-160H620v160ZM180-180h160v-160H180v160Zm440 0h160v-160H620v160Z\"/>\n",
              "  </svg>\n",
              "    </button>\n",
              "\n",
              "  <style>\n",
              "    .colab-df-container {\n",
              "      display:flex;\n",
              "      gap: 12px;\n",
              "    }\n",
              "\n",
              "    .colab-df-convert {\n",
              "      background-color: #E8F0FE;\n",
              "      border: none;\n",
              "      border-radius: 50%;\n",
              "      cursor: pointer;\n",
              "      display: none;\n",
              "      fill: #1967D2;\n",
              "      height: 32px;\n",
              "      padding: 0 0 0 0;\n",
              "      width: 32px;\n",
              "    }\n",
              "\n",
              "    .colab-df-convert:hover {\n",
              "      background-color: #E2EBFA;\n",
              "      box-shadow: 0px 1px 2px rgba(60, 64, 67, 0.3), 0px 1px 3px 1px rgba(60, 64, 67, 0.15);\n",
              "      fill: #174EA6;\n",
              "    }\n",
              "\n",
              "    .colab-df-buttons div {\n",
              "      margin-bottom: 4px;\n",
              "    }\n",
              "\n",
              "    [theme=dark] .colab-df-convert {\n",
              "      background-color: #3B4455;\n",
              "      fill: #D2E3FC;\n",
              "    }\n",
              "\n",
              "    [theme=dark] .colab-df-convert:hover {\n",
              "      background-color: #434B5C;\n",
              "      box-shadow: 0px 1px 3px 1px rgba(0, 0, 0, 0.15);\n",
              "      filter: drop-shadow(0px 1px 2px rgba(0, 0, 0, 0.3));\n",
              "      fill: #FFFFFF;\n",
              "    }\n",
              "  </style>\n",
              "\n",
              "    <script>\n",
              "      const buttonEl =\n",
              "        document.querySelector('#df-d357d890-9599-483a-bb2c-51d116be2b4b button.colab-df-convert');\n",
              "      buttonEl.style.display =\n",
              "        google.colab.kernel.accessAllowed ? 'block' : 'none';\n",
              "\n",
              "      async function convertToInteractive(key) {\n",
              "        const element = document.querySelector('#df-d357d890-9599-483a-bb2c-51d116be2b4b');\n",
              "        const dataTable =\n",
              "          await google.colab.kernel.invokeFunction('convertToInteractive',\n",
              "                                                    [key], {});\n",
              "        if (!dataTable) return;\n",
              "\n",
              "        const docLinkHtml = 'Like what you see? Visit the ' +\n",
              "          '<a target=\"_blank\" href=https://colab.research.google.com/notebooks/data_table.ipynb>data table notebook</a>'\n",
              "          + ' to learn more about interactive tables.';\n",
              "        element.innerHTML = '';\n",
              "        dataTable['output_type'] = 'display_data';\n",
              "        await google.colab.output.renderOutput(dataTable, element);\n",
              "        const docLink = document.createElement('div');\n",
              "        docLink.innerHTML = docLinkHtml;\n",
              "        element.appendChild(docLink);\n",
              "      }\n",
              "    </script>\n",
              "  </div>\n",
              "\n",
              "\n",
              "<div id=\"df-5d38d7b5-918e-4106-b96b-256ebabb7d1f\">\n",
              "  <button class=\"colab-df-quickchart\" onclick=\"quickchart('df-5d38d7b5-918e-4106-b96b-256ebabb7d1f')\"\n",
              "            title=\"Suggest charts.\"\n",
              "            style=\"display:none;\">\n",
              "\n",
              "<svg xmlns=\"http://www.w3.org/2000/svg\" height=\"24px\"viewBox=\"0 0 24 24\"\n",
              "     width=\"24px\">\n",
              "    <g>\n",
              "        <path d=\"M19 3H5c-1.1 0-2 .9-2 2v14c0 1.1.9 2 2 2h14c1.1 0 2-.9 2-2V5c0-1.1-.9-2-2-2zM9 17H7v-7h2v7zm4 0h-2V7h2v10zm4 0h-2v-4h2v4z\"/>\n",
              "    </g>\n",
              "</svg>\n",
              "  </button>\n",
              "\n",
              "<style>\n",
              "  .colab-df-quickchart {\n",
              "    background-color: #E8F0FE;\n",
              "    border: none;\n",
              "    border-radius: 50%;\n",
              "    cursor: pointer;\n",
              "    display: none;\n",
              "    fill: #1967D2;\n",
              "    height: 32px;\n",
              "    padding: 0 0 0 0;\n",
              "    width: 32px;\n",
              "  }\n",
              "\n",
              "  .colab-df-quickchart:hover {\n",
              "    background-color: #E2EBFA;\n",
              "    box-shadow: 0px 1px 2px rgba(60, 64, 67, 0.3), 0px 1px 3px 1px rgba(60, 64, 67, 0.15);\n",
              "    fill: #174EA6;\n",
              "  }\n",
              "\n",
              "  [theme=dark] .colab-df-quickchart {\n",
              "    background-color: #3B4455;\n",
              "    fill: #D2E3FC;\n",
              "  }\n",
              "\n",
              "  [theme=dark] .colab-df-quickchart:hover {\n",
              "    background-color: #434B5C;\n",
              "    box-shadow: 0px 1px 3px 1px rgba(0, 0, 0, 0.15);\n",
              "    filter: drop-shadow(0px 1px 2px rgba(0, 0, 0, 0.3));\n",
              "    fill: #FFFFFF;\n",
              "  }\n",
              "</style>\n",
              "\n",
              "  <script>\n",
              "    async function quickchart(key) {\n",
              "      const charts = await google.colab.kernel.invokeFunction(\n",
              "          'suggestCharts', [key], {});\n",
              "    }\n",
              "    (() => {\n",
              "      let quickchartButtonEl =\n",
              "        document.querySelector('#df-5d38d7b5-918e-4106-b96b-256ebabb7d1f button');\n",
              "      quickchartButtonEl.style.display =\n",
              "        google.colab.kernel.accessAllowed ? 'block' : 'none';\n",
              "    })();\n",
              "  </script>\n",
              "</div>\n",
              "    </div>\n",
              "  </div>\n"
            ]
          },
          "metadata": {},
          "execution_count": 165
        }
      ]
    },
    {
      "cell_type": "code",
      "source": [
        "##min_periods = 10 is to compute the covariance of 10 columns\n",
        "df_signal.cov(min_periods=10)"
      ],
      "metadata": {
        "colab": {
          "base_uri": "https://localhost:8080/",
          "height": 478
        },
        "id": "WBzSImZHTdw8",
        "outputId": "65227a96-943c-4ac9-b33b-50de33208d80"
      },
      "execution_count": 174,
      "outputs": [
        {
          "output_type": "stream",
          "name": "stderr",
          "text": [
            "<ipython-input-174-4da15739775b>:1: FutureWarning: The default value of numeric_only in DataFrame.cov is deprecated. In a future version, it will default to False. Select only valid columns or specify the value of numeric_only to silence this warning.\n",
            "  df_signal.cov(min_periods=10)\n"
          ]
        },
        {
          "output_type": "execute_result",
          "data": {
            "text/plain": [
              "                    0           1           2             3            4  \\\n",
              "0         5420.167484 -854.981620   10.404778   -249.233421   -45.996191   \n",
              "1         -854.981620 6465.399020   13.772489   -270.334386    -7.456332   \n",
              "2           10.404778   13.772489  871.026144   3896.827106   159.488156   \n",
              "3         -249.233421 -270.334386 3896.827106 195091.505178 -1455.749849   \n",
              "4          -45.996191   -7.456332  159.488156  -1455.749849  3175.946899   \n",
              "...               ...         ...         ...           ...          ...   \n",
              "586          0.016818   -0.009368   -0.009344      0.190383    -0.030742   \n",
              "587         -0.016819    0.012260   -0.007665     -0.152967    -0.015463   \n",
              "588         -0.005959    0.002339   -0.002620     -0.042813    -0.004237   \n",
              "589         28.918571  339.075183  -91.577646  -3347.911388   270.682319   \n",
              "Pass/Fail   -0.923553   -0.104456   -0.014131     -5.440593    -0.387803   \n",
              "\n",
              "                 5            6         7         8         9  ...  \\\n",
              "0         0.000000     1.049378  0.020871 -0.287002  0.010092  ...   \n",
              "1         0.000000   -12.908305 -0.008719  0.186258  0.029213  ...   \n",
              "2         0.000000   -25.076275 -0.038803  0.051577  0.007250  ...   \n",
              "3         0.000000 -1889.425493  0.293140 -3.375654  0.457740  ...   \n",
              "4         0.000000   -26.140403 -0.175559 -0.108608  0.046415  ...   \n",
              "...            ...          ...       ...       ...       ...  ...   \n",
              "586       0.000000    -0.003192  0.000006  0.000010  0.000006  ...   \n",
              "587       0.000000     0.001878 -0.000002  0.000015  0.000008  ...   \n",
              "588       0.000000     0.000579 -0.000001  0.000006  0.000003  ...   \n",
              "589       0.000000    25.761123 -0.090996 -0.158137  0.006932  ...   \n",
              "Pass/Fail 0.000000     0.050668  0.000058  0.001032 -0.000235  ...   \n",
              "\n",
              "                   581       582       583       584       585       586  \\\n",
              "0          -175.380648  0.000056  0.029730  0.005465  6.227703  0.016818   \n",
              "1           605.770544  0.011953  0.004022 -0.000379  0.655531 -0.009368   \n",
              "2           -29.064713 -0.000608  0.007997  0.002011  1.671424 -0.009344   \n",
              "3         -4387.560318  0.013581  0.193949  0.040845 41.319276  0.190383   \n",
              "4           691.797489  0.008691 -0.001264 -0.000336 -0.327434 -0.030742   \n",
              "...                ...       ...       ...       ...       ...       ...   \n",
              "586          -0.488065 -0.000001  0.000000  0.000000  0.000121  0.000153   \n",
              "587           0.334422 -0.000001 -0.000000 -0.000000 -0.000092  0.000018   \n",
              "588           0.103404 -0.000000 -0.000000 -0.000000 -0.000026  0.000006   \n",
              "589        7659.919530  0.013269 -0.004855 -0.001152 -1.277462 -0.564570   \n",
              "Pass/Fail    -0.944408  0.000080  0.000051  0.000010  0.008974  0.000026   \n",
              "\n",
              "                587       588          589  Pass/Fail  \n",
              "0         -0.016819 -0.005959    28.918571  -0.923553  \n",
              "1          0.012260  0.002339   339.075183  -0.104456  \n",
              "2         -0.007665 -0.002620   -91.577646  -0.014131  \n",
              "3         -0.152967 -0.042813 -3347.911388  -5.440593  \n",
              "4         -0.015463 -0.004237   270.682319  -0.387803  \n",
              "...             ...       ...          ...        ...  \n",
              "586        0.000018  0.000006    -0.564570   0.000026  \n",
              "587        0.000078  0.000025     0.323185   0.000155  \n",
              "588        0.000025  0.000008     0.104774   0.000045  \n",
              "589        0.323185  0.104774  8815.692532  -0.124113  \n",
              "Pass/Fail  0.000155  0.000045    -0.124113   0.248014  \n",
              "\n",
              "[591 rows x 591 columns]"
            ],
            "text/html": [
              "\n",
              "  <div id=\"df-d35366d1-c7a5-4982-a2be-bd0376de59a7\" class=\"colab-df-container\">\n",
              "    <div>\n",
              "<style scoped>\n",
              "    .dataframe tbody tr th:only-of-type {\n",
              "        vertical-align: middle;\n",
              "    }\n",
              "\n",
              "    .dataframe tbody tr th {\n",
              "        vertical-align: top;\n",
              "    }\n",
              "\n",
              "    .dataframe thead th {\n",
              "        text-align: right;\n",
              "    }\n",
              "</style>\n",
              "<table border=\"1\" class=\"dataframe\">\n",
              "  <thead>\n",
              "    <tr style=\"text-align: right;\">\n",
              "      <th></th>\n",
              "      <th>0</th>\n",
              "      <th>1</th>\n",
              "      <th>2</th>\n",
              "      <th>3</th>\n",
              "      <th>4</th>\n",
              "      <th>5</th>\n",
              "      <th>6</th>\n",
              "      <th>7</th>\n",
              "      <th>8</th>\n",
              "      <th>9</th>\n",
              "      <th>...</th>\n",
              "      <th>581</th>\n",
              "      <th>582</th>\n",
              "      <th>583</th>\n",
              "      <th>584</th>\n",
              "      <th>585</th>\n",
              "      <th>586</th>\n",
              "      <th>587</th>\n",
              "      <th>588</th>\n",
              "      <th>589</th>\n",
              "      <th>Pass/Fail</th>\n",
              "    </tr>\n",
              "  </thead>\n",
              "  <tbody>\n",
              "    <tr>\n",
              "      <th>0</th>\n",
              "      <td>5420.167484</td>\n",
              "      <td>-854.981620</td>\n",
              "      <td>10.404778</td>\n",
              "      <td>-249.233421</td>\n",
              "      <td>-45.996191</td>\n",
              "      <td>0.000000</td>\n",
              "      <td>1.049378</td>\n",
              "      <td>0.020871</td>\n",
              "      <td>-0.287002</td>\n",
              "      <td>0.010092</td>\n",
              "      <td>...</td>\n",
              "      <td>-175.380648</td>\n",
              "      <td>0.000056</td>\n",
              "      <td>0.029730</td>\n",
              "      <td>0.005465</td>\n",
              "      <td>6.227703</td>\n",
              "      <td>0.016818</td>\n",
              "      <td>-0.016819</td>\n",
              "      <td>-0.005959</td>\n",
              "      <td>28.918571</td>\n",
              "      <td>-0.923553</td>\n",
              "    </tr>\n",
              "    <tr>\n",
              "      <th>1</th>\n",
              "      <td>-854.981620</td>\n",
              "      <td>6465.399020</td>\n",
              "      <td>13.772489</td>\n",
              "      <td>-270.334386</td>\n",
              "      <td>-7.456332</td>\n",
              "      <td>0.000000</td>\n",
              "      <td>-12.908305</td>\n",
              "      <td>-0.008719</td>\n",
              "      <td>0.186258</td>\n",
              "      <td>0.029213</td>\n",
              "      <td>...</td>\n",
              "      <td>605.770544</td>\n",
              "      <td>0.011953</td>\n",
              "      <td>0.004022</td>\n",
              "      <td>-0.000379</td>\n",
              "      <td>0.655531</td>\n",
              "      <td>-0.009368</td>\n",
              "      <td>0.012260</td>\n",
              "      <td>0.002339</td>\n",
              "      <td>339.075183</td>\n",
              "      <td>-0.104456</td>\n",
              "    </tr>\n",
              "    <tr>\n",
              "      <th>2</th>\n",
              "      <td>10.404778</td>\n",
              "      <td>13.772489</td>\n",
              "      <td>871.026144</td>\n",
              "      <td>3896.827106</td>\n",
              "      <td>159.488156</td>\n",
              "      <td>0.000000</td>\n",
              "      <td>-25.076275</td>\n",
              "      <td>-0.038803</td>\n",
              "      <td>0.051577</td>\n",
              "      <td>0.007250</td>\n",
              "      <td>...</td>\n",
              "      <td>-29.064713</td>\n",
              "      <td>-0.000608</td>\n",
              "      <td>0.007997</td>\n",
              "      <td>0.002011</td>\n",
              "      <td>1.671424</td>\n",
              "      <td>-0.009344</td>\n",
              "      <td>-0.007665</td>\n",
              "      <td>-0.002620</td>\n",
              "      <td>-91.577646</td>\n",
              "      <td>-0.014131</td>\n",
              "    </tr>\n",
              "    <tr>\n",
              "      <th>3</th>\n",
              "      <td>-249.233421</td>\n",
              "      <td>-270.334386</td>\n",
              "      <td>3896.827106</td>\n",
              "      <td>195091.505178</td>\n",
              "      <td>-1455.749849</td>\n",
              "      <td>0.000000</td>\n",
              "      <td>-1889.425493</td>\n",
              "      <td>0.293140</td>\n",
              "      <td>-3.375654</td>\n",
              "      <td>0.457740</td>\n",
              "      <td>...</td>\n",
              "      <td>-4387.560318</td>\n",
              "      <td>0.013581</td>\n",
              "      <td>0.193949</td>\n",
              "      <td>0.040845</td>\n",
              "      <td>41.319276</td>\n",
              "      <td>0.190383</td>\n",
              "      <td>-0.152967</td>\n",
              "      <td>-0.042813</td>\n",
              "      <td>-3347.911388</td>\n",
              "      <td>-5.440593</td>\n",
              "    </tr>\n",
              "    <tr>\n",
              "      <th>4</th>\n",
              "      <td>-45.996191</td>\n",
              "      <td>-7.456332</td>\n",
              "      <td>159.488156</td>\n",
              "      <td>-1455.749849</td>\n",
              "      <td>3175.946899</td>\n",
              "      <td>0.000000</td>\n",
              "      <td>-26.140403</td>\n",
              "      <td>-0.175559</td>\n",
              "      <td>-0.108608</td>\n",
              "      <td>0.046415</td>\n",
              "      <td>...</td>\n",
              "      <td>691.797489</td>\n",
              "      <td>0.008691</td>\n",
              "      <td>-0.001264</td>\n",
              "      <td>-0.000336</td>\n",
              "      <td>-0.327434</td>\n",
              "      <td>-0.030742</td>\n",
              "      <td>-0.015463</td>\n",
              "      <td>-0.004237</td>\n",
              "      <td>270.682319</td>\n",
              "      <td>-0.387803</td>\n",
              "    </tr>\n",
              "    <tr>\n",
              "      <th>...</th>\n",
              "      <td>...</td>\n",
              "      <td>...</td>\n",
              "      <td>...</td>\n",
              "      <td>...</td>\n",
              "      <td>...</td>\n",
              "      <td>...</td>\n",
              "      <td>...</td>\n",
              "      <td>...</td>\n",
              "      <td>...</td>\n",
              "      <td>...</td>\n",
              "      <td>...</td>\n",
              "      <td>...</td>\n",
              "      <td>...</td>\n",
              "      <td>...</td>\n",
              "      <td>...</td>\n",
              "      <td>...</td>\n",
              "      <td>...</td>\n",
              "      <td>...</td>\n",
              "      <td>...</td>\n",
              "      <td>...</td>\n",
              "      <td>...</td>\n",
              "    </tr>\n",
              "    <tr>\n",
              "      <th>586</th>\n",
              "      <td>0.016818</td>\n",
              "      <td>-0.009368</td>\n",
              "      <td>-0.009344</td>\n",
              "      <td>0.190383</td>\n",
              "      <td>-0.030742</td>\n",
              "      <td>0.000000</td>\n",
              "      <td>-0.003192</td>\n",
              "      <td>0.000006</td>\n",
              "      <td>0.000010</td>\n",
              "      <td>0.000006</td>\n",
              "      <td>...</td>\n",
              "      <td>-0.488065</td>\n",
              "      <td>-0.000001</td>\n",
              "      <td>0.000000</td>\n",
              "      <td>0.000000</td>\n",
              "      <td>0.000121</td>\n",
              "      <td>0.000153</td>\n",
              "      <td>0.000018</td>\n",
              "      <td>0.000006</td>\n",
              "      <td>-0.564570</td>\n",
              "      <td>0.000026</td>\n",
              "    </tr>\n",
              "    <tr>\n",
              "      <th>587</th>\n",
              "      <td>-0.016819</td>\n",
              "      <td>0.012260</td>\n",
              "      <td>-0.007665</td>\n",
              "      <td>-0.152967</td>\n",
              "      <td>-0.015463</td>\n",
              "      <td>0.000000</td>\n",
              "      <td>0.001878</td>\n",
              "      <td>-0.000002</td>\n",
              "      <td>0.000015</td>\n",
              "      <td>0.000008</td>\n",
              "      <td>...</td>\n",
              "      <td>0.334422</td>\n",
              "      <td>-0.000001</td>\n",
              "      <td>-0.000000</td>\n",
              "      <td>-0.000000</td>\n",
              "      <td>-0.000092</td>\n",
              "      <td>0.000018</td>\n",
              "      <td>0.000078</td>\n",
              "      <td>0.000025</td>\n",
              "      <td>0.323185</td>\n",
              "      <td>0.000155</td>\n",
              "    </tr>\n",
              "    <tr>\n",
              "      <th>588</th>\n",
              "      <td>-0.005959</td>\n",
              "      <td>0.002339</td>\n",
              "      <td>-0.002620</td>\n",
              "      <td>-0.042813</td>\n",
              "      <td>-0.004237</td>\n",
              "      <td>0.000000</td>\n",
              "      <td>0.000579</td>\n",
              "      <td>-0.000001</td>\n",
              "      <td>0.000006</td>\n",
              "      <td>0.000003</td>\n",
              "      <td>...</td>\n",
              "      <td>0.103404</td>\n",
              "      <td>-0.000000</td>\n",
              "      <td>-0.000000</td>\n",
              "      <td>-0.000000</td>\n",
              "      <td>-0.000026</td>\n",
              "      <td>0.000006</td>\n",
              "      <td>0.000025</td>\n",
              "      <td>0.000008</td>\n",
              "      <td>0.104774</td>\n",
              "      <td>0.000045</td>\n",
              "    </tr>\n",
              "    <tr>\n",
              "      <th>589</th>\n",
              "      <td>28.918571</td>\n",
              "      <td>339.075183</td>\n",
              "      <td>-91.577646</td>\n",
              "      <td>-3347.911388</td>\n",
              "      <td>270.682319</td>\n",
              "      <td>0.000000</td>\n",
              "      <td>25.761123</td>\n",
              "      <td>-0.090996</td>\n",
              "      <td>-0.158137</td>\n",
              "      <td>0.006932</td>\n",
              "      <td>...</td>\n",
              "      <td>7659.919530</td>\n",
              "      <td>0.013269</td>\n",
              "      <td>-0.004855</td>\n",
              "      <td>-0.001152</td>\n",
              "      <td>-1.277462</td>\n",
              "      <td>-0.564570</td>\n",
              "      <td>0.323185</td>\n",
              "      <td>0.104774</td>\n",
              "      <td>8815.692532</td>\n",
              "      <td>-0.124113</td>\n",
              "    </tr>\n",
              "    <tr>\n",
              "      <th>Pass/Fail</th>\n",
              "      <td>-0.923553</td>\n",
              "      <td>-0.104456</td>\n",
              "      <td>-0.014131</td>\n",
              "      <td>-5.440593</td>\n",
              "      <td>-0.387803</td>\n",
              "      <td>0.000000</td>\n",
              "      <td>0.050668</td>\n",
              "      <td>0.000058</td>\n",
              "      <td>0.001032</td>\n",
              "      <td>-0.000235</td>\n",
              "      <td>...</td>\n",
              "      <td>-0.944408</td>\n",
              "      <td>0.000080</td>\n",
              "      <td>0.000051</td>\n",
              "      <td>0.000010</td>\n",
              "      <td>0.008974</td>\n",
              "      <td>0.000026</td>\n",
              "      <td>0.000155</td>\n",
              "      <td>0.000045</td>\n",
              "      <td>-0.124113</td>\n",
              "      <td>0.248014</td>\n",
              "    </tr>\n",
              "  </tbody>\n",
              "</table>\n",
              "<p>591 rows × 591 columns</p>\n",
              "</div>\n",
              "    <div class=\"colab-df-buttons\">\n",
              "\n",
              "  <div class=\"colab-df-container\">\n",
              "    <button class=\"colab-df-convert\" onclick=\"convertToInteractive('df-d35366d1-c7a5-4982-a2be-bd0376de59a7')\"\n",
              "            title=\"Convert this dataframe to an interactive table.\"\n",
              "            style=\"display:none;\">\n",
              "\n",
              "  <svg xmlns=\"http://www.w3.org/2000/svg\" height=\"24px\" viewBox=\"0 -960 960 960\">\n",
              "    <path d=\"M120-120v-720h720v720H120Zm60-500h600v-160H180v160Zm220 220h160v-160H400v160Zm0 220h160v-160H400v160ZM180-400h160v-160H180v160Zm440 0h160v-160H620v160ZM180-180h160v-160H180v160Zm440 0h160v-160H620v160Z\"/>\n",
              "  </svg>\n",
              "    </button>\n",
              "\n",
              "  <style>\n",
              "    .colab-df-container {\n",
              "      display:flex;\n",
              "      gap: 12px;\n",
              "    }\n",
              "\n",
              "    .colab-df-convert {\n",
              "      background-color: #E8F0FE;\n",
              "      border: none;\n",
              "      border-radius: 50%;\n",
              "      cursor: pointer;\n",
              "      display: none;\n",
              "      fill: #1967D2;\n",
              "      height: 32px;\n",
              "      padding: 0 0 0 0;\n",
              "      width: 32px;\n",
              "    }\n",
              "\n",
              "    .colab-df-convert:hover {\n",
              "      background-color: #E2EBFA;\n",
              "      box-shadow: 0px 1px 2px rgba(60, 64, 67, 0.3), 0px 1px 3px 1px rgba(60, 64, 67, 0.15);\n",
              "      fill: #174EA6;\n",
              "    }\n",
              "\n",
              "    .colab-df-buttons div {\n",
              "      margin-bottom: 4px;\n",
              "    }\n",
              "\n",
              "    [theme=dark] .colab-df-convert {\n",
              "      background-color: #3B4455;\n",
              "      fill: #D2E3FC;\n",
              "    }\n",
              "\n",
              "    [theme=dark] .colab-df-convert:hover {\n",
              "      background-color: #434B5C;\n",
              "      box-shadow: 0px 1px 3px 1px rgba(0, 0, 0, 0.15);\n",
              "      filter: drop-shadow(0px 1px 2px rgba(0, 0, 0, 0.3));\n",
              "      fill: #FFFFFF;\n",
              "    }\n",
              "  </style>\n",
              "\n",
              "    <script>\n",
              "      const buttonEl =\n",
              "        document.querySelector('#df-d35366d1-c7a5-4982-a2be-bd0376de59a7 button.colab-df-convert');\n",
              "      buttonEl.style.display =\n",
              "        google.colab.kernel.accessAllowed ? 'block' : 'none';\n",
              "\n",
              "      async function convertToInteractive(key) {\n",
              "        const element = document.querySelector('#df-d35366d1-c7a5-4982-a2be-bd0376de59a7');\n",
              "        const dataTable =\n",
              "          await google.colab.kernel.invokeFunction('convertToInteractive',\n",
              "                                                    [key], {});\n",
              "        if (!dataTable) return;\n",
              "\n",
              "        const docLinkHtml = 'Like what you see? Visit the ' +\n",
              "          '<a target=\"_blank\" href=https://colab.research.google.com/notebooks/data_table.ipynb>data table notebook</a>'\n",
              "          + ' to learn more about interactive tables.';\n",
              "        element.innerHTML = '';\n",
              "        dataTable['output_type'] = 'display_data';\n",
              "        await google.colab.output.renderOutput(dataTable, element);\n",
              "        const docLink = document.createElement('div');\n",
              "        docLink.innerHTML = docLinkHtml;\n",
              "        element.appendChild(docLink);\n",
              "      }\n",
              "    </script>\n",
              "  </div>\n",
              "\n",
              "\n",
              "<div id=\"df-e1d670a5-0710-4cbd-8f7a-4d1ba25c80de\">\n",
              "  <button class=\"colab-df-quickchart\" onclick=\"quickchart('df-e1d670a5-0710-4cbd-8f7a-4d1ba25c80de')\"\n",
              "            title=\"Suggest charts.\"\n",
              "            style=\"display:none;\">\n",
              "\n",
              "<svg xmlns=\"http://www.w3.org/2000/svg\" height=\"24px\"viewBox=\"0 0 24 24\"\n",
              "     width=\"24px\">\n",
              "    <g>\n",
              "        <path d=\"M19 3H5c-1.1 0-2 .9-2 2v14c0 1.1.9 2 2 2h14c1.1 0 2-.9 2-2V5c0-1.1-.9-2-2-2zM9 17H7v-7h2v7zm4 0h-2V7h2v10zm4 0h-2v-4h2v4z\"/>\n",
              "    </g>\n",
              "</svg>\n",
              "  </button>\n",
              "\n",
              "<style>\n",
              "  .colab-df-quickchart {\n",
              "    background-color: #E8F0FE;\n",
              "    border: none;\n",
              "    border-radius: 50%;\n",
              "    cursor: pointer;\n",
              "    display: none;\n",
              "    fill: #1967D2;\n",
              "    height: 32px;\n",
              "    padding: 0 0 0 0;\n",
              "    width: 32px;\n",
              "  }\n",
              "\n",
              "  .colab-df-quickchart:hover {\n",
              "    background-color: #E2EBFA;\n",
              "    box-shadow: 0px 1px 2px rgba(60, 64, 67, 0.3), 0px 1px 3px 1px rgba(60, 64, 67, 0.15);\n",
              "    fill: #174EA6;\n",
              "  }\n",
              "\n",
              "  [theme=dark] .colab-df-quickchart {\n",
              "    background-color: #3B4455;\n",
              "    fill: #D2E3FC;\n",
              "  }\n",
              "\n",
              "  [theme=dark] .colab-df-quickchart:hover {\n",
              "    background-color: #434B5C;\n",
              "    box-shadow: 0px 1px 3px 1px rgba(0, 0, 0, 0.15);\n",
              "    filter: drop-shadow(0px 1px 2px rgba(0, 0, 0, 0.3));\n",
              "    fill: #FFFFFF;\n",
              "  }\n",
              "</style>\n",
              "\n",
              "  <script>\n",
              "    async function quickchart(key) {\n",
              "      const charts = await google.colab.kernel.invokeFunction(\n",
              "          'suggestCharts', [key], {});\n",
              "    }\n",
              "    (() => {\n",
              "      let quickchartButtonEl =\n",
              "        document.querySelector('#df-e1d670a5-0710-4cbd-8f7a-4d1ba25c80de button');\n",
              "      quickchartButtonEl.style.display =\n",
              "        google.colab.kernel.accessAllowed ? 'block' : 'none';\n",
              "    })();\n",
              "  </script>\n",
              "</div>\n",
              "    </div>\n",
              "  </div>\n"
            ]
          },
          "metadata": {},
          "execution_count": 174
        }
      ]
    },
    {
      "cell_type": "code",
      "source": [
        "# printing Statistics of trained data\n",
        "print(\"Statistics of trained data\")\n",
        "X_train.describe()"
      ],
      "metadata": {
        "colab": {
          "base_uri": "https://localhost:8080/",
          "height": 367
        },
        "id": "SB8gZQawLKUV",
        "outputId": "cf27b0dd-c35b-4428-a03d-f99a0c2a5a77"
      },
      "execution_count": 166,
      "outputs": [
        {
          "output_type": "stream",
          "name": "stdout",
          "text": [
            "Statistics of trained data\n"
          ]
        },
        {
          "output_type": "execute_result",
          "data": {
            "text/plain": [
              "                0           1           2           3           4           6  \\\n",
              "count 1175.000000 1175.000000 1175.000000 1175.000000 1175.000000 1175.000000   \n",
              "mean  3014.953796 2496.671047 2200.901546 1397.931986    3.247264  101.186898   \n",
              "std     73.769456   79.683059   28.992582  435.655301   45.858620    6.422462   \n",
              "min   2770.400000 2158.750000 2060.660000  711.025800    0.681500   82.131100   \n",
              "25%   2965.490000 2454.590000 2182.411100 1084.377900    1.020300   98.078300   \n",
              "50%   3012.410000 2500.250000 2201.577700 1295.288300    1.315000  101.512200   \n",
              "75%   3057.525000 2538.650000 2217.961100 1590.169900    1.529600  104.558350   \n",
              "max   3339.930000 2846.440000 2315.266700 3715.041700 1114.536600  129.252200   \n",
              "\n",
              "                7           8           9          10  ...         580  \\\n",
              "count 1175.000000 1175.000000 1175.000000 1175.000000  ... 1175.000000   \n",
              "mean     0.121930    1.462038   -0.000311    0.000337  ...    0.002107   \n",
              "std      0.007583    0.074281    0.015267    0.009202  ...    0.003344   \n",
              "min      0.000000    1.191000   -0.047200   -0.034900  ...    0.000000   \n",
              "25%      0.121100    1.411400   -0.010450   -0.005350  ...    0.000000   \n",
              "50%      0.122400    1.460300   -0.000900    0.000700  ...    0.000000   \n",
              "75%      0.123800    1.516550    0.009050    0.006100  ...    0.003850   \n",
              "max      0.128600    1.653900    0.074900    0.053000  ...    0.028600   \n",
              "\n",
              "              581         582         583         584         585         586  \\\n",
              "count 1175.000000 1175.000000 1175.000000 1175.000000 1175.000000 1175.000000   \n",
              "mean    97.813875    0.500079    0.015551    0.003894    3.119179    0.021445   \n",
              "std     53.686120    0.003397    0.019649    0.004264    4.094661    0.012064   \n",
              "min      0.000000    0.477800    0.000000    0.000000    1.197500   -0.016900   \n",
              "25%     93.657100    0.497900    0.011500    0.003100    2.301950    0.013800   \n",
              "50%     97.900000    0.500200    0.013700    0.003600    2.760200    0.020300   \n",
              "75%     97.900000    0.502300    0.016600    0.004100    3.309000    0.027600   \n",
              "max    706.824000    0.509800    0.476600    0.104500   99.303200    0.102800   \n",
              "\n",
              "              587         588         589  \n",
              "count 1175.000000 1175.000000 1175.000000  \n",
              "mean     0.016590    0.005326   98.838780  \n",
              "std      0.009060    0.002964   91.365847  \n",
              "min      0.000000    0.000000    0.000000  \n",
              "25%      0.010600    0.003300   44.235500  \n",
              "50%      0.014800    0.004600   72.646900  \n",
              "75%      0.020400    0.006400  114.749700  \n",
              "max      0.079900    0.028600  737.304800  \n",
              "\n",
              "[8 rows x 474 columns]"
            ],
            "text/html": [
              "\n",
              "  <div id=\"df-4bb45d08-8b8d-45a4-b7eb-d4972b2dc0c8\" class=\"colab-df-container\">\n",
              "    <div>\n",
              "<style scoped>\n",
              "    .dataframe tbody tr th:only-of-type {\n",
              "        vertical-align: middle;\n",
              "    }\n",
              "\n",
              "    .dataframe tbody tr th {\n",
              "        vertical-align: top;\n",
              "    }\n",
              "\n",
              "    .dataframe thead th {\n",
              "        text-align: right;\n",
              "    }\n",
              "</style>\n",
              "<table border=\"1\" class=\"dataframe\">\n",
              "  <thead>\n",
              "    <tr style=\"text-align: right;\">\n",
              "      <th></th>\n",
              "      <th>0</th>\n",
              "      <th>1</th>\n",
              "      <th>2</th>\n",
              "      <th>3</th>\n",
              "      <th>4</th>\n",
              "      <th>6</th>\n",
              "      <th>7</th>\n",
              "      <th>8</th>\n",
              "      <th>9</th>\n",
              "      <th>10</th>\n",
              "      <th>...</th>\n",
              "      <th>580</th>\n",
              "      <th>581</th>\n",
              "      <th>582</th>\n",
              "      <th>583</th>\n",
              "      <th>584</th>\n",
              "      <th>585</th>\n",
              "      <th>586</th>\n",
              "      <th>587</th>\n",
              "      <th>588</th>\n",
              "      <th>589</th>\n",
              "    </tr>\n",
              "  </thead>\n",
              "  <tbody>\n",
              "    <tr>\n",
              "      <th>count</th>\n",
              "      <td>1175.000000</td>\n",
              "      <td>1175.000000</td>\n",
              "      <td>1175.000000</td>\n",
              "      <td>1175.000000</td>\n",
              "      <td>1175.000000</td>\n",
              "      <td>1175.000000</td>\n",
              "      <td>1175.000000</td>\n",
              "      <td>1175.000000</td>\n",
              "      <td>1175.000000</td>\n",
              "      <td>1175.000000</td>\n",
              "      <td>...</td>\n",
              "      <td>1175.000000</td>\n",
              "      <td>1175.000000</td>\n",
              "      <td>1175.000000</td>\n",
              "      <td>1175.000000</td>\n",
              "      <td>1175.000000</td>\n",
              "      <td>1175.000000</td>\n",
              "      <td>1175.000000</td>\n",
              "      <td>1175.000000</td>\n",
              "      <td>1175.000000</td>\n",
              "      <td>1175.000000</td>\n",
              "    </tr>\n",
              "    <tr>\n",
              "      <th>mean</th>\n",
              "      <td>3014.953796</td>\n",
              "      <td>2496.671047</td>\n",
              "      <td>2200.901546</td>\n",
              "      <td>1397.931986</td>\n",
              "      <td>3.247264</td>\n",
              "      <td>101.186898</td>\n",
              "      <td>0.121930</td>\n",
              "      <td>1.462038</td>\n",
              "      <td>-0.000311</td>\n",
              "      <td>0.000337</td>\n",
              "      <td>...</td>\n",
              "      <td>0.002107</td>\n",
              "      <td>97.813875</td>\n",
              "      <td>0.500079</td>\n",
              "      <td>0.015551</td>\n",
              "      <td>0.003894</td>\n",
              "      <td>3.119179</td>\n",
              "      <td>0.021445</td>\n",
              "      <td>0.016590</td>\n",
              "      <td>0.005326</td>\n",
              "      <td>98.838780</td>\n",
              "    </tr>\n",
              "    <tr>\n",
              "      <th>std</th>\n",
              "      <td>73.769456</td>\n",
              "      <td>79.683059</td>\n",
              "      <td>28.992582</td>\n",
              "      <td>435.655301</td>\n",
              "      <td>45.858620</td>\n",
              "      <td>6.422462</td>\n",
              "      <td>0.007583</td>\n",
              "      <td>0.074281</td>\n",
              "      <td>0.015267</td>\n",
              "      <td>0.009202</td>\n",
              "      <td>...</td>\n",
              "      <td>0.003344</td>\n",
              "      <td>53.686120</td>\n",
              "      <td>0.003397</td>\n",
              "      <td>0.019649</td>\n",
              "      <td>0.004264</td>\n",
              "      <td>4.094661</td>\n",
              "      <td>0.012064</td>\n",
              "      <td>0.009060</td>\n",
              "      <td>0.002964</td>\n",
              "      <td>91.365847</td>\n",
              "    </tr>\n",
              "    <tr>\n",
              "      <th>min</th>\n",
              "      <td>2770.400000</td>\n",
              "      <td>2158.750000</td>\n",
              "      <td>2060.660000</td>\n",
              "      <td>711.025800</td>\n",
              "      <td>0.681500</td>\n",
              "      <td>82.131100</td>\n",
              "      <td>0.000000</td>\n",
              "      <td>1.191000</td>\n",
              "      <td>-0.047200</td>\n",
              "      <td>-0.034900</td>\n",
              "      <td>...</td>\n",
              "      <td>0.000000</td>\n",
              "      <td>0.000000</td>\n",
              "      <td>0.477800</td>\n",
              "      <td>0.000000</td>\n",
              "      <td>0.000000</td>\n",
              "      <td>1.197500</td>\n",
              "      <td>-0.016900</td>\n",
              "      <td>0.000000</td>\n",
              "      <td>0.000000</td>\n",
              "      <td>0.000000</td>\n",
              "    </tr>\n",
              "    <tr>\n",
              "      <th>25%</th>\n",
              "      <td>2965.490000</td>\n",
              "      <td>2454.590000</td>\n",
              "      <td>2182.411100</td>\n",
              "      <td>1084.377900</td>\n",
              "      <td>1.020300</td>\n",
              "      <td>98.078300</td>\n",
              "      <td>0.121100</td>\n",
              "      <td>1.411400</td>\n",
              "      <td>-0.010450</td>\n",
              "      <td>-0.005350</td>\n",
              "      <td>...</td>\n",
              "      <td>0.000000</td>\n",
              "      <td>93.657100</td>\n",
              "      <td>0.497900</td>\n",
              "      <td>0.011500</td>\n",
              "      <td>0.003100</td>\n",
              "      <td>2.301950</td>\n",
              "      <td>0.013800</td>\n",
              "      <td>0.010600</td>\n",
              "      <td>0.003300</td>\n",
              "      <td>44.235500</td>\n",
              "    </tr>\n",
              "    <tr>\n",
              "      <th>50%</th>\n",
              "      <td>3012.410000</td>\n",
              "      <td>2500.250000</td>\n",
              "      <td>2201.577700</td>\n",
              "      <td>1295.288300</td>\n",
              "      <td>1.315000</td>\n",
              "      <td>101.512200</td>\n",
              "      <td>0.122400</td>\n",
              "      <td>1.460300</td>\n",
              "      <td>-0.000900</td>\n",
              "      <td>0.000700</td>\n",
              "      <td>...</td>\n",
              "      <td>0.000000</td>\n",
              "      <td>97.900000</td>\n",
              "      <td>0.500200</td>\n",
              "      <td>0.013700</td>\n",
              "      <td>0.003600</td>\n",
              "      <td>2.760200</td>\n",
              "      <td>0.020300</td>\n",
              "      <td>0.014800</td>\n",
              "      <td>0.004600</td>\n",
              "      <td>72.646900</td>\n",
              "    </tr>\n",
              "    <tr>\n",
              "      <th>75%</th>\n",
              "      <td>3057.525000</td>\n",
              "      <td>2538.650000</td>\n",
              "      <td>2217.961100</td>\n",
              "      <td>1590.169900</td>\n",
              "      <td>1.529600</td>\n",
              "      <td>104.558350</td>\n",
              "      <td>0.123800</td>\n",
              "      <td>1.516550</td>\n",
              "      <td>0.009050</td>\n",
              "      <td>0.006100</td>\n",
              "      <td>...</td>\n",
              "      <td>0.003850</td>\n",
              "      <td>97.900000</td>\n",
              "      <td>0.502300</td>\n",
              "      <td>0.016600</td>\n",
              "      <td>0.004100</td>\n",
              "      <td>3.309000</td>\n",
              "      <td>0.027600</td>\n",
              "      <td>0.020400</td>\n",
              "      <td>0.006400</td>\n",
              "      <td>114.749700</td>\n",
              "    </tr>\n",
              "    <tr>\n",
              "      <th>max</th>\n",
              "      <td>3339.930000</td>\n",
              "      <td>2846.440000</td>\n",
              "      <td>2315.266700</td>\n",
              "      <td>3715.041700</td>\n",
              "      <td>1114.536600</td>\n",
              "      <td>129.252200</td>\n",
              "      <td>0.128600</td>\n",
              "      <td>1.653900</td>\n",
              "      <td>0.074900</td>\n",
              "      <td>0.053000</td>\n",
              "      <td>...</td>\n",
              "      <td>0.028600</td>\n",
              "      <td>706.824000</td>\n",
              "      <td>0.509800</td>\n",
              "      <td>0.476600</td>\n",
              "      <td>0.104500</td>\n",
              "      <td>99.303200</td>\n",
              "      <td>0.102800</td>\n",
              "      <td>0.079900</td>\n",
              "      <td>0.028600</td>\n",
              "      <td>737.304800</td>\n",
              "    </tr>\n",
              "  </tbody>\n",
              "</table>\n",
              "<p>8 rows × 474 columns</p>\n",
              "</div>\n",
              "    <div class=\"colab-df-buttons\">\n",
              "\n",
              "  <div class=\"colab-df-container\">\n",
              "    <button class=\"colab-df-convert\" onclick=\"convertToInteractive('df-4bb45d08-8b8d-45a4-b7eb-d4972b2dc0c8')\"\n",
              "            title=\"Convert this dataframe to an interactive table.\"\n",
              "            style=\"display:none;\">\n",
              "\n",
              "  <svg xmlns=\"http://www.w3.org/2000/svg\" height=\"24px\" viewBox=\"0 -960 960 960\">\n",
              "    <path d=\"M120-120v-720h720v720H120Zm60-500h600v-160H180v160Zm220 220h160v-160H400v160Zm0 220h160v-160H400v160ZM180-400h160v-160H180v160Zm440 0h160v-160H620v160ZM180-180h160v-160H180v160Zm440 0h160v-160H620v160Z\"/>\n",
              "  </svg>\n",
              "    </button>\n",
              "\n",
              "  <style>\n",
              "    .colab-df-container {\n",
              "      display:flex;\n",
              "      gap: 12px;\n",
              "    }\n",
              "\n",
              "    .colab-df-convert {\n",
              "      background-color: #E8F0FE;\n",
              "      border: none;\n",
              "      border-radius: 50%;\n",
              "      cursor: pointer;\n",
              "      display: none;\n",
              "      fill: #1967D2;\n",
              "      height: 32px;\n",
              "      padding: 0 0 0 0;\n",
              "      width: 32px;\n",
              "    }\n",
              "\n",
              "    .colab-df-convert:hover {\n",
              "      background-color: #E2EBFA;\n",
              "      box-shadow: 0px 1px 2px rgba(60, 64, 67, 0.3), 0px 1px 3px 1px rgba(60, 64, 67, 0.15);\n",
              "      fill: #174EA6;\n",
              "    }\n",
              "\n",
              "    .colab-df-buttons div {\n",
              "      margin-bottom: 4px;\n",
              "    }\n",
              "\n",
              "    [theme=dark] .colab-df-convert {\n",
              "      background-color: #3B4455;\n",
              "      fill: #D2E3FC;\n",
              "    }\n",
              "\n",
              "    [theme=dark] .colab-df-convert:hover {\n",
              "      background-color: #434B5C;\n",
              "      box-shadow: 0px 1px 3px 1px rgba(0, 0, 0, 0.15);\n",
              "      filter: drop-shadow(0px 1px 2px rgba(0, 0, 0, 0.3));\n",
              "      fill: #FFFFFF;\n",
              "    }\n",
              "  </style>\n",
              "\n",
              "    <script>\n",
              "      const buttonEl =\n",
              "        document.querySelector('#df-4bb45d08-8b8d-45a4-b7eb-d4972b2dc0c8 button.colab-df-convert');\n",
              "      buttonEl.style.display =\n",
              "        google.colab.kernel.accessAllowed ? 'block' : 'none';\n",
              "\n",
              "      async function convertToInteractive(key) {\n",
              "        const element = document.querySelector('#df-4bb45d08-8b8d-45a4-b7eb-d4972b2dc0c8');\n",
              "        const dataTable =\n",
              "          await google.colab.kernel.invokeFunction('convertToInteractive',\n",
              "                                                    [key], {});\n",
              "        if (!dataTable) return;\n",
              "\n",
              "        const docLinkHtml = 'Like what you see? Visit the ' +\n",
              "          '<a target=\"_blank\" href=https://colab.research.google.com/notebooks/data_table.ipynb>data table notebook</a>'\n",
              "          + ' to learn more about interactive tables.';\n",
              "        element.innerHTML = '';\n",
              "        dataTable['output_type'] = 'display_data';\n",
              "        await google.colab.output.renderOutput(dataTable, element);\n",
              "        const docLink = document.createElement('div');\n",
              "        docLink.innerHTML = docLinkHtml;\n",
              "        element.appendChild(docLink);\n",
              "      }\n",
              "    </script>\n",
              "  </div>\n",
              "\n",
              "\n",
              "<div id=\"df-21512806-135b-414e-821b-32c448051313\">\n",
              "  <button class=\"colab-df-quickchart\" onclick=\"quickchart('df-21512806-135b-414e-821b-32c448051313')\"\n",
              "            title=\"Suggest charts.\"\n",
              "            style=\"display:none;\">\n",
              "\n",
              "<svg xmlns=\"http://www.w3.org/2000/svg\" height=\"24px\"viewBox=\"0 0 24 24\"\n",
              "     width=\"24px\">\n",
              "    <g>\n",
              "        <path d=\"M19 3H5c-1.1 0-2 .9-2 2v14c0 1.1.9 2 2 2h14c1.1 0 2-.9 2-2V5c0-1.1-.9-2-2-2zM9 17H7v-7h2v7zm4 0h-2V7h2v10zm4 0h-2v-4h2v4z\"/>\n",
              "    </g>\n",
              "</svg>\n",
              "  </button>\n",
              "\n",
              "<style>\n",
              "  .colab-df-quickchart {\n",
              "    background-color: #E8F0FE;\n",
              "    border: none;\n",
              "    border-radius: 50%;\n",
              "    cursor: pointer;\n",
              "    display: none;\n",
              "    fill: #1967D2;\n",
              "    height: 32px;\n",
              "    padding: 0 0 0 0;\n",
              "    width: 32px;\n",
              "  }\n",
              "\n",
              "  .colab-df-quickchart:hover {\n",
              "    background-color: #E2EBFA;\n",
              "    box-shadow: 0px 1px 2px rgba(60, 64, 67, 0.3), 0px 1px 3px 1px rgba(60, 64, 67, 0.15);\n",
              "    fill: #174EA6;\n",
              "  }\n",
              "\n",
              "  [theme=dark] .colab-df-quickchart {\n",
              "    background-color: #3B4455;\n",
              "    fill: #D2E3FC;\n",
              "  }\n",
              "\n",
              "  [theme=dark] .colab-df-quickchart:hover {\n",
              "    background-color: #434B5C;\n",
              "    box-shadow: 0px 1px 3px 1px rgba(0, 0, 0, 0.15);\n",
              "    filter: drop-shadow(0px 1px 2px rgba(0, 0, 0, 0.3));\n",
              "    fill: #FFFFFF;\n",
              "  }\n",
              "</style>\n",
              "\n",
              "  <script>\n",
              "    async function quickchart(key) {\n",
              "      const charts = await google.colab.kernel.invokeFunction(\n",
              "          'suggestCharts', [key], {});\n",
              "    }\n",
              "    (() => {\n",
              "      let quickchartButtonEl =\n",
              "        document.querySelector('#df-21512806-135b-414e-821b-32c448051313 button');\n",
              "      quickchartButtonEl.style.display =\n",
              "        google.colab.kernel.accessAllowed ? 'block' : 'none';\n",
              "    })();\n",
              "  </script>\n",
              "</div>\n",
              "    </div>\n",
              "  </div>\n"
            ]
          },
          "metadata": {},
          "execution_count": 166
        }
      ]
    },
    {
      "cell_type": "code",
      "source": [
        "##min_periods = 10 is to compute the covariance of 10 columns\n",
        "X_train.cov(min_periods=10)"
      ],
      "metadata": {
        "colab": {
          "base_uri": "https://localhost:8080/",
          "height": 443
        },
        "id": "GEwKPmgdToJX",
        "outputId": "7a56a4bf-5548-439d-822d-14ece62f5c6c"
      },
      "execution_count": 175,
      "outputs": [
        {
          "output_type": "execute_result",
          "data": {
            "text/plain": [
              "              0           1           2             3           4  \\\n",
              "0   5441.932697 -932.005105   -7.154685   -461.678486  -72.928431   \n",
              "1   -932.005105 6349.389939    5.403201   -686.743875   38.984238   \n",
              "2     -7.154685    5.403201  840.569793   3754.017621   88.319837   \n",
              "3   -461.678486 -686.743875 3754.017621 189795.541611 -240.690083   \n",
              "4    -72.928431   38.984238   88.319837   -240.690083 2103.013027   \n",
              "..          ...         ...         ...           ...         ...   \n",
              "585    9.595689   -0.290793    2.143831     53.539636   -0.303508   \n",
              "586    0.036733   -0.034746   -0.019854      0.060780   -0.010555   \n",
              "587   -0.031552   -0.002594   -0.012434     -0.170661   -0.015817   \n",
              "588   -0.011005   -0.001509   -0.004253     -0.048845   -0.004962   \n",
              "589 -200.710661  289.526060 -108.032355  -2642.014869  -43.401113   \n",
              "\n",
              "               6         7         8         9        10  ...       580  \\\n",
              "0       1.908704  0.009426 -0.369346  0.031479  0.017662  ... -0.024779   \n",
              "1      -6.614332 -0.015647  0.181626  0.044618 -0.014444  ...  0.013992   \n",
              "2     -23.503470 -0.033573  0.086749  0.008574  0.015108  ...  0.003456   \n",
              "3   -1920.060432  0.193676 -2.549038  0.558774  0.293902  ...  0.028553   \n",
              "4      -8.465721 -0.137474 -0.098921  0.047808 -0.010013  ...  0.001132   \n",
              "..           ...       ...       ...       ...       ...  ...       ...   \n",
              "585    -1.183672  0.000054  0.006913 -0.002417  0.001631  ...  0.000050   \n",
              "586    -0.002610  0.000003  0.000020  0.000009  0.000002  ...  0.000004   \n",
              "587     0.001893 -0.000001  0.000022  0.000008  0.000004  ...  0.000013   \n",
              "588     0.000546 -0.000000  0.000008  0.000003  0.000001  ...  0.000004   \n",
              "589    24.772433 -0.018263 -0.174135 -0.011952 -0.002000  ...  0.041233   \n",
              "\n",
              "            581       582       583       584       585       586       587  \\\n",
              "0   -154.746178  0.002533  0.047630  0.009446  9.595689  0.036733 -0.031552   \n",
              "1    211.316399  0.012619 -0.001119 -0.001450 -0.290793 -0.034746 -0.002594   \n",
              "2    -22.294324 -0.000345  0.010173  0.002402  2.143831 -0.019854 -0.012434   \n",
              "3   -863.846108  0.006534  0.253648  0.052671 53.539636  0.060780 -0.170661   \n",
              "4    -40.303092  0.005593 -0.001218  0.000035 -0.303508 -0.010555 -0.015817   \n",
              "..          ...       ...       ...       ...       ...       ...       ...   \n",
              "585    0.054787 -0.003334  0.080429  0.017392 16.766245  0.000192 -0.000202   \n",
              "586   -0.177323 -0.000001  0.000001  0.000000  0.000192  0.000146  0.000018   \n",
              "587    0.139058 -0.000001 -0.000001 -0.000000 -0.000202  0.000018  0.000082   \n",
              "588    0.043671 -0.000000 -0.000000 -0.000000 -0.000046  0.000006  0.000026   \n",
              "589 2882.287783  0.015266 -0.003539 -0.000913 -1.287362 -0.531577  0.332789   \n",
              "\n",
              "          588          589  \n",
              "0   -0.011005  -200.710661  \n",
              "1   -0.001509   289.526060  \n",
              "2   -0.004253  -108.032355  \n",
              "3   -0.048845 -2642.014869  \n",
              "4   -0.004962   -43.401113  \n",
              "..        ...          ...  \n",
              "585 -0.000046    -1.287362  \n",
              "586  0.000006    -0.531577  \n",
              "587  0.000026     0.332789  \n",
              "588  0.000009     0.106974  \n",
              "589  0.106974  8347.718073  \n",
              "\n",
              "[474 rows x 474 columns]"
            ],
            "text/html": [
              "\n",
              "  <div id=\"df-2452fd61-d738-4fa7-af9e-1f37f782ca6a\" class=\"colab-df-container\">\n",
              "    <div>\n",
              "<style scoped>\n",
              "    .dataframe tbody tr th:only-of-type {\n",
              "        vertical-align: middle;\n",
              "    }\n",
              "\n",
              "    .dataframe tbody tr th {\n",
              "        vertical-align: top;\n",
              "    }\n",
              "\n",
              "    .dataframe thead th {\n",
              "        text-align: right;\n",
              "    }\n",
              "</style>\n",
              "<table border=\"1\" class=\"dataframe\">\n",
              "  <thead>\n",
              "    <tr style=\"text-align: right;\">\n",
              "      <th></th>\n",
              "      <th>0</th>\n",
              "      <th>1</th>\n",
              "      <th>2</th>\n",
              "      <th>3</th>\n",
              "      <th>4</th>\n",
              "      <th>6</th>\n",
              "      <th>7</th>\n",
              "      <th>8</th>\n",
              "      <th>9</th>\n",
              "      <th>10</th>\n",
              "      <th>...</th>\n",
              "      <th>580</th>\n",
              "      <th>581</th>\n",
              "      <th>582</th>\n",
              "      <th>583</th>\n",
              "      <th>584</th>\n",
              "      <th>585</th>\n",
              "      <th>586</th>\n",
              "      <th>587</th>\n",
              "      <th>588</th>\n",
              "      <th>589</th>\n",
              "    </tr>\n",
              "  </thead>\n",
              "  <tbody>\n",
              "    <tr>\n",
              "      <th>0</th>\n",
              "      <td>5441.932697</td>\n",
              "      <td>-932.005105</td>\n",
              "      <td>-7.154685</td>\n",
              "      <td>-461.678486</td>\n",
              "      <td>-72.928431</td>\n",
              "      <td>1.908704</td>\n",
              "      <td>0.009426</td>\n",
              "      <td>-0.369346</td>\n",
              "      <td>0.031479</td>\n",
              "      <td>0.017662</td>\n",
              "      <td>...</td>\n",
              "      <td>-0.024779</td>\n",
              "      <td>-154.746178</td>\n",
              "      <td>0.002533</td>\n",
              "      <td>0.047630</td>\n",
              "      <td>0.009446</td>\n",
              "      <td>9.595689</td>\n",
              "      <td>0.036733</td>\n",
              "      <td>-0.031552</td>\n",
              "      <td>-0.011005</td>\n",
              "      <td>-200.710661</td>\n",
              "    </tr>\n",
              "    <tr>\n",
              "      <th>1</th>\n",
              "      <td>-932.005105</td>\n",
              "      <td>6349.389939</td>\n",
              "      <td>5.403201</td>\n",
              "      <td>-686.743875</td>\n",
              "      <td>38.984238</td>\n",
              "      <td>-6.614332</td>\n",
              "      <td>-0.015647</td>\n",
              "      <td>0.181626</td>\n",
              "      <td>0.044618</td>\n",
              "      <td>-0.014444</td>\n",
              "      <td>...</td>\n",
              "      <td>0.013992</td>\n",
              "      <td>211.316399</td>\n",
              "      <td>0.012619</td>\n",
              "      <td>-0.001119</td>\n",
              "      <td>-0.001450</td>\n",
              "      <td>-0.290793</td>\n",
              "      <td>-0.034746</td>\n",
              "      <td>-0.002594</td>\n",
              "      <td>-0.001509</td>\n",
              "      <td>289.526060</td>\n",
              "    </tr>\n",
              "    <tr>\n",
              "      <th>2</th>\n",
              "      <td>-7.154685</td>\n",
              "      <td>5.403201</td>\n",
              "      <td>840.569793</td>\n",
              "      <td>3754.017621</td>\n",
              "      <td>88.319837</td>\n",
              "      <td>-23.503470</td>\n",
              "      <td>-0.033573</td>\n",
              "      <td>0.086749</td>\n",
              "      <td>0.008574</td>\n",
              "      <td>0.015108</td>\n",
              "      <td>...</td>\n",
              "      <td>0.003456</td>\n",
              "      <td>-22.294324</td>\n",
              "      <td>-0.000345</td>\n",
              "      <td>0.010173</td>\n",
              "      <td>0.002402</td>\n",
              "      <td>2.143831</td>\n",
              "      <td>-0.019854</td>\n",
              "      <td>-0.012434</td>\n",
              "      <td>-0.004253</td>\n",
              "      <td>-108.032355</td>\n",
              "    </tr>\n",
              "    <tr>\n",
              "      <th>3</th>\n",
              "      <td>-461.678486</td>\n",
              "      <td>-686.743875</td>\n",
              "      <td>3754.017621</td>\n",
              "      <td>189795.541611</td>\n",
              "      <td>-240.690083</td>\n",
              "      <td>-1920.060432</td>\n",
              "      <td>0.193676</td>\n",
              "      <td>-2.549038</td>\n",
              "      <td>0.558774</td>\n",
              "      <td>0.293902</td>\n",
              "      <td>...</td>\n",
              "      <td>0.028553</td>\n",
              "      <td>-863.846108</td>\n",
              "      <td>0.006534</td>\n",
              "      <td>0.253648</td>\n",
              "      <td>0.052671</td>\n",
              "      <td>53.539636</td>\n",
              "      <td>0.060780</td>\n",
              "      <td>-0.170661</td>\n",
              "      <td>-0.048845</td>\n",
              "      <td>-2642.014869</td>\n",
              "    </tr>\n",
              "    <tr>\n",
              "      <th>4</th>\n",
              "      <td>-72.928431</td>\n",
              "      <td>38.984238</td>\n",
              "      <td>88.319837</td>\n",
              "      <td>-240.690083</td>\n",
              "      <td>2103.013027</td>\n",
              "      <td>-8.465721</td>\n",
              "      <td>-0.137474</td>\n",
              "      <td>-0.098921</td>\n",
              "      <td>0.047808</td>\n",
              "      <td>-0.010013</td>\n",
              "      <td>...</td>\n",
              "      <td>0.001132</td>\n",
              "      <td>-40.303092</td>\n",
              "      <td>0.005593</td>\n",
              "      <td>-0.001218</td>\n",
              "      <td>0.000035</td>\n",
              "      <td>-0.303508</td>\n",
              "      <td>-0.010555</td>\n",
              "      <td>-0.015817</td>\n",
              "      <td>-0.004962</td>\n",
              "      <td>-43.401113</td>\n",
              "    </tr>\n",
              "    <tr>\n",
              "      <th>...</th>\n",
              "      <td>...</td>\n",
              "      <td>...</td>\n",
              "      <td>...</td>\n",
              "      <td>...</td>\n",
              "      <td>...</td>\n",
              "      <td>...</td>\n",
              "      <td>...</td>\n",
              "      <td>...</td>\n",
              "      <td>...</td>\n",
              "      <td>...</td>\n",
              "      <td>...</td>\n",
              "      <td>...</td>\n",
              "      <td>...</td>\n",
              "      <td>...</td>\n",
              "      <td>...</td>\n",
              "      <td>...</td>\n",
              "      <td>...</td>\n",
              "      <td>...</td>\n",
              "      <td>...</td>\n",
              "      <td>...</td>\n",
              "      <td>...</td>\n",
              "    </tr>\n",
              "    <tr>\n",
              "      <th>585</th>\n",
              "      <td>9.595689</td>\n",
              "      <td>-0.290793</td>\n",
              "      <td>2.143831</td>\n",
              "      <td>53.539636</td>\n",
              "      <td>-0.303508</td>\n",
              "      <td>-1.183672</td>\n",
              "      <td>0.000054</td>\n",
              "      <td>0.006913</td>\n",
              "      <td>-0.002417</td>\n",
              "      <td>0.001631</td>\n",
              "      <td>...</td>\n",
              "      <td>0.000050</td>\n",
              "      <td>0.054787</td>\n",
              "      <td>-0.003334</td>\n",
              "      <td>0.080429</td>\n",
              "      <td>0.017392</td>\n",
              "      <td>16.766245</td>\n",
              "      <td>0.000192</td>\n",
              "      <td>-0.000202</td>\n",
              "      <td>-0.000046</td>\n",
              "      <td>-1.287362</td>\n",
              "    </tr>\n",
              "    <tr>\n",
              "      <th>586</th>\n",
              "      <td>0.036733</td>\n",
              "      <td>-0.034746</td>\n",
              "      <td>-0.019854</td>\n",
              "      <td>0.060780</td>\n",
              "      <td>-0.010555</td>\n",
              "      <td>-0.002610</td>\n",
              "      <td>0.000003</td>\n",
              "      <td>0.000020</td>\n",
              "      <td>0.000009</td>\n",
              "      <td>0.000002</td>\n",
              "      <td>...</td>\n",
              "      <td>0.000004</td>\n",
              "      <td>-0.177323</td>\n",
              "      <td>-0.000001</td>\n",
              "      <td>0.000001</td>\n",
              "      <td>0.000000</td>\n",
              "      <td>0.000192</td>\n",
              "      <td>0.000146</td>\n",
              "      <td>0.000018</td>\n",
              "      <td>0.000006</td>\n",
              "      <td>-0.531577</td>\n",
              "    </tr>\n",
              "    <tr>\n",
              "      <th>587</th>\n",
              "      <td>-0.031552</td>\n",
              "      <td>-0.002594</td>\n",
              "      <td>-0.012434</td>\n",
              "      <td>-0.170661</td>\n",
              "      <td>-0.015817</td>\n",
              "      <td>0.001893</td>\n",
              "      <td>-0.000001</td>\n",
              "      <td>0.000022</td>\n",
              "      <td>0.000008</td>\n",
              "      <td>0.000004</td>\n",
              "      <td>...</td>\n",
              "      <td>0.000013</td>\n",
              "      <td>0.139058</td>\n",
              "      <td>-0.000001</td>\n",
              "      <td>-0.000001</td>\n",
              "      <td>-0.000000</td>\n",
              "      <td>-0.000202</td>\n",
              "      <td>0.000018</td>\n",
              "      <td>0.000082</td>\n",
              "      <td>0.000026</td>\n",
              "      <td>0.332789</td>\n",
              "    </tr>\n",
              "    <tr>\n",
              "      <th>588</th>\n",
              "      <td>-0.011005</td>\n",
              "      <td>-0.001509</td>\n",
              "      <td>-0.004253</td>\n",
              "      <td>-0.048845</td>\n",
              "      <td>-0.004962</td>\n",
              "      <td>0.000546</td>\n",
              "      <td>-0.000000</td>\n",
              "      <td>0.000008</td>\n",
              "      <td>0.000003</td>\n",
              "      <td>0.000001</td>\n",
              "      <td>...</td>\n",
              "      <td>0.000004</td>\n",
              "      <td>0.043671</td>\n",
              "      <td>-0.000000</td>\n",
              "      <td>-0.000000</td>\n",
              "      <td>-0.000000</td>\n",
              "      <td>-0.000046</td>\n",
              "      <td>0.000006</td>\n",
              "      <td>0.000026</td>\n",
              "      <td>0.000009</td>\n",
              "      <td>0.106974</td>\n",
              "    </tr>\n",
              "    <tr>\n",
              "      <th>589</th>\n",
              "      <td>-200.710661</td>\n",
              "      <td>289.526060</td>\n",
              "      <td>-108.032355</td>\n",
              "      <td>-2642.014869</td>\n",
              "      <td>-43.401113</td>\n",
              "      <td>24.772433</td>\n",
              "      <td>-0.018263</td>\n",
              "      <td>-0.174135</td>\n",
              "      <td>-0.011952</td>\n",
              "      <td>-0.002000</td>\n",
              "      <td>...</td>\n",
              "      <td>0.041233</td>\n",
              "      <td>2882.287783</td>\n",
              "      <td>0.015266</td>\n",
              "      <td>-0.003539</td>\n",
              "      <td>-0.000913</td>\n",
              "      <td>-1.287362</td>\n",
              "      <td>-0.531577</td>\n",
              "      <td>0.332789</td>\n",
              "      <td>0.106974</td>\n",
              "      <td>8347.718073</td>\n",
              "    </tr>\n",
              "  </tbody>\n",
              "</table>\n",
              "<p>474 rows × 474 columns</p>\n",
              "</div>\n",
              "    <div class=\"colab-df-buttons\">\n",
              "\n",
              "  <div class=\"colab-df-container\">\n",
              "    <button class=\"colab-df-convert\" onclick=\"convertToInteractive('df-2452fd61-d738-4fa7-af9e-1f37f782ca6a')\"\n",
              "            title=\"Convert this dataframe to an interactive table.\"\n",
              "            style=\"display:none;\">\n",
              "\n",
              "  <svg xmlns=\"http://www.w3.org/2000/svg\" height=\"24px\" viewBox=\"0 -960 960 960\">\n",
              "    <path d=\"M120-120v-720h720v720H120Zm60-500h600v-160H180v160Zm220 220h160v-160H400v160Zm0 220h160v-160H400v160ZM180-400h160v-160H180v160Zm440 0h160v-160H620v160ZM180-180h160v-160H180v160Zm440 0h160v-160H620v160Z\"/>\n",
              "  </svg>\n",
              "    </button>\n",
              "\n",
              "  <style>\n",
              "    .colab-df-container {\n",
              "      display:flex;\n",
              "      gap: 12px;\n",
              "    }\n",
              "\n",
              "    .colab-df-convert {\n",
              "      background-color: #E8F0FE;\n",
              "      border: none;\n",
              "      border-radius: 50%;\n",
              "      cursor: pointer;\n",
              "      display: none;\n",
              "      fill: #1967D2;\n",
              "      height: 32px;\n",
              "      padding: 0 0 0 0;\n",
              "      width: 32px;\n",
              "    }\n",
              "\n",
              "    .colab-df-convert:hover {\n",
              "      background-color: #E2EBFA;\n",
              "      box-shadow: 0px 1px 2px rgba(60, 64, 67, 0.3), 0px 1px 3px 1px rgba(60, 64, 67, 0.15);\n",
              "      fill: #174EA6;\n",
              "    }\n",
              "\n",
              "    .colab-df-buttons div {\n",
              "      margin-bottom: 4px;\n",
              "    }\n",
              "\n",
              "    [theme=dark] .colab-df-convert {\n",
              "      background-color: #3B4455;\n",
              "      fill: #D2E3FC;\n",
              "    }\n",
              "\n",
              "    [theme=dark] .colab-df-convert:hover {\n",
              "      background-color: #434B5C;\n",
              "      box-shadow: 0px 1px 3px 1px rgba(0, 0, 0, 0.15);\n",
              "      filter: drop-shadow(0px 1px 2px rgba(0, 0, 0, 0.3));\n",
              "      fill: #FFFFFF;\n",
              "    }\n",
              "  </style>\n",
              "\n",
              "    <script>\n",
              "      const buttonEl =\n",
              "        document.querySelector('#df-2452fd61-d738-4fa7-af9e-1f37f782ca6a button.colab-df-convert');\n",
              "      buttonEl.style.display =\n",
              "        google.colab.kernel.accessAllowed ? 'block' : 'none';\n",
              "\n",
              "      async function convertToInteractive(key) {\n",
              "        const element = document.querySelector('#df-2452fd61-d738-4fa7-af9e-1f37f782ca6a');\n",
              "        const dataTable =\n",
              "          await google.colab.kernel.invokeFunction('convertToInteractive',\n",
              "                                                    [key], {});\n",
              "        if (!dataTable) return;\n",
              "\n",
              "        const docLinkHtml = 'Like what you see? Visit the ' +\n",
              "          '<a target=\"_blank\" href=https://colab.research.google.com/notebooks/data_table.ipynb>data table notebook</a>'\n",
              "          + ' to learn more about interactive tables.';\n",
              "        element.innerHTML = '';\n",
              "        dataTable['output_type'] = 'display_data';\n",
              "        await google.colab.output.renderOutput(dataTable, element);\n",
              "        const docLink = document.createElement('div');\n",
              "        docLink.innerHTML = docLinkHtml;\n",
              "        element.appendChild(docLink);\n",
              "      }\n",
              "    </script>\n",
              "  </div>\n",
              "\n",
              "\n",
              "<div id=\"df-45ee95cb-733c-40e2-b079-6a0062b21c97\">\n",
              "  <button class=\"colab-df-quickchart\" onclick=\"quickchart('df-45ee95cb-733c-40e2-b079-6a0062b21c97')\"\n",
              "            title=\"Suggest charts.\"\n",
              "            style=\"display:none;\">\n",
              "\n",
              "<svg xmlns=\"http://www.w3.org/2000/svg\" height=\"24px\"viewBox=\"0 0 24 24\"\n",
              "     width=\"24px\">\n",
              "    <g>\n",
              "        <path d=\"M19 3H5c-1.1 0-2 .9-2 2v14c0 1.1.9 2 2 2h14c1.1 0 2-.9 2-2V5c0-1.1-.9-2-2-2zM9 17H7v-7h2v7zm4 0h-2V7h2v10zm4 0h-2v-4h2v4z\"/>\n",
              "    </g>\n",
              "</svg>\n",
              "  </button>\n",
              "\n",
              "<style>\n",
              "  .colab-df-quickchart {\n",
              "    background-color: #E8F0FE;\n",
              "    border: none;\n",
              "    border-radius: 50%;\n",
              "    cursor: pointer;\n",
              "    display: none;\n",
              "    fill: #1967D2;\n",
              "    height: 32px;\n",
              "    padding: 0 0 0 0;\n",
              "    width: 32px;\n",
              "  }\n",
              "\n",
              "  .colab-df-quickchart:hover {\n",
              "    background-color: #E2EBFA;\n",
              "    box-shadow: 0px 1px 2px rgba(60, 64, 67, 0.3), 0px 1px 3px 1px rgba(60, 64, 67, 0.15);\n",
              "    fill: #174EA6;\n",
              "  }\n",
              "\n",
              "  [theme=dark] .colab-df-quickchart {\n",
              "    background-color: #3B4455;\n",
              "    fill: #D2E3FC;\n",
              "  }\n",
              "\n",
              "  [theme=dark] .colab-df-quickchart:hover {\n",
              "    background-color: #434B5C;\n",
              "    box-shadow: 0px 1px 3px 1px rgba(0, 0, 0, 0.15);\n",
              "    filter: drop-shadow(0px 1px 2px rgba(0, 0, 0, 0.3));\n",
              "    fill: #FFFFFF;\n",
              "  }\n",
              "</style>\n",
              "\n",
              "  <script>\n",
              "    async function quickchart(key) {\n",
              "      const charts = await google.colab.kernel.invokeFunction(\n",
              "          'suggestCharts', [key], {});\n",
              "    }\n",
              "    (() => {\n",
              "      let quickchartButtonEl =\n",
              "        document.querySelector('#df-45ee95cb-733c-40e2-b079-6a0062b21c97 button');\n",
              "      quickchartButtonEl.style.display =\n",
              "        google.colab.kernel.accessAllowed ? 'block' : 'none';\n",
              "    })();\n",
              "  </script>\n",
              "</div>\n",
              "    </div>\n",
              "  </div>\n"
            ]
          },
          "metadata": {},
          "execution_count": 175
        }
      ]
    },
    {
      "cell_type": "code",
      "source": [
        "# printing Statistics of test data\n",
        "print(\"Statistics of test data\")\n",
        "X_test.describe()"
      ],
      "metadata": {
        "colab": {
          "base_uri": "https://localhost:8080/",
          "height": 367
        },
        "id": "1-UyubCZLMGU",
        "outputId": "f490ba6d-c210-4608-cb82-ffe6b9eacb86"
      },
      "execution_count": 167,
      "outputs": [
        {
          "output_type": "stream",
          "name": "stdout",
          "text": [
            "Statistics of test data\n"
          ]
        },
        {
          "output_type": "execute_result",
          "data": {
            "text/plain": [
              "                0           1           2           3           4          6  \\\n",
              "count  392.000000  392.000000  392.000000  392.000000  392.000000 392.000000   \n",
              "mean  3012.952194 2493.390765 2199.483845 1391.715355    7.043945 100.890667   \n",
              "std     72.680759   81.892738   30.528712  452.191850   79.253151   5.522850   \n",
              "min   2743.240000 2221.100000 2060.660000    0.000000    0.681500  82.246700   \n",
              "25%   2971.025000 2448.105000 2180.377800 1069.080625    0.997800  97.810000   \n",
              "50%   3010.280000 2491.740000 2200.200000 1276.475450    1.323050 101.397200   \n",
              "75%   3052.197500 2538.752500 2218.055500 1590.192350    1.529100 104.521100   \n",
              "max   3356.350000 2815.310000 2315.266700 3619.739700 1112.472800 119.901100   \n",
              "\n",
              "               7          8          9         10  ...        580        581  \\\n",
              "count 392.000000 392.000000 392.000000 392.000000  ... 392.000000 392.000000   \n",
              "mean    0.120996   1.465519  -0.002424  -0.000429  ...   0.002193  98.212344   \n",
              "std     0.012546   0.072620   0.014519   0.009561  ...   0.003100  58.594405   \n",
              "min     0.000000   1.289500  -0.053400  -0.032900  ...   0.000000   0.000000   \n",
              "25%     0.120900   1.410825  -0.011300  -0.005925  ...   0.000000  86.558550   \n",
              "50%     0.122200   1.468000  -0.002400  -0.000450  ...   0.000000  97.900000   \n",
              "75%     0.123800   1.517375   0.005500   0.005600  ...   0.004000  97.900000   \n",
              "max     0.126900   1.656400   0.049500   0.039600  ...   0.015000 737.304800   \n",
              "\n",
              "             582        583        584        585        586        587  \\\n",
              "count 392.000000 392.000000 392.000000 392.000000 392.000000 392.000000   \n",
              "mean    0.500147   0.014579   0.003693   2.913981   0.021444   0.016087   \n",
              "std     0.003427   0.004689   0.000906   0.932073   0.013246   0.008032   \n",
              "min     0.491200   0.006500   0.002000   1.284500  -0.004700   0.004200   \n",
              "25%     0.497900   0.011700   0.003100   2.338725   0.012300   0.010500   \n",
              "50%     0.500100   0.013800   0.003600   2.753200   0.021200   0.014100   \n",
              "75%     0.502400   0.016300   0.004100   3.256825   0.027525   0.019725   \n",
              "max     0.509800   0.047100   0.009600   9.295300   0.102800   0.055600   \n",
              "\n",
              "             588        589  \n",
              "count 392.000000 392.000000  \n",
              "mean    0.005143 102.161881  \n",
              "std     0.002563 101.056970  \n",
              "min     0.001200   0.000000  \n",
              "25%     0.003400  45.385625  \n",
              "50%     0.004500  70.784800  \n",
              "75%     0.006225 113.805450  \n",
              "max     0.017300 737.304800  \n",
              "\n",
              "[8 rows x 474 columns]"
            ],
            "text/html": [
              "\n",
              "  <div id=\"df-48373115-9a20-419b-8ddd-f42a5739fc94\" class=\"colab-df-container\">\n",
              "    <div>\n",
              "<style scoped>\n",
              "    .dataframe tbody tr th:only-of-type {\n",
              "        vertical-align: middle;\n",
              "    }\n",
              "\n",
              "    .dataframe tbody tr th {\n",
              "        vertical-align: top;\n",
              "    }\n",
              "\n",
              "    .dataframe thead th {\n",
              "        text-align: right;\n",
              "    }\n",
              "</style>\n",
              "<table border=\"1\" class=\"dataframe\">\n",
              "  <thead>\n",
              "    <tr style=\"text-align: right;\">\n",
              "      <th></th>\n",
              "      <th>0</th>\n",
              "      <th>1</th>\n",
              "      <th>2</th>\n",
              "      <th>3</th>\n",
              "      <th>4</th>\n",
              "      <th>6</th>\n",
              "      <th>7</th>\n",
              "      <th>8</th>\n",
              "      <th>9</th>\n",
              "      <th>10</th>\n",
              "      <th>...</th>\n",
              "      <th>580</th>\n",
              "      <th>581</th>\n",
              "      <th>582</th>\n",
              "      <th>583</th>\n",
              "      <th>584</th>\n",
              "      <th>585</th>\n",
              "      <th>586</th>\n",
              "      <th>587</th>\n",
              "      <th>588</th>\n",
              "      <th>589</th>\n",
              "    </tr>\n",
              "  </thead>\n",
              "  <tbody>\n",
              "    <tr>\n",
              "      <th>count</th>\n",
              "      <td>392.000000</td>\n",
              "      <td>392.000000</td>\n",
              "      <td>392.000000</td>\n",
              "      <td>392.000000</td>\n",
              "      <td>392.000000</td>\n",
              "      <td>392.000000</td>\n",
              "      <td>392.000000</td>\n",
              "      <td>392.000000</td>\n",
              "      <td>392.000000</td>\n",
              "      <td>392.000000</td>\n",
              "      <td>...</td>\n",
              "      <td>392.000000</td>\n",
              "      <td>392.000000</td>\n",
              "      <td>392.000000</td>\n",
              "      <td>392.000000</td>\n",
              "      <td>392.000000</td>\n",
              "      <td>392.000000</td>\n",
              "      <td>392.000000</td>\n",
              "      <td>392.000000</td>\n",
              "      <td>392.000000</td>\n",
              "      <td>392.000000</td>\n",
              "    </tr>\n",
              "    <tr>\n",
              "      <th>mean</th>\n",
              "      <td>3012.952194</td>\n",
              "      <td>2493.390765</td>\n",
              "      <td>2199.483845</td>\n",
              "      <td>1391.715355</td>\n",
              "      <td>7.043945</td>\n",
              "      <td>100.890667</td>\n",
              "      <td>0.120996</td>\n",
              "      <td>1.465519</td>\n",
              "      <td>-0.002424</td>\n",
              "      <td>-0.000429</td>\n",
              "      <td>...</td>\n",
              "      <td>0.002193</td>\n",
              "      <td>98.212344</td>\n",
              "      <td>0.500147</td>\n",
              "      <td>0.014579</td>\n",
              "      <td>0.003693</td>\n",
              "      <td>2.913981</td>\n",
              "      <td>0.021444</td>\n",
              "      <td>0.016087</td>\n",
              "      <td>0.005143</td>\n",
              "      <td>102.161881</td>\n",
              "    </tr>\n",
              "    <tr>\n",
              "      <th>std</th>\n",
              "      <td>72.680759</td>\n",
              "      <td>81.892738</td>\n",
              "      <td>30.528712</td>\n",
              "      <td>452.191850</td>\n",
              "      <td>79.253151</td>\n",
              "      <td>5.522850</td>\n",
              "      <td>0.012546</td>\n",
              "      <td>0.072620</td>\n",
              "      <td>0.014519</td>\n",
              "      <td>0.009561</td>\n",
              "      <td>...</td>\n",
              "      <td>0.003100</td>\n",
              "      <td>58.594405</td>\n",
              "      <td>0.003427</td>\n",
              "      <td>0.004689</td>\n",
              "      <td>0.000906</td>\n",
              "      <td>0.932073</td>\n",
              "      <td>0.013246</td>\n",
              "      <td>0.008032</td>\n",
              "      <td>0.002563</td>\n",
              "      <td>101.056970</td>\n",
              "    </tr>\n",
              "    <tr>\n",
              "      <th>min</th>\n",
              "      <td>2743.240000</td>\n",
              "      <td>2221.100000</td>\n",
              "      <td>2060.660000</td>\n",
              "      <td>0.000000</td>\n",
              "      <td>0.681500</td>\n",
              "      <td>82.246700</td>\n",
              "      <td>0.000000</td>\n",
              "      <td>1.289500</td>\n",
              "      <td>-0.053400</td>\n",
              "      <td>-0.032900</td>\n",
              "      <td>...</td>\n",
              "      <td>0.000000</td>\n",
              "      <td>0.000000</td>\n",
              "      <td>0.491200</td>\n",
              "      <td>0.006500</td>\n",
              "      <td>0.002000</td>\n",
              "      <td>1.284500</td>\n",
              "      <td>-0.004700</td>\n",
              "      <td>0.004200</td>\n",
              "      <td>0.001200</td>\n",
              "      <td>0.000000</td>\n",
              "    </tr>\n",
              "    <tr>\n",
              "      <th>25%</th>\n",
              "      <td>2971.025000</td>\n",
              "      <td>2448.105000</td>\n",
              "      <td>2180.377800</td>\n",
              "      <td>1069.080625</td>\n",
              "      <td>0.997800</td>\n",
              "      <td>97.810000</td>\n",
              "      <td>0.120900</td>\n",
              "      <td>1.410825</td>\n",
              "      <td>-0.011300</td>\n",
              "      <td>-0.005925</td>\n",
              "      <td>...</td>\n",
              "      <td>0.000000</td>\n",
              "      <td>86.558550</td>\n",
              "      <td>0.497900</td>\n",
              "      <td>0.011700</td>\n",
              "      <td>0.003100</td>\n",
              "      <td>2.338725</td>\n",
              "      <td>0.012300</td>\n",
              "      <td>0.010500</td>\n",
              "      <td>0.003400</td>\n",
              "      <td>45.385625</td>\n",
              "    </tr>\n",
              "    <tr>\n",
              "      <th>50%</th>\n",
              "      <td>3010.280000</td>\n",
              "      <td>2491.740000</td>\n",
              "      <td>2200.200000</td>\n",
              "      <td>1276.475450</td>\n",
              "      <td>1.323050</td>\n",
              "      <td>101.397200</td>\n",
              "      <td>0.122200</td>\n",
              "      <td>1.468000</td>\n",
              "      <td>-0.002400</td>\n",
              "      <td>-0.000450</td>\n",
              "      <td>...</td>\n",
              "      <td>0.000000</td>\n",
              "      <td>97.900000</td>\n",
              "      <td>0.500100</td>\n",
              "      <td>0.013800</td>\n",
              "      <td>0.003600</td>\n",
              "      <td>2.753200</td>\n",
              "      <td>0.021200</td>\n",
              "      <td>0.014100</td>\n",
              "      <td>0.004500</td>\n",
              "      <td>70.784800</td>\n",
              "    </tr>\n",
              "    <tr>\n",
              "      <th>75%</th>\n",
              "      <td>3052.197500</td>\n",
              "      <td>2538.752500</td>\n",
              "      <td>2218.055500</td>\n",
              "      <td>1590.192350</td>\n",
              "      <td>1.529100</td>\n",
              "      <td>104.521100</td>\n",
              "      <td>0.123800</td>\n",
              "      <td>1.517375</td>\n",
              "      <td>0.005500</td>\n",
              "      <td>0.005600</td>\n",
              "      <td>...</td>\n",
              "      <td>0.004000</td>\n",
              "      <td>97.900000</td>\n",
              "      <td>0.502400</td>\n",
              "      <td>0.016300</td>\n",
              "      <td>0.004100</td>\n",
              "      <td>3.256825</td>\n",
              "      <td>0.027525</td>\n",
              "      <td>0.019725</td>\n",
              "      <td>0.006225</td>\n",
              "      <td>113.805450</td>\n",
              "    </tr>\n",
              "    <tr>\n",
              "      <th>max</th>\n",
              "      <td>3356.350000</td>\n",
              "      <td>2815.310000</td>\n",
              "      <td>2315.266700</td>\n",
              "      <td>3619.739700</td>\n",
              "      <td>1112.472800</td>\n",
              "      <td>119.901100</td>\n",
              "      <td>0.126900</td>\n",
              "      <td>1.656400</td>\n",
              "      <td>0.049500</td>\n",
              "      <td>0.039600</td>\n",
              "      <td>...</td>\n",
              "      <td>0.015000</td>\n",
              "      <td>737.304800</td>\n",
              "      <td>0.509800</td>\n",
              "      <td>0.047100</td>\n",
              "      <td>0.009600</td>\n",
              "      <td>9.295300</td>\n",
              "      <td>0.102800</td>\n",
              "      <td>0.055600</td>\n",
              "      <td>0.017300</td>\n",
              "      <td>737.304800</td>\n",
              "    </tr>\n",
              "  </tbody>\n",
              "</table>\n",
              "<p>8 rows × 474 columns</p>\n",
              "</div>\n",
              "    <div class=\"colab-df-buttons\">\n",
              "\n",
              "  <div class=\"colab-df-container\">\n",
              "    <button class=\"colab-df-convert\" onclick=\"convertToInteractive('df-48373115-9a20-419b-8ddd-f42a5739fc94')\"\n",
              "            title=\"Convert this dataframe to an interactive table.\"\n",
              "            style=\"display:none;\">\n",
              "\n",
              "  <svg xmlns=\"http://www.w3.org/2000/svg\" height=\"24px\" viewBox=\"0 -960 960 960\">\n",
              "    <path d=\"M120-120v-720h720v720H120Zm60-500h600v-160H180v160Zm220 220h160v-160H400v160Zm0 220h160v-160H400v160ZM180-400h160v-160H180v160Zm440 0h160v-160H620v160ZM180-180h160v-160H180v160Zm440 0h160v-160H620v160Z\"/>\n",
              "  </svg>\n",
              "    </button>\n",
              "\n",
              "  <style>\n",
              "    .colab-df-container {\n",
              "      display:flex;\n",
              "      gap: 12px;\n",
              "    }\n",
              "\n",
              "    .colab-df-convert {\n",
              "      background-color: #E8F0FE;\n",
              "      border: none;\n",
              "      border-radius: 50%;\n",
              "      cursor: pointer;\n",
              "      display: none;\n",
              "      fill: #1967D2;\n",
              "      height: 32px;\n",
              "      padding: 0 0 0 0;\n",
              "      width: 32px;\n",
              "    }\n",
              "\n",
              "    .colab-df-convert:hover {\n",
              "      background-color: #E2EBFA;\n",
              "      box-shadow: 0px 1px 2px rgba(60, 64, 67, 0.3), 0px 1px 3px 1px rgba(60, 64, 67, 0.15);\n",
              "      fill: #174EA6;\n",
              "    }\n",
              "\n",
              "    .colab-df-buttons div {\n",
              "      margin-bottom: 4px;\n",
              "    }\n",
              "\n",
              "    [theme=dark] .colab-df-convert {\n",
              "      background-color: #3B4455;\n",
              "      fill: #D2E3FC;\n",
              "    }\n",
              "\n",
              "    [theme=dark] .colab-df-convert:hover {\n",
              "      background-color: #434B5C;\n",
              "      box-shadow: 0px 1px 3px 1px rgba(0, 0, 0, 0.15);\n",
              "      filter: drop-shadow(0px 1px 2px rgba(0, 0, 0, 0.3));\n",
              "      fill: #FFFFFF;\n",
              "    }\n",
              "  </style>\n",
              "\n",
              "    <script>\n",
              "      const buttonEl =\n",
              "        document.querySelector('#df-48373115-9a20-419b-8ddd-f42a5739fc94 button.colab-df-convert');\n",
              "      buttonEl.style.display =\n",
              "        google.colab.kernel.accessAllowed ? 'block' : 'none';\n",
              "\n",
              "      async function convertToInteractive(key) {\n",
              "        const element = document.querySelector('#df-48373115-9a20-419b-8ddd-f42a5739fc94');\n",
              "        const dataTable =\n",
              "          await google.colab.kernel.invokeFunction('convertToInteractive',\n",
              "                                                    [key], {});\n",
              "        if (!dataTable) return;\n",
              "\n",
              "        const docLinkHtml = 'Like what you see? Visit the ' +\n",
              "          '<a target=\"_blank\" href=https://colab.research.google.com/notebooks/data_table.ipynb>data table notebook</a>'\n",
              "          + ' to learn more about interactive tables.';\n",
              "        element.innerHTML = '';\n",
              "        dataTable['output_type'] = 'display_data';\n",
              "        await google.colab.output.renderOutput(dataTable, element);\n",
              "        const docLink = document.createElement('div');\n",
              "        docLink.innerHTML = docLinkHtml;\n",
              "        element.appendChild(docLink);\n",
              "      }\n",
              "    </script>\n",
              "  </div>\n",
              "\n",
              "\n",
              "<div id=\"df-47673d8c-01ae-4615-9b24-c70a211d7070\">\n",
              "  <button class=\"colab-df-quickchart\" onclick=\"quickchart('df-47673d8c-01ae-4615-9b24-c70a211d7070')\"\n",
              "            title=\"Suggest charts.\"\n",
              "            style=\"display:none;\">\n",
              "\n",
              "<svg xmlns=\"http://www.w3.org/2000/svg\" height=\"24px\"viewBox=\"0 0 24 24\"\n",
              "     width=\"24px\">\n",
              "    <g>\n",
              "        <path d=\"M19 3H5c-1.1 0-2 .9-2 2v14c0 1.1.9 2 2 2h14c1.1 0 2-.9 2-2V5c0-1.1-.9-2-2-2zM9 17H7v-7h2v7zm4 0h-2V7h2v10zm4 0h-2v-4h2v4z\"/>\n",
              "    </g>\n",
              "</svg>\n",
              "  </button>\n",
              "\n",
              "<style>\n",
              "  .colab-df-quickchart {\n",
              "    background-color: #E8F0FE;\n",
              "    border: none;\n",
              "    border-radius: 50%;\n",
              "    cursor: pointer;\n",
              "    display: none;\n",
              "    fill: #1967D2;\n",
              "    height: 32px;\n",
              "    padding: 0 0 0 0;\n",
              "    width: 32px;\n",
              "  }\n",
              "\n",
              "  .colab-df-quickchart:hover {\n",
              "    background-color: #E2EBFA;\n",
              "    box-shadow: 0px 1px 2px rgba(60, 64, 67, 0.3), 0px 1px 3px 1px rgba(60, 64, 67, 0.15);\n",
              "    fill: #174EA6;\n",
              "  }\n",
              "\n",
              "  [theme=dark] .colab-df-quickchart {\n",
              "    background-color: #3B4455;\n",
              "    fill: #D2E3FC;\n",
              "  }\n",
              "\n",
              "  [theme=dark] .colab-df-quickchart:hover {\n",
              "    background-color: #434B5C;\n",
              "    box-shadow: 0px 1px 3px 1px rgba(0, 0, 0, 0.15);\n",
              "    filter: drop-shadow(0px 1px 2px rgba(0, 0, 0, 0.3));\n",
              "    fill: #FFFFFF;\n",
              "  }\n",
              "</style>\n",
              "\n",
              "  <script>\n",
              "    async function quickchart(key) {\n",
              "      const charts = await google.colab.kernel.invokeFunction(\n",
              "          'suggestCharts', [key], {});\n",
              "    }\n",
              "    (() => {\n",
              "      let quickchartButtonEl =\n",
              "        document.querySelector('#df-47673d8c-01ae-4615-9b24-c70a211d7070 button');\n",
              "      quickchartButtonEl.style.display =\n",
              "        google.colab.kernel.accessAllowed ? 'block' : 'none';\n",
              "    })();\n",
              "  </script>\n",
              "</div>\n",
              "    </div>\n",
              "  </div>\n"
            ]
          },
          "metadata": {},
          "execution_count": 167
        }
      ]
    },
    {
      "cell_type": "code",
      "source": [
        "#min_periods = 10 is to compute the covariance of 10 columns\n",
        "X_test.cov(min_periods=10)"
      ],
      "metadata": {
        "colab": {
          "base_uri": "https://localhost:8080/",
          "height": 443
        },
        "id": "P5edwpJzTu8B",
        "outputId": "01777d71-5254-4dbf-98aa-6ba01bf7ba6a"
      },
      "execution_count": 176,
      "outputs": [
        {
          "output_type": "execute_result",
          "data": {
            "text/plain": [
              "              0           1           2             3            4  \\\n",
              "0   5282.492756 -602.683383   60.524023    391.639589    42.824491   \n",
              "1   -602.683383 6706.420619   34.649729    977.334626  -137.172662   \n",
              "2     60.524023   34.649729  932.002282   4189.433246   371.918834   \n",
              "3    391.639589  977.334626 4189.433246 204477.469403 -5037.892401   \n",
              "4     42.824491 -137.172662  371.918834  -5037.892401  6281.062015   \n",
              "..          ...         ...         ...           ...          ...   \n",
              "585   -4.297493    2.982654   -0.025316      2.171662     0.197924   \n",
              "586   -0.044150    0.063257    0.023255      0.571888    -0.090094   \n",
              "587    0.026223    0.052520    0.006934     -0.097336    -0.012292   \n",
              "588    0.008787    0.012477    0.002354     -0.024219    -0.001350   \n",
              "589  722.922511  489.912885  -35.403020  -5331.970605  1194.560054   \n",
              "\n",
              "               6         7         8         9        10  ...       580  \\\n",
              "0      -2.014813  0.066011 -0.039393 -0.057710 -0.036348  ... -0.014659   \n",
              "1     -31.897973 -0.019345  0.189643 -0.023199  0.070344  ...  0.013259   \n",
              "2     -29.280665 -0.054559 -0.052236  0.000734  0.030278  ...  0.005376   \n",
              "3   -1736.006970  0.618431 -5.594892  0.129820 -0.070008  ...  0.084468   \n",
              "4     -77.495039 -0.406251 -0.144026  0.046468  0.018739  ...  0.015284   \n",
              "..           ...       ...       ...       ...       ...  ...       ...   \n",
              "585    -0.006284  0.000565 -0.001199 -0.000881  0.000235  ...  0.000233   \n",
              "586    -0.004631  0.000019 -0.000026 -0.000004 -0.000006  ...  0.000005   \n",
              "587     0.001802 -0.000004 -0.000007  0.000006  0.000004  ...  0.000010   \n",
              "588     0.000663 -0.000002 -0.000002  0.000002  0.000001  ...  0.000003   \n",
              "589    28.533110 -0.298088 -0.119698  0.068837  0.037256  ...  0.024350   \n",
              "\n",
              "             581       582       583       584       585       586       587  \\\n",
              "0     188.013777 -0.007254 -0.021898 -0.005862 -4.297493 -0.044150  0.026223   \n",
              "1     319.977039  0.009902  0.015212  0.001900  2.982654  0.063257  0.052520   \n",
              "2      21.882595 -0.001307 -0.000145  0.000479 -0.025316  0.023255  0.006934   \n",
              "3   -4301.609158  0.034617  0.010806  0.004840  2.171662  0.571888 -0.097336   \n",
              "4    1208.458767  0.017485  0.001516 -0.000839  0.197924 -0.090094 -0.012292   \n",
              "..           ...       ...       ...       ...       ...       ...       ...   \n",
              "585    -0.471275  0.000399  0.004369  0.000782  0.868761 -0.000052  0.000187   \n",
              "586    -0.237737  0.000000 -0.000000 -0.000000 -0.000052  0.000175  0.000019   \n",
              "587     0.110360 -0.000001  0.000001  0.000000  0.000187  0.000019  0.000065   \n",
              "588     0.032108 -0.000000  0.000000 -0.000000  0.000016  0.000005  0.000020   \n",
              "589  3432.067529  0.007086 -0.003691 -0.000691 -0.737448 -0.663634  0.295605   \n",
              "\n",
              "          588          589  \n",
              "0    0.008787   722.922511  \n",
              "1    0.012477   489.912885  \n",
              "2    0.002354   -35.403020  \n",
              "3   -0.024219 -5331.970605  \n",
              "4   -0.001350  1194.560054  \n",
              "..        ...          ...  \n",
              "585  0.000016    -0.737448  \n",
              "586  0.000005    -0.663634  \n",
              "587  0.000020     0.295605  \n",
              "588  0.000007     0.098624  \n",
              "589  0.098624 10212.511112  \n",
              "\n",
              "[474 rows x 474 columns]"
            ],
            "text/html": [
              "\n",
              "  <div id=\"df-3acac9a2-1a6c-4f5d-8434-3c39e03f2d2f\" class=\"colab-df-container\">\n",
              "    <div>\n",
              "<style scoped>\n",
              "    .dataframe tbody tr th:only-of-type {\n",
              "        vertical-align: middle;\n",
              "    }\n",
              "\n",
              "    .dataframe tbody tr th {\n",
              "        vertical-align: top;\n",
              "    }\n",
              "\n",
              "    .dataframe thead th {\n",
              "        text-align: right;\n",
              "    }\n",
              "</style>\n",
              "<table border=\"1\" class=\"dataframe\">\n",
              "  <thead>\n",
              "    <tr style=\"text-align: right;\">\n",
              "      <th></th>\n",
              "      <th>0</th>\n",
              "      <th>1</th>\n",
              "      <th>2</th>\n",
              "      <th>3</th>\n",
              "      <th>4</th>\n",
              "      <th>6</th>\n",
              "      <th>7</th>\n",
              "      <th>8</th>\n",
              "      <th>9</th>\n",
              "      <th>10</th>\n",
              "      <th>...</th>\n",
              "      <th>580</th>\n",
              "      <th>581</th>\n",
              "      <th>582</th>\n",
              "      <th>583</th>\n",
              "      <th>584</th>\n",
              "      <th>585</th>\n",
              "      <th>586</th>\n",
              "      <th>587</th>\n",
              "      <th>588</th>\n",
              "      <th>589</th>\n",
              "    </tr>\n",
              "  </thead>\n",
              "  <tbody>\n",
              "    <tr>\n",
              "      <th>0</th>\n",
              "      <td>5282.492756</td>\n",
              "      <td>-602.683383</td>\n",
              "      <td>60.524023</td>\n",
              "      <td>391.639589</td>\n",
              "      <td>42.824491</td>\n",
              "      <td>-2.014813</td>\n",
              "      <td>0.066011</td>\n",
              "      <td>-0.039393</td>\n",
              "      <td>-0.057710</td>\n",
              "      <td>-0.036348</td>\n",
              "      <td>...</td>\n",
              "      <td>-0.014659</td>\n",
              "      <td>188.013777</td>\n",
              "      <td>-0.007254</td>\n",
              "      <td>-0.021898</td>\n",
              "      <td>-0.005862</td>\n",
              "      <td>-4.297493</td>\n",
              "      <td>-0.044150</td>\n",
              "      <td>0.026223</td>\n",
              "      <td>0.008787</td>\n",
              "      <td>722.922511</td>\n",
              "    </tr>\n",
              "    <tr>\n",
              "      <th>1</th>\n",
              "      <td>-602.683383</td>\n",
              "      <td>6706.420619</td>\n",
              "      <td>34.649729</td>\n",
              "      <td>977.334626</td>\n",
              "      <td>-137.172662</td>\n",
              "      <td>-31.897973</td>\n",
              "      <td>-0.019345</td>\n",
              "      <td>0.189643</td>\n",
              "      <td>-0.023199</td>\n",
              "      <td>0.070344</td>\n",
              "      <td>...</td>\n",
              "      <td>0.013259</td>\n",
              "      <td>319.977039</td>\n",
              "      <td>0.009902</td>\n",
              "      <td>0.015212</td>\n",
              "      <td>0.001900</td>\n",
              "      <td>2.982654</td>\n",
              "      <td>0.063257</td>\n",
              "      <td>0.052520</td>\n",
              "      <td>0.012477</td>\n",
              "      <td>489.912885</td>\n",
              "    </tr>\n",
              "    <tr>\n",
              "      <th>2</th>\n",
              "      <td>60.524023</td>\n",
              "      <td>34.649729</td>\n",
              "      <td>932.002282</td>\n",
              "      <td>4189.433246</td>\n",
              "      <td>371.918834</td>\n",
              "      <td>-29.280665</td>\n",
              "      <td>-0.054559</td>\n",
              "      <td>-0.052236</td>\n",
              "      <td>0.000734</td>\n",
              "      <td>0.030278</td>\n",
              "      <td>...</td>\n",
              "      <td>0.005376</td>\n",
              "      <td>21.882595</td>\n",
              "      <td>-0.001307</td>\n",
              "      <td>-0.000145</td>\n",
              "      <td>0.000479</td>\n",
              "      <td>-0.025316</td>\n",
              "      <td>0.023255</td>\n",
              "      <td>0.006934</td>\n",
              "      <td>0.002354</td>\n",
              "      <td>-35.403020</td>\n",
              "    </tr>\n",
              "    <tr>\n",
              "      <th>3</th>\n",
              "      <td>391.639589</td>\n",
              "      <td>977.334626</td>\n",
              "      <td>4189.433246</td>\n",
              "      <td>204477.469403</td>\n",
              "      <td>-5037.892401</td>\n",
              "      <td>-1736.006970</td>\n",
              "      <td>0.618431</td>\n",
              "      <td>-5.594892</td>\n",
              "      <td>0.129820</td>\n",
              "      <td>-0.070008</td>\n",
              "      <td>...</td>\n",
              "      <td>0.084468</td>\n",
              "      <td>-4301.609158</td>\n",
              "      <td>0.034617</td>\n",
              "      <td>0.010806</td>\n",
              "      <td>0.004840</td>\n",
              "      <td>2.171662</td>\n",
              "      <td>0.571888</td>\n",
              "      <td>-0.097336</td>\n",
              "      <td>-0.024219</td>\n",
              "      <td>-5331.970605</td>\n",
              "    </tr>\n",
              "    <tr>\n",
              "      <th>4</th>\n",
              "      <td>42.824491</td>\n",
              "      <td>-137.172662</td>\n",
              "      <td>371.918834</td>\n",
              "      <td>-5037.892401</td>\n",
              "      <td>6281.062015</td>\n",
              "      <td>-77.495039</td>\n",
              "      <td>-0.406251</td>\n",
              "      <td>-0.144026</td>\n",
              "      <td>0.046468</td>\n",
              "      <td>0.018739</td>\n",
              "      <td>...</td>\n",
              "      <td>0.015284</td>\n",
              "      <td>1208.458767</td>\n",
              "      <td>0.017485</td>\n",
              "      <td>0.001516</td>\n",
              "      <td>-0.000839</td>\n",
              "      <td>0.197924</td>\n",
              "      <td>-0.090094</td>\n",
              "      <td>-0.012292</td>\n",
              "      <td>-0.001350</td>\n",
              "      <td>1194.560054</td>\n",
              "    </tr>\n",
              "    <tr>\n",
              "      <th>...</th>\n",
              "      <td>...</td>\n",
              "      <td>...</td>\n",
              "      <td>...</td>\n",
              "      <td>...</td>\n",
              "      <td>...</td>\n",
              "      <td>...</td>\n",
              "      <td>...</td>\n",
              "      <td>...</td>\n",
              "      <td>...</td>\n",
              "      <td>...</td>\n",
              "      <td>...</td>\n",
              "      <td>...</td>\n",
              "      <td>...</td>\n",
              "      <td>...</td>\n",
              "      <td>...</td>\n",
              "      <td>...</td>\n",
              "      <td>...</td>\n",
              "      <td>...</td>\n",
              "      <td>...</td>\n",
              "      <td>...</td>\n",
              "      <td>...</td>\n",
              "    </tr>\n",
              "    <tr>\n",
              "      <th>585</th>\n",
              "      <td>-4.297493</td>\n",
              "      <td>2.982654</td>\n",
              "      <td>-0.025316</td>\n",
              "      <td>2.171662</td>\n",
              "      <td>0.197924</td>\n",
              "      <td>-0.006284</td>\n",
              "      <td>0.000565</td>\n",
              "      <td>-0.001199</td>\n",
              "      <td>-0.000881</td>\n",
              "      <td>0.000235</td>\n",
              "      <td>...</td>\n",
              "      <td>0.000233</td>\n",
              "      <td>-0.471275</td>\n",
              "      <td>0.000399</td>\n",
              "      <td>0.004369</td>\n",
              "      <td>0.000782</td>\n",
              "      <td>0.868761</td>\n",
              "      <td>-0.000052</td>\n",
              "      <td>0.000187</td>\n",
              "      <td>0.000016</td>\n",
              "      <td>-0.737448</td>\n",
              "    </tr>\n",
              "    <tr>\n",
              "      <th>586</th>\n",
              "      <td>-0.044150</td>\n",
              "      <td>0.063257</td>\n",
              "      <td>0.023255</td>\n",
              "      <td>0.571888</td>\n",
              "      <td>-0.090094</td>\n",
              "      <td>-0.004631</td>\n",
              "      <td>0.000019</td>\n",
              "      <td>-0.000026</td>\n",
              "      <td>-0.000004</td>\n",
              "      <td>-0.000006</td>\n",
              "      <td>...</td>\n",
              "      <td>0.000005</td>\n",
              "      <td>-0.237737</td>\n",
              "      <td>0.000000</td>\n",
              "      <td>-0.000000</td>\n",
              "      <td>-0.000000</td>\n",
              "      <td>-0.000052</td>\n",
              "      <td>0.000175</td>\n",
              "      <td>0.000019</td>\n",
              "      <td>0.000005</td>\n",
              "      <td>-0.663634</td>\n",
              "    </tr>\n",
              "    <tr>\n",
              "      <th>587</th>\n",
              "      <td>0.026223</td>\n",
              "      <td>0.052520</td>\n",
              "      <td>0.006934</td>\n",
              "      <td>-0.097336</td>\n",
              "      <td>-0.012292</td>\n",
              "      <td>0.001802</td>\n",
              "      <td>-0.000004</td>\n",
              "      <td>-0.000007</td>\n",
              "      <td>0.000006</td>\n",
              "      <td>0.000004</td>\n",
              "      <td>...</td>\n",
              "      <td>0.000010</td>\n",
              "      <td>0.110360</td>\n",
              "      <td>-0.000001</td>\n",
              "      <td>0.000001</td>\n",
              "      <td>0.000000</td>\n",
              "      <td>0.000187</td>\n",
              "      <td>0.000019</td>\n",
              "      <td>0.000065</td>\n",
              "      <td>0.000020</td>\n",
              "      <td>0.295605</td>\n",
              "    </tr>\n",
              "    <tr>\n",
              "      <th>588</th>\n",
              "      <td>0.008787</td>\n",
              "      <td>0.012477</td>\n",
              "      <td>0.002354</td>\n",
              "      <td>-0.024219</td>\n",
              "      <td>-0.001350</td>\n",
              "      <td>0.000663</td>\n",
              "      <td>-0.000002</td>\n",
              "      <td>-0.000002</td>\n",
              "      <td>0.000002</td>\n",
              "      <td>0.000001</td>\n",
              "      <td>...</td>\n",
              "      <td>0.000003</td>\n",
              "      <td>0.032108</td>\n",
              "      <td>-0.000000</td>\n",
              "      <td>0.000000</td>\n",
              "      <td>-0.000000</td>\n",
              "      <td>0.000016</td>\n",
              "      <td>0.000005</td>\n",
              "      <td>0.000020</td>\n",
              "      <td>0.000007</td>\n",
              "      <td>0.098624</td>\n",
              "    </tr>\n",
              "    <tr>\n",
              "      <th>589</th>\n",
              "      <td>722.922511</td>\n",
              "      <td>489.912885</td>\n",
              "      <td>-35.403020</td>\n",
              "      <td>-5331.970605</td>\n",
              "      <td>1194.560054</td>\n",
              "      <td>28.533110</td>\n",
              "      <td>-0.298088</td>\n",
              "      <td>-0.119698</td>\n",
              "      <td>0.068837</td>\n",
              "      <td>0.037256</td>\n",
              "      <td>...</td>\n",
              "      <td>0.024350</td>\n",
              "      <td>3432.067529</td>\n",
              "      <td>0.007086</td>\n",
              "      <td>-0.003691</td>\n",
              "      <td>-0.000691</td>\n",
              "      <td>-0.737448</td>\n",
              "      <td>-0.663634</td>\n",
              "      <td>0.295605</td>\n",
              "      <td>0.098624</td>\n",
              "      <td>10212.511112</td>\n",
              "    </tr>\n",
              "  </tbody>\n",
              "</table>\n",
              "<p>474 rows × 474 columns</p>\n",
              "</div>\n",
              "    <div class=\"colab-df-buttons\">\n",
              "\n",
              "  <div class=\"colab-df-container\">\n",
              "    <button class=\"colab-df-convert\" onclick=\"convertToInteractive('df-3acac9a2-1a6c-4f5d-8434-3c39e03f2d2f')\"\n",
              "            title=\"Convert this dataframe to an interactive table.\"\n",
              "            style=\"display:none;\">\n",
              "\n",
              "  <svg xmlns=\"http://www.w3.org/2000/svg\" height=\"24px\" viewBox=\"0 -960 960 960\">\n",
              "    <path d=\"M120-120v-720h720v720H120Zm60-500h600v-160H180v160Zm220 220h160v-160H400v160Zm0 220h160v-160H400v160ZM180-400h160v-160H180v160Zm440 0h160v-160H620v160ZM180-180h160v-160H180v160Zm440 0h160v-160H620v160Z\"/>\n",
              "  </svg>\n",
              "    </button>\n",
              "\n",
              "  <style>\n",
              "    .colab-df-container {\n",
              "      display:flex;\n",
              "      gap: 12px;\n",
              "    }\n",
              "\n",
              "    .colab-df-convert {\n",
              "      background-color: #E8F0FE;\n",
              "      border: none;\n",
              "      border-radius: 50%;\n",
              "      cursor: pointer;\n",
              "      display: none;\n",
              "      fill: #1967D2;\n",
              "      height: 32px;\n",
              "      padding: 0 0 0 0;\n",
              "      width: 32px;\n",
              "    }\n",
              "\n",
              "    .colab-df-convert:hover {\n",
              "      background-color: #E2EBFA;\n",
              "      box-shadow: 0px 1px 2px rgba(60, 64, 67, 0.3), 0px 1px 3px 1px rgba(60, 64, 67, 0.15);\n",
              "      fill: #174EA6;\n",
              "    }\n",
              "\n",
              "    .colab-df-buttons div {\n",
              "      margin-bottom: 4px;\n",
              "    }\n",
              "\n",
              "    [theme=dark] .colab-df-convert {\n",
              "      background-color: #3B4455;\n",
              "      fill: #D2E3FC;\n",
              "    }\n",
              "\n",
              "    [theme=dark] .colab-df-convert:hover {\n",
              "      background-color: #434B5C;\n",
              "      box-shadow: 0px 1px 3px 1px rgba(0, 0, 0, 0.15);\n",
              "      filter: drop-shadow(0px 1px 2px rgba(0, 0, 0, 0.3));\n",
              "      fill: #FFFFFF;\n",
              "    }\n",
              "  </style>\n",
              "\n",
              "    <script>\n",
              "      const buttonEl =\n",
              "        document.querySelector('#df-3acac9a2-1a6c-4f5d-8434-3c39e03f2d2f button.colab-df-convert');\n",
              "      buttonEl.style.display =\n",
              "        google.colab.kernel.accessAllowed ? 'block' : 'none';\n",
              "\n",
              "      async function convertToInteractive(key) {\n",
              "        const element = document.querySelector('#df-3acac9a2-1a6c-4f5d-8434-3c39e03f2d2f');\n",
              "        const dataTable =\n",
              "          await google.colab.kernel.invokeFunction('convertToInteractive',\n",
              "                                                    [key], {});\n",
              "        if (!dataTable) return;\n",
              "\n",
              "        const docLinkHtml = 'Like what you see? Visit the ' +\n",
              "          '<a target=\"_blank\" href=https://colab.research.google.com/notebooks/data_table.ipynb>data table notebook</a>'\n",
              "          + ' to learn more about interactive tables.';\n",
              "        element.innerHTML = '';\n",
              "        dataTable['output_type'] = 'display_data';\n",
              "        await google.colab.output.renderOutput(dataTable, element);\n",
              "        const docLink = document.createElement('div');\n",
              "        docLink.innerHTML = docLinkHtml;\n",
              "        element.appendChild(docLink);\n",
              "      }\n",
              "    </script>\n",
              "  </div>\n",
              "\n",
              "\n",
              "<div id=\"df-2c2f971b-5911-40d8-8218-6cd33bc32737\">\n",
              "  <button class=\"colab-df-quickchart\" onclick=\"quickchart('df-2c2f971b-5911-40d8-8218-6cd33bc32737')\"\n",
              "            title=\"Suggest charts.\"\n",
              "            style=\"display:none;\">\n",
              "\n",
              "<svg xmlns=\"http://www.w3.org/2000/svg\" height=\"24px\"viewBox=\"0 0 24 24\"\n",
              "     width=\"24px\">\n",
              "    <g>\n",
              "        <path d=\"M19 3H5c-1.1 0-2 .9-2 2v14c0 1.1.9 2 2 2h14c1.1 0 2-.9 2-2V5c0-1.1-.9-2-2-2zM9 17H7v-7h2v7zm4 0h-2V7h2v10zm4 0h-2v-4h2v4z\"/>\n",
              "    </g>\n",
              "</svg>\n",
              "  </button>\n",
              "\n",
              "<style>\n",
              "  .colab-df-quickchart {\n",
              "    background-color: #E8F0FE;\n",
              "    border: none;\n",
              "    border-radius: 50%;\n",
              "    cursor: pointer;\n",
              "    display: none;\n",
              "    fill: #1967D2;\n",
              "    height: 32px;\n",
              "    padding: 0 0 0 0;\n",
              "    width: 32px;\n",
              "  }\n",
              "\n",
              "  .colab-df-quickchart:hover {\n",
              "    background-color: #E2EBFA;\n",
              "    box-shadow: 0px 1px 2px rgba(60, 64, 67, 0.3), 0px 1px 3px 1px rgba(60, 64, 67, 0.15);\n",
              "    fill: #174EA6;\n",
              "  }\n",
              "\n",
              "  [theme=dark] .colab-df-quickchart {\n",
              "    background-color: #3B4455;\n",
              "    fill: #D2E3FC;\n",
              "  }\n",
              "\n",
              "  [theme=dark] .colab-df-quickchart:hover {\n",
              "    background-color: #434B5C;\n",
              "    box-shadow: 0px 1px 3px 1px rgba(0, 0, 0, 0.15);\n",
              "    filter: drop-shadow(0px 1px 2px rgba(0, 0, 0, 0.3));\n",
              "    fill: #FFFFFF;\n",
              "  }\n",
              "</style>\n",
              "\n",
              "  <script>\n",
              "    async function quickchart(key) {\n",
              "      const charts = await google.colab.kernel.invokeFunction(\n",
              "          'suggestCharts', [key], {});\n",
              "    }\n",
              "    (() => {\n",
              "      let quickchartButtonEl =\n",
              "        document.querySelector('#df-2c2f971b-5911-40d8-8218-6cd33bc32737 button');\n",
              "      quickchartButtonEl.style.display =\n",
              "        google.colab.kernel.accessAllowed ? 'block' : 'none';\n",
              "    })();\n",
              "  </script>\n",
              "</div>\n",
              "    </div>\n",
              "  </div>\n"
            ]
          },
          "metadata": {},
          "execution_count": 176
        }
      ]
    },
    {
      "cell_type": "markdown",
      "source": [
        "The percentile values remain same in all sets - original, train and test data"
      ],
      "metadata": {
        "id": "c71SzcY6LvSB"
      }
    },
    {
      "cell_type": "markdown",
      "source": [
        "Q5 A - Use any Supervised Learning technique to train a model."
      ],
      "metadata": {
        "id": "AxuJ3WIGUyoK"
      }
    },
    {
      "cell_type": "code",
      "source": [
        "logreg = LogisticRegression(solver = 'liblinear', multi_class= 'auto')\n",
        "\n",
        "logreg.fit(X_train, y_train.values.ravel())"
      ],
      "metadata": {
        "colab": {
          "base_uri": "https://localhost:8080/",
          "height": 109
        },
        "id": "IgZvjJBCU5OK",
        "outputId": "f0f8501c-e2c5-4629-8fb4-48b9b837e565"
      },
      "execution_count": 126,
      "outputs": [
        {
          "output_type": "stream",
          "name": "stderr",
          "text": [
            "/usr/local/lib/python3.10/dist-packages/sklearn/svm/_base.py:1244: ConvergenceWarning: Liblinear failed to converge, increase the number of iterations.\n",
            "  warnings.warn(\n"
          ]
        },
        {
          "output_type": "execute_result",
          "data": {
            "text/plain": [
              "LogisticRegression(solver='liblinear')"
            ],
            "text/html": [
              "<style>#sk-container-id-9 {color: black;background-color: white;}#sk-container-id-9 pre{padding: 0;}#sk-container-id-9 div.sk-toggleable {background-color: white;}#sk-container-id-9 label.sk-toggleable__label {cursor: pointer;display: block;width: 100%;margin-bottom: 0;padding: 0.3em;box-sizing: border-box;text-align: center;}#sk-container-id-9 label.sk-toggleable__label-arrow:before {content: \"▸\";float: left;margin-right: 0.25em;color: #696969;}#sk-container-id-9 label.sk-toggleable__label-arrow:hover:before {color: black;}#sk-container-id-9 div.sk-estimator:hover label.sk-toggleable__label-arrow:before {color: black;}#sk-container-id-9 div.sk-toggleable__content {max-height: 0;max-width: 0;overflow: hidden;text-align: left;background-color: #f0f8ff;}#sk-container-id-9 div.sk-toggleable__content pre {margin: 0.2em;color: black;border-radius: 0.25em;background-color: #f0f8ff;}#sk-container-id-9 input.sk-toggleable__control:checked~div.sk-toggleable__content {max-height: 200px;max-width: 100%;overflow: auto;}#sk-container-id-9 input.sk-toggleable__control:checked~label.sk-toggleable__label-arrow:before {content: \"▾\";}#sk-container-id-9 div.sk-estimator input.sk-toggleable__control:checked~label.sk-toggleable__label {background-color: #d4ebff;}#sk-container-id-9 div.sk-label input.sk-toggleable__control:checked~label.sk-toggleable__label {background-color: #d4ebff;}#sk-container-id-9 input.sk-hidden--visually {border: 0;clip: rect(1px 1px 1px 1px);clip: rect(1px, 1px, 1px, 1px);height: 1px;margin: -1px;overflow: hidden;padding: 0;position: absolute;width: 1px;}#sk-container-id-9 div.sk-estimator {font-family: monospace;background-color: #f0f8ff;border: 1px dotted black;border-radius: 0.25em;box-sizing: border-box;margin-bottom: 0.5em;}#sk-container-id-9 div.sk-estimator:hover {background-color: #d4ebff;}#sk-container-id-9 div.sk-parallel-item::after {content: \"\";width: 100%;border-bottom: 1px solid gray;flex-grow: 1;}#sk-container-id-9 div.sk-label:hover label.sk-toggleable__label {background-color: #d4ebff;}#sk-container-id-9 div.sk-serial::before {content: \"\";position: absolute;border-left: 1px solid gray;box-sizing: border-box;top: 0;bottom: 0;left: 50%;z-index: 0;}#sk-container-id-9 div.sk-serial {display: flex;flex-direction: column;align-items: center;background-color: white;padding-right: 0.2em;padding-left: 0.2em;position: relative;}#sk-container-id-9 div.sk-item {position: relative;z-index: 1;}#sk-container-id-9 div.sk-parallel {display: flex;align-items: stretch;justify-content: center;background-color: white;position: relative;}#sk-container-id-9 div.sk-item::before, #sk-container-id-9 div.sk-parallel-item::before {content: \"\";position: absolute;border-left: 1px solid gray;box-sizing: border-box;top: 0;bottom: 0;left: 50%;z-index: -1;}#sk-container-id-9 div.sk-parallel-item {display: flex;flex-direction: column;z-index: 1;position: relative;background-color: white;}#sk-container-id-9 div.sk-parallel-item:first-child::after {align-self: flex-end;width: 50%;}#sk-container-id-9 div.sk-parallel-item:last-child::after {align-self: flex-start;width: 50%;}#sk-container-id-9 div.sk-parallel-item:only-child::after {width: 0;}#sk-container-id-9 div.sk-dashed-wrapped {border: 1px dashed gray;margin: 0 0.4em 0.5em 0.4em;box-sizing: border-box;padding-bottom: 0.4em;background-color: white;}#sk-container-id-9 div.sk-label label {font-family: monospace;font-weight: bold;display: inline-block;line-height: 1.2em;}#sk-container-id-9 div.sk-label-container {text-align: center;}#sk-container-id-9 div.sk-container {/* jupyter's `normalize.less` sets `[hidden] { display: none; }` but bootstrap.min.css set `[hidden] { display: none !important; }` so we also need the `!important` here to be able to override the default hidden behavior on the sphinx rendered scikit-learn.org. See: https://github.com/scikit-learn/scikit-learn/issues/21755 */display: inline-block !important;position: relative;}#sk-container-id-9 div.sk-text-repr-fallback {display: none;}</style><div id=\"sk-container-id-9\" class=\"sk-top-container\"><div class=\"sk-text-repr-fallback\"><pre>LogisticRegression(solver=&#x27;liblinear&#x27;)</pre><b>In a Jupyter environment, please rerun this cell to show the HTML representation or trust the notebook. <br />On GitHub, the HTML representation is unable to render, please try loading this page with nbviewer.org.</b></div><div class=\"sk-container\" hidden><div class=\"sk-item\"><div class=\"sk-estimator sk-toggleable\"><input class=\"sk-toggleable__control sk-hidden--visually\" id=\"sk-estimator-id-13\" type=\"checkbox\" checked><label for=\"sk-estimator-id-13\" class=\"sk-toggleable__label sk-toggleable__label-arrow\">LogisticRegression</label><div class=\"sk-toggleable__content\"><pre>LogisticRegression(solver=&#x27;liblinear&#x27;)</pre></div></div></div></div></div>"
            ]
          },
          "metadata": {},
          "execution_count": 126
        }
      ]
    },
    {
      "cell_type": "code",
      "source": [
        "lr_score = logreg.score(X_test, y_test)\n",
        "print(f\"Score : {lr_score}\")"
      ],
      "metadata": {
        "colab": {
          "base_uri": "https://localhost:8080/"
        },
        "id": "UByO58UDZsOW",
        "outputId": "42a40cf5-7f35-464c-8d6f-c47024e81606"
      },
      "execution_count": 45,
      "outputs": [
        {
          "output_type": "stream",
          "name": "stdout",
          "text": [
            "Score : 0.9081632653061225\n"
          ]
        }
      ]
    },
    {
      "cell_type": "code",
      "source": [
        "pred = logreg.predict(X_test)"
      ],
      "metadata": {
        "id": "TO4mavhAZzL3"
      },
      "execution_count": 46,
      "outputs": []
    },
    {
      "cell_type": "code",
      "source": [
        "accuracy = logreg.score(X_test, pred)\n",
        "print (\"accuracy: \", accuracy)"
      ],
      "metadata": {
        "colab": {
          "base_uri": "https://localhost:8080/"
        },
        "id": "1jf9cXmgZ98W",
        "outputId": "d5d65ca3-fd94-4613-9aa3-b2ea31488486"
      },
      "execution_count": 47,
      "outputs": [
        {
          "output_type": "stream",
          "name": "stdout",
          "text": [
            "accuracy:  1.0\n"
          ]
        }
      ]
    },
    {
      "cell_type": "markdown",
      "source": [
        "Q5 B - Use cross validation techniques."
      ],
      "metadata": {
        "id": "fIEO6PfmcRVg"
      }
    },
    {
      "cell_type": "code",
      "source": [
        "num_folds=10"
      ],
      "metadata": {
        "id": "Xws2rVskcWki"
      },
      "execution_count": 48,
      "outputs": []
    },
    {
      "cell_type": "code",
      "source": [
        "scaler = StandardScaler()\n",
        "normalized_x = pd.DataFrame(scaler.fit_transform(X),columns = X.columns)"
      ],
      "metadata": {
        "id": "dzIC_M6EmK5Y"
      },
      "execution_count": 49,
      "outputs": []
    },
    {
      "cell_type": "code",
      "source": [
        "kfold=KFold(n_splits=num_folds, random_state=None)\n",
        "model=LogisticRegression(C=0.01,solver='saga', max_iter=1500)\n",
        "results=cross_val_score(model, normalized_x, Y.values.ravel(), cv=kfold)\n",
        "print(results)\n",
        "print(\"Accuracy: %.3f%% (%.3f%%)\" %(results.mean()*100.0, results.std()*100.0))"
      ],
      "metadata": {
        "colab": {
          "base_uri": "https://localhost:8080/"
        },
        "id": "ffDJ50l5gO8X",
        "outputId": "da49a6c6-01fa-4c45-ef97-088b497f636a"
      },
      "execution_count": 50,
      "outputs": [
        {
          "output_type": "stream",
          "name": "stdout",
          "text": [
            "[0.84076433 0.84713376 0.9044586  0.94904459 0.98089172 0.94267516\n",
            " 0.98089172 0.93589744 0.91666667 0.98076923]\n",
            "Accuracy: 92.792% (4.892%)\n"
          ]
        }
      ]
    },
    {
      "cell_type": "markdown",
      "source": [
        "Q5 C - Apply hyper-parameter tuning techniques to get the best accuracy."
      ],
      "metadata": {
        "id": "fuweQnRN5I19"
      }
    },
    {
      "cell_type": "code",
      "source": [
        "model.get_params()"
      ],
      "metadata": {
        "colab": {
          "base_uri": "https://localhost:8080/"
        },
        "id": "1kW-qibKCcfv",
        "outputId": "23b924f2-fd9c-4395-fc0d-6b2bc4522317"
      },
      "execution_count": 51,
      "outputs": [
        {
          "output_type": "execute_result",
          "data": {
            "text/plain": [
              "{'C': 0.01,\n",
              " 'class_weight': None,\n",
              " 'dual': False,\n",
              " 'fit_intercept': True,\n",
              " 'intercept_scaling': 1,\n",
              " 'l1_ratio': None,\n",
              " 'max_iter': 1500,\n",
              " 'multi_class': 'auto',\n",
              " 'n_jobs': None,\n",
              " 'penalty': 'l2',\n",
              " 'random_state': None,\n",
              " 'solver': 'saga',\n",
              " 'tol': 0.0001,\n",
              " 'verbose': 0,\n",
              " 'warm_start': False}"
            ]
          },
          "metadata": {},
          "execution_count": 51
        }
      ]
    },
    {
      "cell_type": "code",
      "source": [
        "param_grid = {'C': [0.1, 1, 10, 100],\n",
        "             'max_iter': [1000]}\n",
        "\n",
        "gs=GridSearchCV(model, param_grid,refit=True, verbose=3,cv=10)"
      ],
      "metadata": {
        "id": "xR1Y5HIU6120"
      },
      "execution_count": 124,
      "outputs": []
    },
    {
      "cell_type": "code",
      "source": [
        "gs.fit(normalized_x, Y.values.ravel())"
      ],
      "metadata": {
        "colab": {
          "base_uri": "https://localhost:8080/",
          "height": 1000
        },
        "id": "_tqPlycy7K4O",
        "outputId": "c5457805-08f9-44c0-8d67-af382a99c6d0"
      },
      "execution_count": 125,
      "outputs": [
        {
          "output_type": "stream",
          "name": "stdout",
          "text": [
            "Fitting 10 folds for each of 4 candidates, totalling 40 fits\n"
          ]
        },
        {
          "output_type": "stream",
          "name": "stderr",
          "text": [
            "/usr/local/lib/python3.10/dist-packages/sklearn/linear_model/_sag.py:350: ConvergenceWarning: The max_iter was reached which means the coef_ did not converge\n",
            "  warnings.warn(\n"
          ]
        },
        {
          "output_type": "stream",
          "name": "stdout",
          "text": [
            "[CV 1/10] END .............C=0.1, max_iter=1000;, score=0.490 total time=  11.0s\n"
          ]
        },
        {
          "output_type": "stream",
          "name": "stderr",
          "text": [
            "/usr/local/lib/python3.10/dist-packages/sklearn/linear_model/_sag.py:350: ConvergenceWarning: The max_iter was reached which means the coef_ did not converge\n",
            "  warnings.warn(\n"
          ]
        },
        {
          "output_type": "stream",
          "name": "stdout",
          "text": [
            "[CV 2/10] END .............C=0.1, max_iter=1000;, score=0.847 total time=  10.2s\n"
          ]
        },
        {
          "output_type": "stream",
          "name": "stderr",
          "text": [
            "/usr/local/lib/python3.10/dist-packages/sklearn/linear_model/_sag.py:350: ConvergenceWarning: The max_iter was reached which means the coef_ did not converge\n",
            "  warnings.warn(\n"
          ]
        },
        {
          "output_type": "stream",
          "name": "stdout",
          "text": [
            "[CV 3/10] END .............C=0.1, max_iter=1000;, score=0.892 total time=  11.2s\n"
          ]
        },
        {
          "output_type": "stream",
          "name": "stderr",
          "text": [
            "/usr/local/lib/python3.10/dist-packages/sklearn/linear_model/_sag.py:350: ConvergenceWarning: The max_iter was reached which means the coef_ did not converge\n",
            "  warnings.warn(\n"
          ]
        },
        {
          "output_type": "stream",
          "name": "stdout",
          "text": [
            "[CV 4/10] END .............C=0.1, max_iter=1000;, score=0.904 total time=  11.1s\n"
          ]
        },
        {
          "output_type": "stream",
          "name": "stderr",
          "text": [
            "/usr/local/lib/python3.10/dist-packages/sklearn/linear_model/_sag.py:350: ConvergenceWarning: The max_iter was reached which means the coef_ did not converge\n",
            "  warnings.warn(\n"
          ]
        },
        {
          "output_type": "stream",
          "name": "stdout",
          "text": [
            "[CV 5/10] END .............C=0.1, max_iter=1000;, score=0.911 total time=   9.7s\n"
          ]
        },
        {
          "output_type": "stream",
          "name": "stderr",
          "text": [
            "/usr/local/lib/python3.10/dist-packages/sklearn/linear_model/_sag.py:350: ConvergenceWarning: The max_iter was reached which means the coef_ did not converge\n",
            "  warnings.warn(\n"
          ]
        },
        {
          "output_type": "stream",
          "name": "stdout",
          "text": [
            "[CV 6/10] END .............C=0.1, max_iter=1000;, score=0.917 total time=  10.8s\n"
          ]
        },
        {
          "output_type": "stream",
          "name": "stderr",
          "text": [
            "/usr/local/lib/python3.10/dist-packages/sklearn/linear_model/_sag.py:350: ConvergenceWarning: The max_iter was reached which means the coef_ did not converge\n",
            "  warnings.warn(\n"
          ]
        },
        {
          "output_type": "stream",
          "name": "stdout",
          "text": [
            "[CV 7/10] END .............C=0.1, max_iter=1000;, score=0.892 total time=  11.1s\n"
          ]
        },
        {
          "output_type": "stream",
          "name": "stderr",
          "text": [
            "/usr/local/lib/python3.10/dist-packages/sklearn/linear_model/_sag.py:350: ConvergenceWarning: The max_iter was reached which means the coef_ did not converge\n",
            "  warnings.warn(\n"
          ]
        },
        {
          "output_type": "stream",
          "name": "stdout",
          "text": [
            "[CV 8/10] END .............C=0.1, max_iter=1000;, score=0.872 total time=  11.2s\n"
          ]
        },
        {
          "output_type": "stream",
          "name": "stderr",
          "text": [
            "/usr/local/lib/python3.10/dist-packages/sklearn/linear_model/_sag.py:350: ConvergenceWarning: The max_iter was reached which means the coef_ did not converge\n",
            "  warnings.warn(\n"
          ]
        },
        {
          "output_type": "stream",
          "name": "stdout",
          "text": [
            "[CV 9/10] END .............C=0.1, max_iter=1000;, score=0.923 total time=  10.8s\n"
          ]
        },
        {
          "output_type": "stream",
          "name": "stderr",
          "text": [
            "/usr/local/lib/python3.10/dist-packages/sklearn/linear_model/_sag.py:350: ConvergenceWarning: The max_iter was reached which means the coef_ did not converge\n",
            "  warnings.warn(\n"
          ]
        },
        {
          "output_type": "stream",
          "name": "stdout",
          "text": [
            "[CV 10/10] END ............C=0.1, max_iter=1000;, score=0.929 total time=  15.1s\n"
          ]
        },
        {
          "output_type": "stream",
          "name": "stderr",
          "text": [
            "/usr/local/lib/python3.10/dist-packages/sklearn/linear_model/_sag.py:350: ConvergenceWarning: The max_iter was reached which means the coef_ did not converge\n",
            "  warnings.warn(\n"
          ]
        },
        {
          "output_type": "stream",
          "name": "stdout",
          "text": [
            "[CV 1/10] END ...............C=1, max_iter=1000;, score=0.446 total time=  10.4s\n"
          ]
        },
        {
          "output_type": "stream",
          "name": "stderr",
          "text": [
            "/usr/local/lib/python3.10/dist-packages/sklearn/linear_model/_sag.py:350: ConvergenceWarning: The max_iter was reached which means the coef_ did not converge\n",
            "  warnings.warn(\n"
          ]
        },
        {
          "output_type": "stream",
          "name": "stdout",
          "text": [
            "[CV 2/10] END ...............C=1, max_iter=1000;, score=0.809 total time=  12.2s\n"
          ]
        },
        {
          "output_type": "stream",
          "name": "stderr",
          "text": [
            "/usr/local/lib/python3.10/dist-packages/sklearn/linear_model/_sag.py:350: ConvergenceWarning: The max_iter was reached which means the coef_ did not converge\n",
            "  warnings.warn(\n"
          ]
        },
        {
          "output_type": "stream",
          "name": "stdout",
          "text": [
            "[CV 3/10] END ...............C=1, max_iter=1000;, score=0.885 total time=  11.1s\n"
          ]
        },
        {
          "output_type": "stream",
          "name": "stderr",
          "text": [
            "/usr/local/lib/python3.10/dist-packages/sklearn/linear_model/_sag.py:350: ConvergenceWarning: The max_iter was reached which means the coef_ did not converge\n",
            "  warnings.warn(\n"
          ]
        },
        {
          "output_type": "stream",
          "name": "stdout",
          "text": [
            "[CV 4/10] END ...............C=1, max_iter=1000;, score=0.885 total time=  15.6s\n"
          ]
        },
        {
          "output_type": "stream",
          "name": "stderr",
          "text": [
            "/usr/local/lib/python3.10/dist-packages/sklearn/linear_model/_sag.py:350: ConvergenceWarning: The max_iter was reached which means the coef_ did not converge\n",
            "  warnings.warn(\n"
          ]
        },
        {
          "output_type": "stream",
          "name": "stdout",
          "text": [
            "[CV 5/10] END ...............C=1, max_iter=1000;, score=0.904 total time=  13.6s\n"
          ]
        },
        {
          "output_type": "stream",
          "name": "stderr",
          "text": [
            "/usr/local/lib/python3.10/dist-packages/sklearn/linear_model/_sag.py:350: ConvergenceWarning: The max_iter was reached which means the coef_ did not converge\n",
            "  warnings.warn(\n"
          ]
        },
        {
          "output_type": "stream",
          "name": "stdout",
          "text": [
            "[CV 6/10] END ...............C=1, max_iter=1000;, score=0.892 total time=  12.7s\n"
          ]
        },
        {
          "output_type": "stream",
          "name": "stderr",
          "text": [
            "/usr/local/lib/python3.10/dist-packages/sklearn/linear_model/_sag.py:350: ConvergenceWarning: The max_iter was reached which means the coef_ did not converge\n",
            "  warnings.warn(\n"
          ]
        },
        {
          "output_type": "stream",
          "name": "stdout",
          "text": [
            "[CV 7/10] END ...............C=1, max_iter=1000;, score=0.879 total time=   9.5s\n"
          ]
        },
        {
          "output_type": "stream",
          "name": "stderr",
          "text": [
            "/usr/local/lib/python3.10/dist-packages/sklearn/linear_model/_sag.py:350: ConvergenceWarning: The max_iter was reached which means the coef_ did not converge\n",
            "  warnings.warn(\n"
          ]
        },
        {
          "output_type": "stream",
          "name": "stdout",
          "text": [
            "[CV 8/10] END ...............C=1, max_iter=1000;, score=0.853 total time=  12.3s\n"
          ]
        },
        {
          "output_type": "stream",
          "name": "stderr",
          "text": [
            "/usr/local/lib/python3.10/dist-packages/sklearn/linear_model/_sag.py:350: ConvergenceWarning: The max_iter was reached which means the coef_ did not converge\n",
            "  warnings.warn(\n"
          ]
        },
        {
          "output_type": "stream",
          "name": "stdout",
          "text": [
            "[CV 9/10] END ...............C=1, max_iter=1000;, score=0.923 total time=  16.1s\n"
          ]
        },
        {
          "output_type": "stream",
          "name": "stderr",
          "text": [
            "/usr/local/lib/python3.10/dist-packages/sklearn/linear_model/_sag.py:350: ConvergenceWarning: The max_iter was reached which means the coef_ did not converge\n",
            "  warnings.warn(\n"
          ]
        },
        {
          "output_type": "stream",
          "name": "stdout",
          "text": [
            "[CV 10/10] END ..............C=1, max_iter=1000;, score=0.897 total time=  14.4s\n"
          ]
        },
        {
          "output_type": "stream",
          "name": "stderr",
          "text": [
            "/usr/local/lib/python3.10/dist-packages/sklearn/linear_model/_sag.py:350: ConvergenceWarning: The max_iter was reached which means the coef_ did not converge\n",
            "  warnings.warn(\n"
          ]
        },
        {
          "output_type": "stream",
          "name": "stdout",
          "text": [
            "[CV 1/10] END ..............C=10, max_iter=1000;, score=0.433 total time=  14.9s\n"
          ]
        },
        {
          "output_type": "stream",
          "name": "stderr",
          "text": [
            "/usr/local/lib/python3.10/dist-packages/sklearn/linear_model/_sag.py:350: ConvergenceWarning: The max_iter was reached which means the coef_ did not converge\n",
            "  warnings.warn(\n"
          ]
        },
        {
          "output_type": "stream",
          "name": "stdout",
          "text": [
            "[CV 2/10] END ..............C=10, max_iter=1000;, score=0.777 total time=  11.2s\n"
          ]
        },
        {
          "output_type": "stream",
          "name": "stderr",
          "text": [
            "/usr/local/lib/python3.10/dist-packages/sklearn/linear_model/_sag.py:350: ConvergenceWarning: The max_iter was reached which means the coef_ did not converge\n",
            "  warnings.warn(\n"
          ]
        },
        {
          "output_type": "stream",
          "name": "stdout",
          "text": [
            "[CV 3/10] END ..............C=10, max_iter=1000;, score=0.885 total time=  13.7s\n"
          ]
        },
        {
          "output_type": "stream",
          "name": "stderr",
          "text": [
            "/usr/local/lib/python3.10/dist-packages/sklearn/linear_model/_sag.py:350: ConvergenceWarning: The max_iter was reached which means the coef_ did not converge\n",
            "  warnings.warn(\n"
          ]
        },
        {
          "output_type": "stream",
          "name": "stdout",
          "text": [
            "[CV 4/10] END ..............C=10, max_iter=1000;, score=0.892 total time=  13.7s\n"
          ]
        },
        {
          "output_type": "stream",
          "name": "stderr",
          "text": [
            "/usr/local/lib/python3.10/dist-packages/sklearn/linear_model/_sag.py:350: ConvergenceWarning: The max_iter was reached which means the coef_ did not converge\n",
            "  warnings.warn(\n"
          ]
        },
        {
          "output_type": "stream",
          "name": "stdout",
          "text": [
            "[CV 5/10] END ..............C=10, max_iter=1000;, score=0.898 total time=  11.3s\n"
          ]
        },
        {
          "output_type": "stream",
          "name": "stderr",
          "text": [
            "/usr/local/lib/python3.10/dist-packages/sklearn/linear_model/_sag.py:350: ConvergenceWarning: The max_iter was reached which means the coef_ did not converge\n",
            "  warnings.warn(\n"
          ]
        },
        {
          "output_type": "stream",
          "name": "stdout",
          "text": [
            "[CV 6/10] END ..............C=10, max_iter=1000;, score=0.892 total time=   9.4s\n"
          ]
        },
        {
          "output_type": "stream",
          "name": "stderr",
          "text": [
            "/usr/local/lib/python3.10/dist-packages/sklearn/linear_model/_sag.py:350: ConvergenceWarning: The max_iter was reached which means the coef_ did not converge\n",
            "  warnings.warn(\n"
          ]
        },
        {
          "output_type": "stream",
          "name": "stdout",
          "text": [
            "[CV 7/10] END ..............C=10, max_iter=1000;, score=0.879 total time=  11.2s\n"
          ]
        },
        {
          "output_type": "stream",
          "name": "stderr",
          "text": [
            "/usr/local/lib/python3.10/dist-packages/sklearn/linear_model/_sag.py:350: ConvergenceWarning: The max_iter was reached which means the coef_ did not converge\n",
            "  warnings.warn(\n"
          ]
        },
        {
          "output_type": "stream",
          "name": "stdout",
          "text": [
            "[CV 8/10] END ..............C=10, max_iter=1000;, score=0.853 total time=  11.1s\n"
          ]
        },
        {
          "output_type": "stream",
          "name": "stderr",
          "text": [
            "/usr/local/lib/python3.10/dist-packages/sklearn/linear_model/_sag.py:350: ConvergenceWarning: The max_iter was reached which means the coef_ did not converge\n",
            "  warnings.warn(\n"
          ]
        },
        {
          "output_type": "stream",
          "name": "stdout",
          "text": [
            "[CV 9/10] END ..............C=10, max_iter=1000;, score=0.923 total time=  10.3s\n"
          ]
        },
        {
          "output_type": "stream",
          "name": "stderr",
          "text": [
            "/usr/local/lib/python3.10/dist-packages/sklearn/linear_model/_sag.py:350: ConvergenceWarning: The max_iter was reached which means the coef_ did not converge\n",
            "  warnings.warn(\n"
          ]
        },
        {
          "output_type": "stream",
          "name": "stdout",
          "text": [
            "[CV 10/10] END .............C=10, max_iter=1000;, score=0.878 total time=  10.0s\n"
          ]
        },
        {
          "output_type": "stream",
          "name": "stderr",
          "text": [
            "/usr/local/lib/python3.10/dist-packages/sklearn/linear_model/_sag.py:350: ConvergenceWarning: The max_iter was reached which means the coef_ did not converge\n",
            "  warnings.warn(\n"
          ]
        },
        {
          "output_type": "stream",
          "name": "stdout",
          "text": [
            "[CV 1/10] END .............C=100, max_iter=1000;, score=0.433 total time=  11.2s\n"
          ]
        },
        {
          "output_type": "stream",
          "name": "stderr",
          "text": [
            "/usr/local/lib/python3.10/dist-packages/sklearn/linear_model/_sag.py:350: ConvergenceWarning: The max_iter was reached which means the coef_ did not converge\n",
            "  warnings.warn(\n"
          ]
        },
        {
          "output_type": "stream",
          "name": "stdout",
          "text": [
            "[CV 2/10] END .............C=100, max_iter=1000;, score=0.777 total time=  11.2s\n"
          ]
        },
        {
          "output_type": "stream",
          "name": "stderr",
          "text": [
            "/usr/local/lib/python3.10/dist-packages/sklearn/linear_model/_sag.py:350: ConvergenceWarning: The max_iter was reached which means the coef_ did not converge\n",
            "  warnings.warn(\n"
          ]
        },
        {
          "output_type": "stream",
          "name": "stdout",
          "text": [
            "[CV 3/10] END .............C=100, max_iter=1000;, score=0.885 total time=   9.9s\n"
          ]
        },
        {
          "output_type": "stream",
          "name": "stderr",
          "text": [
            "/usr/local/lib/python3.10/dist-packages/sklearn/linear_model/_sag.py:350: ConvergenceWarning: The max_iter was reached which means the coef_ did not converge\n",
            "  warnings.warn(\n"
          ]
        },
        {
          "output_type": "stream",
          "name": "stdout",
          "text": [
            "[CV 4/10] END .............C=100, max_iter=1000;, score=0.892 total time=  10.6s\n"
          ]
        },
        {
          "output_type": "stream",
          "name": "stderr",
          "text": [
            "/usr/local/lib/python3.10/dist-packages/sklearn/linear_model/_sag.py:350: ConvergenceWarning: The max_iter was reached which means the coef_ did not converge\n",
            "  warnings.warn(\n"
          ]
        },
        {
          "output_type": "stream",
          "name": "stdout",
          "text": [
            "[CV 5/10] END .............C=100, max_iter=1000;, score=0.898 total time=  11.2s\n"
          ]
        },
        {
          "output_type": "stream",
          "name": "stderr",
          "text": [
            "/usr/local/lib/python3.10/dist-packages/sklearn/linear_model/_sag.py:350: ConvergenceWarning: The max_iter was reached which means the coef_ did not converge\n",
            "  warnings.warn(\n"
          ]
        },
        {
          "output_type": "stream",
          "name": "stdout",
          "text": [
            "[CV 6/10] END .............C=100, max_iter=1000;, score=0.892 total time=  11.1s\n"
          ]
        },
        {
          "output_type": "stream",
          "name": "stderr",
          "text": [
            "/usr/local/lib/python3.10/dist-packages/sklearn/linear_model/_sag.py:350: ConvergenceWarning: The max_iter was reached which means the coef_ did not converge\n",
            "  warnings.warn(\n"
          ]
        },
        {
          "output_type": "stream",
          "name": "stdout",
          "text": [
            "[CV 7/10] END .............C=100, max_iter=1000;, score=0.879 total time=   9.4s\n"
          ]
        },
        {
          "output_type": "stream",
          "name": "stderr",
          "text": [
            "/usr/local/lib/python3.10/dist-packages/sklearn/linear_model/_sag.py:350: ConvergenceWarning: The max_iter was reached which means the coef_ did not converge\n",
            "  warnings.warn(\n"
          ]
        },
        {
          "output_type": "stream",
          "name": "stdout",
          "text": [
            "[CV 8/10] END .............C=100, max_iter=1000;, score=0.853 total time=  11.1s\n"
          ]
        },
        {
          "output_type": "stream",
          "name": "stderr",
          "text": [
            "/usr/local/lib/python3.10/dist-packages/sklearn/linear_model/_sag.py:350: ConvergenceWarning: The max_iter was reached which means the coef_ did not converge\n",
            "  warnings.warn(\n"
          ]
        },
        {
          "output_type": "stream",
          "name": "stdout",
          "text": [
            "[CV 9/10] END .............C=100, max_iter=1000;, score=0.923 total time=  11.2s\n"
          ]
        },
        {
          "output_type": "stream",
          "name": "stderr",
          "text": [
            "/usr/local/lib/python3.10/dist-packages/sklearn/linear_model/_sag.py:350: ConvergenceWarning: The max_iter was reached which means the coef_ did not converge\n",
            "  warnings.warn(\n"
          ]
        },
        {
          "output_type": "stream",
          "name": "stdout",
          "text": [
            "[CV 10/10] END ............C=100, max_iter=1000;, score=0.878 total time=  11.2s\n"
          ]
        },
        {
          "output_type": "stream",
          "name": "stderr",
          "text": [
            "/usr/local/lib/python3.10/dist-packages/sklearn/linear_model/_sag.py:350: ConvergenceWarning: The max_iter was reached which means the coef_ did not converge\n",
            "  warnings.warn(\n"
          ]
        },
        {
          "output_type": "execute_result",
          "data": {
            "text/plain": [
              "GridSearchCV(cv=10,\n",
              "             estimator=LogisticRegression(C=0.01, max_iter=1500, solver='saga'),\n",
              "             param_grid={'C': [0.1, 1, 10, 100], 'max_iter': [1000]},\n",
              "             verbose=3)"
            ],
            "text/html": [
              "<style>#sk-container-id-8 {color: black;background-color: white;}#sk-container-id-8 pre{padding: 0;}#sk-container-id-8 div.sk-toggleable {background-color: white;}#sk-container-id-8 label.sk-toggleable__label {cursor: pointer;display: block;width: 100%;margin-bottom: 0;padding: 0.3em;box-sizing: border-box;text-align: center;}#sk-container-id-8 label.sk-toggleable__label-arrow:before {content: \"▸\";float: left;margin-right: 0.25em;color: #696969;}#sk-container-id-8 label.sk-toggleable__label-arrow:hover:before {color: black;}#sk-container-id-8 div.sk-estimator:hover label.sk-toggleable__label-arrow:before {color: black;}#sk-container-id-8 div.sk-toggleable__content {max-height: 0;max-width: 0;overflow: hidden;text-align: left;background-color: #f0f8ff;}#sk-container-id-8 div.sk-toggleable__content pre {margin: 0.2em;color: black;border-radius: 0.25em;background-color: #f0f8ff;}#sk-container-id-8 input.sk-toggleable__control:checked~div.sk-toggleable__content {max-height: 200px;max-width: 100%;overflow: auto;}#sk-container-id-8 input.sk-toggleable__control:checked~label.sk-toggleable__label-arrow:before {content: \"▾\";}#sk-container-id-8 div.sk-estimator input.sk-toggleable__control:checked~label.sk-toggleable__label {background-color: #d4ebff;}#sk-container-id-8 div.sk-label input.sk-toggleable__control:checked~label.sk-toggleable__label {background-color: #d4ebff;}#sk-container-id-8 input.sk-hidden--visually {border: 0;clip: rect(1px 1px 1px 1px);clip: rect(1px, 1px, 1px, 1px);height: 1px;margin: -1px;overflow: hidden;padding: 0;position: absolute;width: 1px;}#sk-container-id-8 div.sk-estimator {font-family: monospace;background-color: #f0f8ff;border: 1px dotted black;border-radius: 0.25em;box-sizing: border-box;margin-bottom: 0.5em;}#sk-container-id-8 div.sk-estimator:hover {background-color: #d4ebff;}#sk-container-id-8 div.sk-parallel-item::after {content: \"\";width: 100%;border-bottom: 1px solid gray;flex-grow: 1;}#sk-container-id-8 div.sk-label:hover label.sk-toggleable__label {background-color: #d4ebff;}#sk-container-id-8 div.sk-serial::before {content: \"\";position: absolute;border-left: 1px solid gray;box-sizing: border-box;top: 0;bottom: 0;left: 50%;z-index: 0;}#sk-container-id-8 div.sk-serial {display: flex;flex-direction: column;align-items: center;background-color: white;padding-right: 0.2em;padding-left: 0.2em;position: relative;}#sk-container-id-8 div.sk-item {position: relative;z-index: 1;}#sk-container-id-8 div.sk-parallel {display: flex;align-items: stretch;justify-content: center;background-color: white;position: relative;}#sk-container-id-8 div.sk-item::before, #sk-container-id-8 div.sk-parallel-item::before {content: \"\";position: absolute;border-left: 1px solid gray;box-sizing: border-box;top: 0;bottom: 0;left: 50%;z-index: -1;}#sk-container-id-8 div.sk-parallel-item {display: flex;flex-direction: column;z-index: 1;position: relative;background-color: white;}#sk-container-id-8 div.sk-parallel-item:first-child::after {align-self: flex-end;width: 50%;}#sk-container-id-8 div.sk-parallel-item:last-child::after {align-self: flex-start;width: 50%;}#sk-container-id-8 div.sk-parallel-item:only-child::after {width: 0;}#sk-container-id-8 div.sk-dashed-wrapped {border: 1px dashed gray;margin: 0 0.4em 0.5em 0.4em;box-sizing: border-box;padding-bottom: 0.4em;background-color: white;}#sk-container-id-8 div.sk-label label {font-family: monospace;font-weight: bold;display: inline-block;line-height: 1.2em;}#sk-container-id-8 div.sk-label-container {text-align: center;}#sk-container-id-8 div.sk-container {/* jupyter's `normalize.less` sets `[hidden] { display: none; }` but bootstrap.min.css set `[hidden] { display: none !important; }` so we also need the `!important` here to be able to override the default hidden behavior on the sphinx rendered scikit-learn.org. See: https://github.com/scikit-learn/scikit-learn/issues/21755 */display: inline-block !important;position: relative;}#sk-container-id-8 div.sk-text-repr-fallback {display: none;}</style><div id=\"sk-container-id-8\" class=\"sk-top-container\"><div class=\"sk-text-repr-fallback\"><pre>GridSearchCV(cv=10,\n",
              "             estimator=LogisticRegression(C=0.01, max_iter=1500, solver=&#x27;saga&#x27;),\n",
              "             param_grid={&#x27;C&#x27;: [0.1, 1, 10, 100], &#x27;max_iter&#x27;: [1000]},\n",
              "             verbose=3)</pre><b>In a Jupyter environment, please rerun this cell to show the HTML representation or trust the notebook. <br />On GitHub, the HTML representation is unable to render, please try loading this page with nbviewer.org.</b></div><div class=\"sk-container\" hidden><div class=\"sk-item sk-dashed-wrapped\"><div class=\"sk-label-container\"><div class=\"sk-label sk-toggleable\"><input class=\"sk-toggleable__control sk-hidden--visually\" id=\"sk-estimator-id-10\" type=\"checkbox\" ><label for=\"sk-estimator-id-10\" class=\"sk-toggleable__label sk-toggleable__label-arrow\">GridSearchCV</label><div class=\"sk-toggleable__content\"><pre>GridSearchCV(cv=10,\n",
              "             estimator=LogisticRegression(C=0.01, max_iter=1500, solver=&#x27;saga&#x27;),\n",
              "             param_grid={&#x27;C&#x27;: [0.1, 1, 10, 100], &#x27;max_iter&#x27;: [1000]},\n",
              "             verbose=3)</pre></div></div></div><div class=\"sk-parallel\"><div class=\"sk-parallel-item\"><div class=\"sk-item\"><div class=\"sk-label-container\"><div class=\"sk-label sk-toggleable\"><input class=\"sk-toggleable__control sk-hidden--visually\" id=\"sk-estimator-id-11\" type=\"checkbox\" ><label for=\"sk-estimator-id-11\" class=\"sk-toggleable__label sk-toggleable__label-arrow\">estimator: LogisticRegression</label><div class=\"sk-toggleable__content\"><pre>LogisticRegression(C=0.01, max_iter=1500, solver=&#x27;saga&#x27;)</pre></div></div></div><div class=\"sk-serial\"><div class=\"sk-item\"><div class=\"sk-estimator sk-toggleable\"><input class=\"sk-toggleable__control sk-hidden--visually\" id=\"sk-estimator-id-12\" type=\"checkbox\" ><label for=\"sk-estimator-id-12\" class=\"sk-toggleable__label sk-toggleable__label-arrow\">LogisticRegression</label><div class=\"sk-toggleable__content\"><pre>LogisticRegression(C=0.01, max_iter=1500, solver=&#x27;saga&#x27;)</pre></div></div></div></div></div></div></div></div></div></div>"
            ]
          },
          "metadata": {},
          "execution_count": 125
        }
      ]
    },
    {
      "cell_type": "code",
      "source": [
        "print(gs.best_params_)"
      ],
      "metadata": {
        "colab": {
          "base_uri": "https://localhost:8080/"
        },
        "id": "lGcHsvBZ8Eae",
        "outputId": "c34611aa-de1c-4630-ce53-4e1e90b58426"
      },
      "execution_count": 131,
      "outputs": [
        {
          "output_type": "stream",
          "name": "stdout",
          "text": [
            "{'C': 0.1, 'max_iter': 1000}\n"
          ]
        }
      ]
    },
    {
      "cell_type": "code",
      "source": [
        "print(gs.best_estimator_)"
      ],
      "metadata": {
        "colab": {
          "base_uri": "https://localhost:8080/"
        },
        "id": "95X-ukr-8Jny",
        "outputId": "59b8b079-03ee-4812-e769-3273c2807735"
      },
      "execution_count": 55,
      "outputs": [
        {
          "output_type": "stream",
          "name": "stdout",
          "text": [
            "LogisticRegression(C=0.1, max_iter=400, solver='saga')\n"
          ]
        }
      ]
    },
    {
      "cell_type": "code",
      "source": [
        "gs.cv_results_['params']"
      ],
      "metadata": {
        "colab": {
          "base_uri": "https://localhost:8080/"
        },
        "id": "KzDOumjG8NP0",
        "outputId": "d6f9bb9c-9193-46a6-8453-d93932d39755"
      },
      "execution_count": 56,
      "outputs": [
        {
          "output_type": "execute_result",
          "data": {
            "text/plain": [
              "[{'C': 0.1, 'max_iter': 400},\n",
              " {'C': 1, 'max_iter': 400},\n",
              " {'C': 10, 'max_iter': 400},\n",
              " {'C': 100, 'max_iter': 400}]"
            ]
          },
          "metadata": {},
          "execution_count": 56
        }
      ]
    },
    {
      "cell_type": "code",
      "source": [
        "gs.cv_results_['mean_test_score']"
      ],
      "metadata": {
        "colab": {
          "base_uri": "https://localhost:8080/"
        },
        "id": "Clf7Wt5M8RHu",
        "outputId": "ed483d66-08b8-4a23-b61e-655a94d32092"
      },
      "execution_count": 57,
      "outputs": [
        {
          "output_type": "execute_result",
          "data": {
            "text/plain": [
              "array([0.85140862, 0.83610975, 0.8316389 , 0.8316389 ])"
            ]
          },
          "metadata": {},
          "execution_count": 57
        }
      ]
    },
    {
      "cell_type": "markdown",
      "source": [
        "Q5 D - Use any other technique/method which can enhance the model performance."
      ],
      "metadata": {
        "id": "UV4igf_p8bU-"
      }
    },
    {
      "cell_type": "code",
      "source": [
        "# using pca\n",
        "covMatrix = np.cov(normalized_x, rowvar=False)\n",
        "pd.DataFrame(covMatrix)"
      ],
      "metadata": {
        "colab": {
          "base_uri": "https://localhost:8080/",
          "height": 443
        },
        "id": "GAzApy8a86f4",
        "outputId": "0e0daf18-9e84-4feb-e31b-10cf86ebfdaf"
      },
      "execution_count": 58,
      "outputs": [
        {
          "output_type": "execute_result",
          "data": {
            "text/plain": [
              "          0         1         2         3         4         5         6    \\\n",
              "0    1.000639 -0.143930  0.004765 -0.007618 -0.011021  0.002279  0.035817   \n",
              "1   -0.143930  1.000639  0.005763 -0.007573 -0.001637 -0.025592 -0.021942   \n",
              "2    0.004765  0.005763  1.000639  0.299126  0.095952 -0.136312 -0.144464   \n",
              "3   -0.007618 -0.007573  0.299126  1.000639 -0.058521 -0.686273  0.075307   \n",
              "4   -0.011021 -0.001637  0.095952 -0.058521  1.000639 -0.074415 -0.402706   \n",
              "..        ...       ...       ...       ...       ...       ...       ...   \n",
              "469  0.023596  0.002277  0.015763  0.026033 -0.001617 -0.039536  0.006708   \n",
              "470  0.018187 -0.010342 -0.025001  0.034662 -0.043859 -0.040567  0.059805   \n",
              "471 -0.026137  0.016242 -0.028810 -0.039153 -0.030929  0.034683 -0.019148   \n",
              "472 -0.028418  0.009112 -0.030292 -0.033670 -0.026029  0.032875 -0.020727   \n",
              "473  0.004176  0.044824 -0.032915 -0.080392  0.050943  0.043800 -0.104068   \n",
              "\n",
              "          7         8         9    ...       464       465       466  \\\n",
              "0   -0.053105  0.009000  0.006523  ... -0.092342 -0.017158  0.000249   \n",
              "1    0.030627  0.023908  0.009670  ...  0.052212  0.054050  0.043576   \n",
              "2    0.023546  0.016171  0.069937  ...  0.040554 -0.007040 -0.006035   \n",
              "3   -0.102041  0.068358  0.049876  ...  0.029379 -0.071336  0.009001   \n",
              "4   -0.025992  0.054237 -0.006473  ...  0.025669  0.088243  0.045111   \n",
              "..        ...       ...       ...  ...       ...       ...       ...   \n",
              "469  0.017988 -0.036118  0.039457  ...  0.007884 -0.000468 -0.197489   \n",
              "470  0.009565  0.032443  0.000759  ...  0.097598 -0.283238 -0.016855   \n",
              "471  0.021925  0.057893  0.047408  ...  0.425961  0.272284 -0.024584   \n",
              "472  0.025236  0.059359  0.046488  ...  0.432484  0.258640 -0.020818   \n",
              "473 -0.022843  0.004876  0.008401  ...  0.120260  0.585657  0.041526   \n",
              "\n",
              "          467       468       469       470       471       472       473  \n",
              "0    0.024261  0.020839  0.023596  0.018187 -0.026137 -0.028418  0.004176  \n",
              "1    0.002583 -0.001638  0.002277 -0.010342  0.016242  0.009112  0.044824  \n",
              "2    0.015561  0.018066  0.015763 -0.025001 -0.028810 -0.030292 -0.032915  \n",
              "3    0.025697  0.025035  0.026033  0.034662 -0.039153 -0.033670 -0.080392  \n",
              "4   -0.001274 -0.001567 -0.001617 -0.043859 -0.030929 -0.026029  0.050943  \n",
              "..        ...       ...       ...       ...       ...       ...       ...  \n",
              "469  1.000269  0.995632  1.000639  0.002962 -0.002699 -0.002303 -0.003807  \n",
              "470  0.002392  0.001603  0.002962  1.000639  0.169742  0.166048 -0.486402  \n",
              "471 -0.001810 -0.001697 -0.002699  0.169742  1.000639  0.974954  0.390626  \n",
              "472 -0.001446 -0.001182 -0.002303  0.166048  0.974954  1.000639  0.389038  \n",
              "473 -0.002595 -0.002815 -0.003807 -0.486402  0.390626  0.389038  1.000639  \n",
              "\n",
              "[474 rows x 474 columns]"
            ],
            "text/html": [
              "\n",
              "  <div id=\"df-fa85dd79-950b-4521-8d00-ab94884d3a3d\" class=\"colab-df-container\">\n",
              "    <div>\n",
              "<style scoped>\n",
              "    .dataframe tbody tr th:only-of-type {\n",
              "        vertical-align: middle;\n",
              "    }\n",
              "\n",
              "    .dataframe tbody tr th {\n",
              "        vertical-align: top;\n",
              "    }\n",
              "\n",
              "    .dataframe thead th {\n",
              "        text-align: right;\n",
              "    }\n",
              "</style>\n",
              "<table border=\"1\" class=\"dataframe\">\n",
              "  <thead>\n",
              "    <tr style=\"text-align: right;\">\n",
              "      <th></th>\n",
              "      <th>0</th>\n",
              "      <th>1</th>\n",
              "      <th>2</th>\n",
              "      <th>3</th>\n",
              "      <th>4</th>\n",
              "      <th>5</th>\n",
              "      <th>6</th>\n",
              "      <th>7</th>\n",
              "      <th>8</th>\n",
              "      <th>9</th>\n",
              "      <th>...</th>\n",
              "      <th>464</th>\n",
              "      <th>465</th>\n",
              "      <th>466</th>\n",
              "      <th>467</th>\n",
              "      <th>468</th>\n",
              "      <th>469</th>\n",
              "      <th>470</th>\n",
              "      <th>471</th>\n",
              "      <th>472</th>\n",
              "      <th>473</th>\n",
              "    </tr>\n",
              "  </thead>\n",
              "  <tbody>\n",
              "    <tr>\n",
              "      <th>0</th>\n",
              "      <td>1.000639</td>\n",
              "      <td>-0.143930</td>\n",
              "      <td>0.004765</td>\n",
              "      <td>-0.007618</td>\n",
              "      <td>-0.011021</td>\n",
              "      <td>0.002279</td>\n",
              "      <td>0.035817</td>\n",
              "      <td>-0.053105</td>\n",
              "      <td>0.009000</td>\n",
              "      <td>0.006523</td>\n",
              "      <td>...</td>\n",
              "      <td>-0.092342</td>\n",
              "      <td>-0.017158</td>\n",
              "      <td>0.000249</td>\n",
              "      <td>0.024261</td>\n",
              "      <td>0.020839</td>\n",
              "      <td>0.023596</td>\n",
              "      <td>0.018187</td>\n",
              "      <td>-0.026137</td>\n",
              "      <td>-0.028418</td>\n",
              "      <td>0.004176</td>\n",
              "    </tr>\n",
              "    <tr>\n",
              "      <th>1</th>\n",
              "      <td>-0.143930</td>\n",
              "      <td>1.000639</td>\n",
              "      <td>0.005763</td>\n",
              "      <td>-0.007573</td>\n",
              "      <td>-0.001637</td>\n",
              "      <td>-0.025592</td>\n",
              "      <td>-0.021942</td>\n",
              "      <td>0.030627</td>\n",
              "      <td>0.023908</td>\n",
              "      <td>0.009670</td>\n",
              "      <td>...</td>\n",
              "      <td>0.052212</td>\n",
              "      <td>0.054050</td>\n",
              "      <td>0.043576</td>\n",
              "      <td>0.002583</td>\n",
              "      <td>-0.001638</td>\n",
              "      <td>0.002277</td>\n",
              "      <td>-0.010342</td>\n",
              "      <td>0.016242</td>\n",
              "      <td>0.009112</td>\n",
              "      <td>0.044824</td>\n",
              "    </tr>\n",
              "    <tr>\n",
              "      <th>2</th>\n",
              "      <td>0.004765</td>\n",
              "      <td>0.005763</td>\n",
              "      <td>1.000639</td>\n",
              "      <td>0.299126</td>\n",
              "      <td>0.095952</td>\n",
              "      <td>-0.136312</td>\n",
              "      <td>-0.144464</td>\n",
              "      <td>0.023546</td>\n",
              "      <td>0.016171</td>\n",
              "      <td>0.069937</td>\n",
              "      <td>...</td>\n",
              "      <td>0.040554</td>\n",
              "      <td>-0.007040</td>\n",
              "      <td>-0.006035</td>\n",
              "      <td>0.015561</td>\n",
              "      <td>0.018066</td>\n",
              "      <td>0.015763</td>\n",
              "      <td>-0.025001</td>\n",
              "      <td>-0.028810</td>\n",
              "      <td>-0.030292</td>\n",
              "      <td>-0.032915</td>\n",
              "    </tr>\n",
              "    <tr>\n",
              "      <th>3</th>\n",
              "      <td>-0.007618</td>\n",
              "      <td>-0.007573</td>\n",
              "      <td>0.299126</td>\n",
              "      <td>1.000639</td>\n",
              "      <td>-0.058521</td>\n",
              "      <td>-0.686273</td>\n",
              "      <td>0.075307</td>\n",
              "      <td>-0.102041</td>\n",
              "      <td>0.068358</td>\n",
              "      <td>0.049876</td>\n",
              "      <td>...</td>\n",
              "      <td>0.029379</td>\n",
              "      <td>-0.071336</td>\n",
              "      <td>0.009001</td>\n",
              "      <td>0.025697</td>\n",
              "      <td>0.025035</td>\n",
              "      <td>0.026033</td>\n",
              "      <td>0.034662</td>\n",
              "      <td>-0.039153</td>\n",
              "      <td>-0.033670</td>\n",
              "      <td>-0.080392</td>\n",
              "    </tr>\n",
              "    <tr>\n",
              "      <th>4</th>\n",
              "      <td>-0.011021</td>\n",
              "      <td>-0.001637</td>\n",
              "      <td>0.095952</td>\n",
              "      <td>-0.058521</td>\n",
              "      <td>1.000639</td>\n",
              "      <td>-0.074415</td>\n",
              "      <td>-0.402706</td>\n",
              "      <td>-0.025992</td>\n",
              "      <td>0.054237</td>\n",
              "      <td>-0.006473</td>\n",
              "      <td>...</td>\n",
              "      <td>0.025669</td>\n",
              "      <td>0.088243</td>\n",
              "      <td>0.045111</td>\n",
              "      <td>-0.001274</td>\n",
              "      <td>-0.001567</td>\n",
              "      <td>-0.001617</td>\n",
              "      <td>-0.043859</td>\n",
              "      <td>-0.030929</td>\n",
              "      <td>-0.026029</td>\n",
              "      <td>0.050943</td>\n",
              "    </tr>\n",
              "    <tr>\n",
              "      <th>...</th>\n",
              "      <td>...</td>\n",
              "      <td>...</td>\n",
              "      <td>...</td>\n",
              "      <td>...</td>\n",
              "      <td>...</td>\n",
              "      <td>...</td>\n",
              "      <td>...</td>\n",
              "      <td>...</td>\n",
              "      <td>...</td>\n",
              "      <td>...</td>\n",
              "      <td>...</td>\n",
              "      <td>...</td>\n",
              "      <td>...</td>\n",
              "      <td>...</td>\n",
              "      <td>...</td>\n",
              "      <td>...</td>\n",
              "      <td>...</td>\n",
              "      <td>...</td>\n",
              "      <td>...</td>\n",
              "      <td>...</td>\n",
              "      <td>...</td>\n",
              "    </tr>\n",
              "    <tr>\n",
              "      <th>469</th>\n",
              "      <td>0.023596</td>\n",
              "      <td>0.002277</td>\n",
              "      <td>0.015763</td>\n",
              "      <td>0.026033</td>\n",
              "      <td>-0.001617</td>\n",
              "      <td>-0.039536</td>\n",
              "      <td>0.006708</td>\n",
              "      <td>0.017988</td>\n",
              "      <td>-0.036118</td>\n",
              "      <td>0.039457</td>\n",
              "      <td>...</td>\n",
              "      <td>0.007884</td>\n",
              "      <td>-0.000468</td>\n",
              "      <td>-0.197489</td>\n",
              "      <td>1.000269</td>\n",
              "      <td>0.995632</td>\n",
              "      <td>1.000639</td>\n",
              "      <td>0.002962</td>\n",
              "      <td>-0.002699</td>\n",
              "      <td>-0.002303</td>\n",
              "      <td>-0.003807</td>\n",
              "    </tr>\n",
              "    <tr>\n",
              "      <th>470</th>\n",
              "      <td>0.018187</td>\n",
              "      <td>-0.010342</td>\n",
              "      <td>-0.025001</td>\n",
              "      <td>0.034662</td>\n",
              "      <td>-0.043859</td>\n",
              "      <td>-0.040567</td>\n",
              "      <td>0.059805</td>\n",
              "      <td>0.009565</td>\n",
              "      <td>0.032443</td>\n",
              "      <td>0.000759</td>\n",
              "      <td>...</td>\n",
              "      <td>0.097598</td>\n",
              "      <td>-0.283238</td>\n",
              "      <td>-0.016855</td>\n",
              "      <td>0.002392</td>\n",
              "      <td>0.001603</td>\n",
              "      <td>0.002962</td>\n",
              "      <td>1.000639</td>\n",
              "      <td>0.169742</td>\n",
              "      <td>0.166048</td>\n",
              "      <td>-0.486402</td>\n",
              "    </tr>\n",
              "    <tr>\n",
              "      <th>471</th>\n",
              "      <td>-0.026137</td>\n",
              "      <td>0.016242</td>\n",
              "      <td>-0.028810</td>\n",
              "      <td>-0.039153</td>\n",
              "      <td>-0.030929</td>\n",
              "      <td>0.034683</td>\n",
              "      <td>-0.019148</td>\n",
              "      <td>0.021925</td>\n",
              "      <td>0.057893</td>\n",
              "      <td>0.047408</td>\n",
              "      <td>...</td>\n",
              "      <td>0.425961</td>\n",
              "      <td>0.272284</td>\n",
              "      <td>-0.024584</td>\n",
              "      <td>-0.001810</td>\n",
              "      <td>-0.001697</td>\n",
              "      <td>-0.002699</td>\n",
              "      <td>0.169742</td>\n",
              "      <td>1.000639</td>\n",
              "      <td>0.974954</td>\n",
              "      <td>0.390626</td>\n",
              "    </tr>\n",
              "    <tr>\n",
              "      <th>472</th>\n",
              "      <td>-0.028418</td>\n",
              "      <td>0.009112</td>\n",
              "      <td>-0.030292</td>\n",
              "      <td>-0.033670</td>\n",
              "      <td>-0.026029</td>\n",
              "      <td>0.032875</td>\n",
              "      <td>-0.020727</td>\n",
              "      <td>0.025236</td>\n",
              "      <td>0.059359</td>\n",
              "      <td>0.046488</td>\n",
              "      <td>...</td>\n",
              "      <td>0.432484</td>\n",
              "      <td>0.258640</td>\n",
              "      <td>-0.020818</td>\n",
              "      <td>-0.001446</td>\n",
              "      <td>-0.001182</td>\n",
              "      <td>-0.002303</td>\n",
              "      <td>0.166048</td>\n",
              "      <td>0.974954</td>\n",
              "      <td>1.000639</td>\n",
              "      <td>0.389038</td>\n",
              "    </tr>\n",
              "    <tr>\n",
              "      <th>473</th>\n",
              "      <td>0.004176</td>\n",
              "      <td>0.044824</td>\n",
              "      <td>-0.032915</td>\n",
              "      <td>-0.080392</td>\n",
              "      <td>0.050943</td>\n",
              "      <td>0.043800</td>\n",
              "      <td>-0.104068</td>\n",
              "      <td>-0.022843</td>\n",
              "      <td>0.004876</td>\n",
              "      <td>0.008401</td>\n",
              "      <td>...</td>\n",
              "      <td>0.120260</td>\n",
              "      <td>0.585657</td>\n",
              "      <td>0.041526</td>\n",
              "      <td>-0.002595</td>\n",
              "      <td>-0.002815</td>\n",
              "      <td>-0.003807</td>\n",
              "      <td>-0.486402</td>\n",
              "      <td>0.390626</td>\n",
              "      <td>0.389038</td>\n",
              "      <td>1.000639</td>\n",
              "    </tr>\n",
              "  </tbody>\n",
              "</table>\n",
              "<p>474 rows × 474 columns</p>\n",
              "</div>\n",
              "    <div class=\"colab-df-buttons\">\n",
              "\n",
              "  <div class=\"colab-df-container\">\n",
              "    <button class=\"colab-df-convert\" onclick=\"convertToInteractive('df-fa85dd79-950b-4521-8d00-ab94884d3a3d')\"\n",
              "            title=\"Convert this dataframe to an interactive table.\"\n",
              "            style=\"display:none;\">\n",
              "\n",
              "  <svg xmlns=\"http://www.w3.org/2000/svg\" height=\"24px\" viewBox=\"0 -960 960 960\">\n",
              "    <path d=\"M120-120v-720h720v720H120Zm60-500h600v-160H180v160Zm220 220h160v-160H400v160Zm0 220h160v-160H400v160ZM180-400h160v-160H180v160Zm440 0h160v-160H620v160ZM180-180h160v-160H180v160Zm440 0h160v-160H620v160Z\"/>\n",
              "  </svg>\n",
              "    </button>\n",
              "\n",
              "  <style>\n",
              "    .colab-df-container {\n",
              "      display:flex;\n",
              "      gap: 12px;\n",
              "    }\n",
              "\n",
              "    .colab-df-convert {\n",
              "      background-color: #E8F0FE;\n",
              "      border: none;\n",
              "      border-radius: 50%;\n",
              "      cursor: pointer;\n",
              "      display: none;\n",
              "      fill: #1967D2;\n",
              "      height: 32px;\n",
              "      padding: 0 0 0 0;\n",
              "      width: 32px;\n",
              "    }\n",
              "\n",
              "    .colab-df-convert:hover {\n",
              "      background-color: #E2EBFA;\n",
              "      box-shadow: 0px 1px 2px rgba(60, 64, 67, 0.3), 0px 1px 3px 1px rgba(60, 64, 67, 0.15);\n",
              "      fill: #174EA6;\n",
              "    }\n",
              "\n",
              "    .colab-df-buttons div {\n",
              "      margin-bottom: 4px;\n",
              "    }\n",
              "\n",
              "    [theme=dark] .colab-df-convert {\n",
              "      background-color: #3B4455;\n",
              "      fill: #D2E3FC;\n",
              "    }\n",
              "\n",
              "    [theme=dark] .colab-df-convert:hover {\n",
              "      background-color: #434B5C;\n",
              "      box-shadow: 0px 1px 3px 1px rgba(0, 0, 0, 0.15);\n",
              "      filter: drop-shadow(0px 1px 2px rgba(0, 0, 0, 0.3));\n",
              "      fill: #FFFFFF;\n",
              "    }\n",
              "  </style>\n",
              "\n",
              "    <script>\n",
              "      const buttonEl =\n",
              "        document.querySelector('#df-fa85dd79-950b-4521-8d00-ab94884d3a3d button.colab-df-convert');\n",
              "      buttonEl.style.display =\n",
              "        google.colab.kernel.accessAllowed ? 'block' : 'none';\n",
              "\n",
              "      async function convertToInteractive(key) {\n",
              "        const element = document.querySelector('#df-fa85dd79-950b-4521-8d00-ab94884d3a3d');\n",
              "        const dataTable =\n",
              "          await google.colab.kernel.invokeFunction('convertToInteractive',\n",
              "                                                    [key], {});\n",
              "        if (!dataTable) return;\n",
              "\n",
              "        const docLinkHtml = 'Like what you see? Visit the ' +\n",
              "          '<a target=\"_blank\" href=https://colab.research.google.com/notebooks/data_table.ipynb>data table notebook</a>'\n",
              "          + ' to learn more about interactive tables.';\n",
              "        element.innerHTML = '';\n",
              "        dataTable['output_type'] = 'display_data';\n",
              "        await google.colab.output.renderOutput(dataTable, element);\n",
              "        const docLink = document.createElement('div');\n",
              "        docLink.innerHTML = docLinkHtml;\n",
              "        element.appendChild(docLink);\n",
              "      }\n",
              "    </script>\n",
              "  </div>\n",
              "\n",
              "\n",
              "<div id=\"df-581d33ad-62b2-453d-a1db-e55e75684c56\">\n",
              "  <button class=\"colab-df-quickchart\" onclick=\"quickchart('df-581d33ad-62b2-453d-a1db-e55e75684c56')\"\n",
              "            title=\"Suggest charts.\"\n",
              "            style=\"display:none;\">\n",
              "\n",
              "<svg xmlns=\"http://www.w3.org/2000/svg\" height=\"24px\"viewBox=\"0 0 24 24\"\n",
              "     width=\"24px\">\n",
              "    <g>\n",
              "        <path d=\"M19 3H5c-1.1 0-2 .9-2 2v14c0 1.1.9 2 2 2h14c1.1 0 2-.9 2-2V5c0-1.1-.9-2-2-2zM9 17H7v-7h2v7zm4 0h-2V7h2v10zm4 0h-2v-4h2v4z\"/>\n",
              "    </g>\n",
              "</svg>\n",
              "  </button>\n",
              "\n",
              "<style>\n",
              "  .colab-df-quickchart {\n",
              "    background-color: #E8F0FE;\n",
              "    border: none;\n",
              "    border-radius: 50%;\n",
              "    cursor: pointer;\n",
              "    display: none;\n",
              "    fill: #1967D2;\n",
              "    height: 32px;\n",
              "    padding: 0 0 0 0;\n",
              "    width: 32px;\n",
              "  }\n",
              "\n",
              "  .colab-df-quickchart:hover {\n",
              "    background-color: #E2EBFA;\n",
              "    box-shadow: 0px 1px 2px rgba(60, 64, 67, 0.3), 0px 1px 3px 1px rgba(60, 64, 67, 0.15);\n",
              "    fill: #174EA6;\n",
              "  }\n",
              "\n",
              "  [theme=dark] .colab-df-quickchart {\n",
              "    background-color: #3B4455;\n",
              "    fill: #D2E3FC;\n",
              "  }\n",
              "\n",
              "  [theme=dark] .colab-df-quickchart:hover {\n",
              "    background-color: #434B5C;\n",
              "    box-shadow: 0px 1px 3px 1px rgba(0, 0, 0, 0.15);\n",
              "    filter: drop-shadow(0px 1px 2px rgba(0, 0, 0, 0.3));\n",
              "    fill: #FFFFFF;\n",
              "  }\n",
              "</style>\n",
              "\n",
              "  <script>\n",
              "    async function quickchart(key) {\n",
              "      const charts = await google.colab.kernel.invokeFunction(\n",
              "          'suggestCharts', [key], {});\n",
              "    }\n",
              "    (() => {\n",
              "      let quickchartButtonEl =\n",
              "        document.querySelector('#df-581d33ad-62b2-453d-a1db-e55e75684c56 button');\n",
              "      quickchartButtonEl.style.display =\n",
              "        google.colab.kernel.accessAllowed ? 'block' : 'none';\n",
              "    })();\n",
              "  </script>\n",
              "</div>\n",
              "    </div>\n",
              "  </div>\n"
            ]
          },
          "metadata": {},
          "execution_count": 58
        }
      ]
    },
    {
      "cell_type": "code",
      "source": [
        "e_vals, e_vecs =np.linalg.eig(covMatrix)\n",
        "print('Eigen Vectors \\n%s' ,  e_vecs)\n",
        "print('\\nEigen Values \\n%s' ,  e_vals)"
      ],
      "metadata": {
        "colab": {
          "base_uri": "https://localhost:8080/"
        },
        "id": "c4saPpjfRzoD",
        "outputId": "d6fc4b8e-b026-400f-d420-f67e5a075026"
      },
      "execution_count": 59,
      "outputs": [
        {
          "output_type": "stream",
          "name": "stdout",
          "text": [
            "Eigen Vectors \n",
            "%s [[-5.93901079e-03 -2.51383961e-02  8.03718573e-03 ... -1.02668459e-13\n",
            "  -1.12873300e-13  1.37453760e-13]\n",
            " [-1.72265395e-05  1.22049369e-02  5.67573858e-03 ... -3.64823269e-14\n",
            "  -5.17463232e-14 -1.81889394e-13]\n",
            " [-3.87681585e-03  8.25482782e-03  1.15569258e-02 ... -5.43458467e-13\n",
            "  -2.87426379e-13  3.19120995e-12]\n",
            " ...\n",
            " [-3.68588164e-04  2.20435463e-02  2.91727631e-03 ...  8.08877019e-14\n",
            "   7.80456280e-14  1.77471263e-12]\n",
            " [-1.00407289e-04  1.83530294e-02  2.30357428e-03 ... -1.14946571e-13\n",
            "  -1.19665043e-13 -1.05509512e-12]\n",
            " [ 1.51298977e-02  1.69721903e-02  1.02068381e-02 ...  7.06155075e-14\n",
            "   7.87869949e-14  1.53236898e-13]]\n",
            "\n",
            "Eigen Values \n",
            "%s [ 2.63684067e+01  1.75485971e+01  1.36846018e+01  1.22754043e+01\n",
            "  1.00524375e+01  9.72969560e+00  9.29269581e+00  8.73318752e+00\n",
            "  8.50995983e+00  7.74018207e+00  6.96586799e+00  6.35141377e+00\n",
            "  6.22801553e+00  6.06071138e+00  5.99557616e+00  5.62002840e+00\n",
            "  5.44098515e+00  5.41400615e+00  5.27310961e+00  5.00886041e+00\n",
            "  4.86759267e+00  4.79178853e+00  4.63911662e+00  4.47258374e+00\n",
            "  4.50328123e+00  4.50960804e+00  4.30414070e+00  4.13386615e+00\n",
            "  4.11084210e+00  3.99953836e+00  3.92105585e+00  3.89141825e+00\n",
            "  3.74446055e+00  3.72008420e+00  3.63475326e+00  3.57195207e+00\n",
            "  3.54471453e+00  3.43744304e+00  3.40454275e+00  3.38627035e+00\n",
            "  3.28346320e+00  3.25623823e+00  3.18698015e+00  3.15897167e+00\n",
            "  3.12956754e+00  3.09791779e+00  2.77532554e+00  2.81732714e+00\n",
            "  2.96921692e+00  2.94641366e+00  2.92769614e+00  2.91278695e+00\n",
            "  2.72827962e+00  2.68870010e+00  2.65240990e+00  2.62604273e+00\n",
            "  2.57884948e+00  2.54942642e+00  2.52902081e+00  2.44824080e+00\n",
            "  2.40794356e+00  2.39184588e+00  2.37319529e+00  2.31715991e+00\n",
            "  2.29384521e+00  2.23710187e+00  2.19552992e+00  2.15724996e+00\n",
            "  1.68813649e+00  1.70834957e+00  1.76143618e+00  1.78044059e+00\n",
            "  1.80065370e+00  1.84348590e+00  2.12855529e+00  2.10174964e+00\n",
            "  2.08399925e+00  2.06027726e+00  2.03610422e+00  2.01122838e+00\n",
            "  1.94185770e+00  1.94321264e+00  1.97198997e+00  1.66828143e+00\n",
            "  1.64849223e+00  1.58843237e+00  1.55557705e+00  1.54793876e+00\n",
            "  1.52172829e+00  1.49903832e+00  1.47335021e+00  1.44306138e+00\n",
            "  1.42260446e+00  1.36090512e+00  1.16804770e+00  1.17593359e+00\n",
            "  1.20691389e+00  1.21954358e+00  1.23989363e+00  1.23442885e+00\n",
            "  1.28672333e+00  1.34463226e+00  1.31242222e+00  1.32686734e+00\n",
            "  1.32346101e+00  1.15191651e+00  1.12525452e+00  1.11536220e+00\n",
            "  1.10529413e+00  1.09718487e+00  1.07688977e+00  1.05742825e+00\n",
            "  1.04858968e+00  1.03644326e+00  1.01325628e+00  1.00699643e+00\n",
            "  9.90150346e-01  9.81667788e-01  9.71046399e-01  9.59802026e-01\n",
            "  9.47357726e-01  8.94351182e-01  9.01282935e-01  9.08903920e-01\n",
            "  9.14221193e-01  9.30562600e-01  9.33642880e-01  7.34118045e-01\n",
            "  8.79042969e-01  8.75875117e-01  8.67744755e-01  8.54343032e-01\n",
            "  8.51977956e-01  8.43468590e-01  7.46960566e-01  8.27005452e-01\n",
            "  8.20741698e-01  8.18309832e-01  8.10350668e-01  7.54779782e-01\n",
            "  7.65132473e-01  7.73019154e-01  7.80879396e-01  7.90707836e-01\n",
            "  7.95821660e-01  7.25800548e-01  7.14126012e-01  6.44746323e-01\n",
            "  6.48844287e-01  6.60179059e-01  7.04677769e-01  6.74574141e-01\n",
            "  6.76423897e-01  6.84475520e-01  6.94959292e-01  6.91527281e-01\n",
            "  6.32190285e-01  6.26419150e-01  6.15972511e-01  6.12816237e-01\n",
            "  5.52923883e-01  6.00773534e-01  5.97366860e-01  5.87779076e-01\n",
            "  5.81290953e-01  5.72287647e-01  5.61896276e-01  5.63799078e-01\n",
            "  4.36118086e-01  4.42444168e-01  4.50295404e-01  4.59825147e-01\n",
            "  4.65880567e-01  4.61802908e-01  4.77316392e-01  5.41999923e-01\n",
            "  5.32622534e-01  5.24354799e-01  5.06556046e-01  5.19431125e-01\n",
            "  5.18871075e-01  4.92180532e-01  4.96007533e-01  3.31693638e-01\n",
            "  3.35693677e-01  3.46029250e-01  4.27897008e-01  4.23349555e-01\n",
            "  4.12080286e-01  4.05253480e-01  3.58463623e-01  3.96514850e-01\n",
            "  3.65227627e-01  3.86739889e-01  3.82112915e-01  3.74452850e-01\n",
            "  4.89666889e-01  3.43773820e-01  3.23247888e-01  3.10802054e-01\n",
            "  3.07299132e-01  3.00934770e-01  2.95665299e-01  2.31465096e-01\n",
            "  2.84761566e-01  2.82977119e-01  2.72973379e-01  2.68279923e-01\n",
            "  2.38449850e-01  2.50598806e-01  2.56122130e-01  2.59642593e-01\n",
            "  2.28655439e-01  2.26148426e-01  2.15679497e-01  1.24922617e-01\n",
            "  2.11870678e-01  1.31151894e-01  1.36487623e-01  1.36279877e-01\n",
            "  2.02141249e-01  2.00236594e-01  1.98584984e-01  1.93806465e-01\n",
            "  1.46623218e-01  1.84955752e-01  1.49781862e-01  1.55230880e-01\n",
            "  1.54732883e-01  1.66004609e-01  1.66906385e-01  1.78204884e-01\n",
            "  1.74208061e-01  1.75926060e-01  1.18589840e-01  1.16380186e-01\n",
            "  1.10822455e-01  9.68770318e-02  1.04181849e-01  1.01174553e-01\n",
            "  9.82152317e-02  9.38759034e-02  9.22804377e-02  8.81015963e-02\n",
            "  8.55709347e-02  7.90986380e-02  7.37088534e-02  7.05675882e-02\n",
            "  7.03953325e-02  6.63325527e-02  6.41271979e-02  6.31528206e-02\n",
            "  6.22000034e-02  6.06959821e-02  5.91851989e-02  5.75357919e-02\n",
            "  5.32006485e-02  5.47575024e-02  5.54191471e-02  5.13879292e-02\n",
            "  5.03573377e-02  4.98500513e-02  4.78357143e-02  4.75214204e-02\n",
            "  4.54336615e-02  4.40031204e-02  4.23024823e-02  4.15242604e-02\n",
            "  4.04421877e-02  3.97088235e-02  3.86958892e-02  3.83362846e-02\n",
            "  3.76359294e-02  3.71497278e-02  3.58059968e-02  3.46707188e-02\n",
            "  3.39220832e-02  3.33380568e-02  3.27061464e-02  3.25742205e-02\n",
            "  3.12171787e-02  3.02786028e-02  2.57867528e-02  2.62236040e-02\n",
            "  2.66723591e-02  2.70894824e-02  2.77293469e-02  2.82518186e-02\n",
            "  2.90178058e-02  2.95558874e-02  2.93613050e-02  2.47254172e-02\n",
            "  2.45481733e-02  2.39800594e-02  2.38757315e-02  2.33021635e-02\n",
            "  2.29389789e-02  2.23648877e-02  2.17443817e-02  2.15418510e-02\n",
            "  2.09878926e-02  2.05777584e-02  2.03029244e-02  1.97263955e-02\n",
            "  1.88278451e-02  1.95653809e-02  1.83993367e-02  1.78310719e-02\n",
            "  1.49575304e-02  1.54685881e-02  1.74257199e-02  1.70598569e-02\n",
            "  1.68592994e-02  1.65718904e-02  1.63478589e-02  1.63201239e-02\n",
            "  1.49003634e-02  1.42549434e-02  1.38725182e-02  1.34407759e-02\n",
            "  1.34049965e-02  1.30747833e-02  1.29060915e-02  1.25317745e-02\n",
            "  1.22116088e-02  1.19714540e-02  1.15814538e-02  1.11516140e-02\n",
            "  1.09691805e-02  1.03955774e-02  1.05324447e-02  9.74736120e-03\n",
            "  9.87570968e-03  9.22083997e-03  9.32667285e-03  8.98281966e-03\n",
            "  8.51780351e-03  8.08937229e-03  7.92011445e-03  6.77294771e-03\n",
            "  7.54485087e-03  7.42579726e-03  7.31534120e-03  7.12564361e-03\n",
            "  6.56823391e-03  6.46623292e-03  6.35081620e-03  6.19131753e-03\n",
            "  6.11168585e-03  5.86030416e-03  5.61087117e-03  5.49583950e-03\n",
            "  5.23579855e-03  5.17822242e-03  4.95839794e-03  4.63175077e-03\n",
            "  4.36110106e-03  4.20313620e-03  3.96363899e-03  3.81846094e-03\n",
            "  3.65770619e-03  3.42747018e-03  3.34865610e-03  2.06645604e-03\n",
            "  2.11562041e-03  2.23774435e-03  2.33318320e-03  2.44354117e-03\n",
            "  2.61319294e-03  2.65545529e-03  2.76816254e-03  3.16601009e-03\n",
            "  2.91131415e-03  2.99032069e-03  3.06442104e-03  1.98488991e-03\n",
            "  1.70917356e-03  1.73635587e-03  1.87905690e-03  1.87268867e-03\n",
            "  1.80834791e-03  1.59227063e-03  1.42746569e-03  1.40815624e-03\n",
            "  1.37301639e-03  1.33237577e-03  1.24170350e-03  1.20029851e-03\n",
            "  1.12714362e-03  1.06805512e-03  1.01421005e-03  9.81206298e-04\n",
            "  9.16038627e-04  8.86346947e-04  8.65832926e-04  8.13503034e-04\n",
            "  7.93711133e-04  7.66671370e-04  7.45372660e-04  7.09402147e-04\n",
            "  6.68657702e-04  6.40683414e-04  6.31492973e-04  5.91251352e-04\n",
            "  5.47423657e-04  5.22494995e-04  2.89901167e-04  3.02157608e-04\n",
            "  4.56144456e-04  4.21383622e-04  3.86761928e-04  3.48469698e-04\n",
            "  3.65469115e-04  4.79936456e-04  4.85291113e-04  3.58830796e-04\n",
            "  2.60219389e-04  2.39939369e-04  2.28045971e-04  2.19421309e-04\n",
            "  1.97035894e-04  1.79883292e-04  1.87944020e-04  1.69473901e-04\n",
            "  1.40700619e-04  1.35750101e-04  1.26623155e-04  2.24643693e-05\n",
            "  3.13114803e-05  2.70879716e-05  1.21035377e-04  1.17906344e-04\n",
            "  1.13957138e-04  1.08058588e-04  1.03112743e-04  5.38533341e-05\n",
            "  5.84127389e-05  6.58848550e-05  6.42636949e-05  7.02805709e-05\n",
            "  8.10416666e-05  9.23167644e-05  8.56006199e-05  8.76035272e-05\n",
            "  1.91528107e-05  1.72511098e-05  1.59598995e-05  1.38964996e-05\n",
            "  1.32955530e-05  1.01589817e-05  9.35381271e-06  7.96465149e-06\n",
            "  7.02039665e-06  6.34333943e-06  4.98093599e-06  4.55479751e-06\n",
            "  3.88424267e-06  3.18400728e-06  2.51854096e-06  1.64182580e-06\n",
            "  7.20877125e-07  6.92833355e-07  5.83735334e-07  3.96037181e-07\n",
            "  2.85706461e-07  8.24812212e-08  1.94957939e-08  6.79395963e-09\n",
            "  1.86502351e-10  9.94979939e-12 -1.41025732e-16  1.39543828e-16\n",
            "  8.36655911e-17 -4.98040024e-17]\n"
          ]
        }
      ]
    },
    {
      "cell_type": "code",
      "source": [
        "pca = PCA(n_components=10)\n",
        "pca.fit(normalized_x)"
      ],
      "metadata": {
        "colab": {
          "base_uri": "https://localhost:8080/",
          "height": 74
        },
        "id": "aZlYySXpSFZF",
        "outputId": "a336ea8e-4682-4ddc-e139-f51ed3a4181d"
      },
      "execution_count": 60,
      "outputs": [
        {
          "output_type": "execute_result",
          "data": {
            "text/plain": [
              "PCA(n_components=10)"
            ],
            "text/html": [
              "<style>#sk-container-id-4 {color: black;background-color: white;}#sk-container-id-4 pre{padding: 0;}#sk-container-id-4 div.sk-toggleable {background-color: white;}#sk-container-id-4 label.sk-toggleable__label {cursor: pointer;display: block;width: 100%;margin-bottom: 0;padding: 0.3em;box-sizing: border-box;text-align: center;}#sk-container-id-4 label.sk-toggleable__label-arrow:before {content: \"▸\";float: left;margin-right: 0.25em;color: #696969;}#sk-container-id-4 label.sk-toggleable__label-arrow:hover:before {color: black;}#sk-container-id-4 div.sk-estimator:hover label.sk-toggleable__label-arrow:before {color: black;}#sk-container-id-4 div.sk-toggleable__content {max-height: 0;max-width: 0;overflow: hidden;text-align: left;background-color: #f0f8ff;}#sk-container-id-4 div.sk-toggleable__content pre {margin: 0.2em;color: black;border-radius: 0.25em;background-color: #f0f8ff;}#sk-container-id-4 input.sk-toggleable__control:checked~div.sk-toggleable__content {max-height: 200px;max-width: 100%;overflow: auto;}#sk-container-id-4 input.sk-toggleable__control:checked~label.sk-toggleable__label-arrow:before {content: \"▾\";}#sk-container-id-4 div.sk-estimator input.sk-toggleable__control:checked~label.sk-toggleable__label {background-color: #d4ebff;}#sk-container-id-4 div.sk-label input.sk-toggleable__control:checked~label.sk-toggleable__label {background-color: #d4ebff;}#sk-container-id-4 input.sk-hidden--visually {border: 0;clip: rect(1px 1px 1px 1px);clip: rect(1px, 1px, 1px, 1px);height: 1px;margin: -1px;overflow: hidden;padding: 0;position: absolute;width: 1px;}#sk-container-id-4 div.sk-estimator {font-family: monospace;background-color: #f0f8ff;border: 1px dotted black;border-radius: 0.25em;box-sizing: border-box;margin-bottom: 0.5em;}#sk-container-id-4 div.sk-estimator:hover {background-color: #d4ebff;}#sk-container-id-4 div.sk-parallel-item::after {content: \"\";width: 100%;border-bottom: 1px solid gray;flex-grow: 1;}#sk-container-id-4 div.sk-label:hover label.sk-toggleable__label {background-color: #d4ebff;}#sk-container-id-4 div.sk-serial::before {content: \"\";position: absolute;border-left: 1px solid gray;box-sizing: border-box;top: 0;bottom: 0;left: 50%;z-index: 0;}#sk-container-id-4 div.sk-serial {display: flex;flex-direction: column;align-items: center;background-color: white;padding-right: 0.2em;padding-left: 0.2em;position: relative;}#sk-container-id-4 div.sk-item {position: relative;z-index: 1;}#sk-container-id-4 div.sk-parallel {display: flex;align-items: stretch;justify-content: center;background-color: white;position: relative;}#sk-container-id-4 div.sk-item::before, #sk-container-id-4 div.sk-parallel-item::before {content: \"\";position: absolute;border-left: 1px solid gray;box-sizing: border-box;top: 0;bottom: 0;left: 50%;z-index: -1;}#sk-container-id-4 div.sk-parallel-item {display: flex;flex-direction: column;z-index: 1;position: relative;background-color: white;}#sk-container-id-4 div.sk-parallel-item:first-child::after {align-self: flex-end;width: 50%;}#sk-container-id-4 div.sk-parallel-item:last-child::after {align-self: flex-start;width: 50%;}#sk-container-id-4 div.sk-parallel-item:only-child::after {width: 0;}#sk-container-id-4 div.sk-dashed-wrapped {border: 1px dashed gray;margin: 0 0.4em 0.5em 0.4em;box-sizing: border-box;padding-bottom: 0.4em;background-color: white;}#sk-container-id-4 div.sk-label label {font-family: monospace;font-weight: bold;display: inline-block;line-height: 1.2em;}#sk-container-id-4 div.sk-label-container {text-align: center;}#sk-container-id-4 div.sk-container {/* jupyter's `normalize.less` sets `[hidden] { display: none; }` but bootstrap.min.css set `[hidden] { display: none !important; }` so we also need the `!important` here to be able to override the default hidden behavior on the sphinx rendered scikit-learn.org. See: https://github.com/scikit-learn/scikit-learn/issues/21755 */display: inline-block !important;position: relative;}#sk-container-id-4 div.sk-text-repr-fallback {display: none;}</style><div id=\"sk-container-id-4\" class=\"sk-top-container\"><div class=\"sk-text-repr-fallback\"><pre>PCA(n_components=10)</pre><b>In a Jupyter environment, please rerun this cell to show the HTML representation or trust the notebook. <br />On GitHub, the HTML representation is unable to render, please try loading this page with nbviewer.org.</b></div><div class=\"sk-container\" hidden><div class=\"sk-item\"><div class=\"sk-estimator sk-toggleable\"><input class=\"sk-toggleable__control sk-hidden--visually\" id=\"sk-estimator-id-6\" type=\"checkbox\" checked><label for=\"sk-estimator-id-6\" class=\"sk-toggleable__label sk-toggleable__label-arrow\">PCA</label><div class=\"sk-toggleable__content\"><pre>PCA(n_components=10)</pre></div></div></div></div></div>"
            ]
          },
          "metadata": {},
          "execution_count": 60
        }
      ]
    },
    {
      "cell_type": "code",
      "source": [
        "pca.explained_variance_"
      ],
      "metadata": {
        "colab": {
          "base_uri": "https://localhost:8080/"
        },
        "id": "GIRNgQQJTCS1",
        "outputId": "2676d6b2-ece9-4e46-f0f4-f29070a8556d"
      },
      "execution_count": 61,
      "outputs": [
        {
          "output_type": "execute_result",
          "data": {
            "text/plain": [
              "array([26.36840667, 17.54859707, 13.68459936, 12.27539258, 10.05235973,\n",
              "        9.72934595,  9.2923443 ,  8.73273372,  8.50881499,  7.73476932])"
            ]
          },
          "metadata": {},
          "execution_count": 61
        }
      ]
    },
    {
      "cell_type": "code",
      "source": [
        "k=1\n",
        "total = []\n",
        "for i in pca.explained_variance_ratio_*100:\n",
        "  print('Variance explained by Principle component', k, 'is:{:.2f}%'.format(i))\n",
        "  k+=1\n",
        "  total.append(i)\n",
        "\n",
        "print('\\n Total variance exlained by all the principle components: ', sum(total), '%')"
      ],
      "metadata": {
        "colab": {
          "base_uri": "https://localhost:8080/"
        },
        "id": "6Jv2gCtyTOCc",
        "outputId": "b9f9984a-d11c-4689-c683-ac9caa8f0718"
      },
      "execution_count": 62,
      "outputs": [
        {
          "output_type": "stream",
          "name": "stdout",
          "text": [
            "Variance explained by Principle component 1 is:5.56%\n",
            "Variance explained by Principle component 2 is:3.70%\n",
            "Variance explained by Principle component 3 is:2.89%\n",
            "Variance explained by Principle component 4 is:2.59%\n",
            "Variance explained by Principle component 5 is:2.12%\n",
            "Variance explained by Principle component 6 is:2.05%\n",
            "Variance explained by Principle component 7 is:1.96%\n",
            "Variance explained by Principle component 8 is:1.84%\n",
            "Variance explained by Principle component 9 is:1.79%\n",
            "Variance explained by Principle component 10 is:1.63%\n",
            "\n",
            " Total variance exlained by all the principle components:  26.12832867884678 %\n"
          ]
        }
      ]
    },
    {
      "cell_type": "code",
      "source": [
        "#cumulative variance explained\n",
        "tot = sum(e_vals)\n",
        "var_exp = [(i/tot)*100 for i in sorted (e_vals, reverse=True)]\n",
        "cum_var_exp = np.cumsum(var_exp)\n",
        "print(\"Cumulative variance explained\", cum_var_exp)"
      ],
      "metadata": {
        "colab": {
          "base_uri": "https://localhost:8080/"
        },
        "id": "aCBfZwU3TYaR",
        "outputId": "3f661f02-a8ba-4a12-a2a6-c8c9e1fca0d6"
      },
      "execution_count": 63,
      "outputs": [
        {
          "output_type": "stream",
          "name": "stdout",
          "text": [
            "Cumulative variance explained [  5.55940493   9.25927798  12.14448237  14.73257744  16.85199146\n",
            "  18.90335992  20.86259316  22.703862    24.49806646  26.12997417\n",
            "  27.59862874  28.93773434  30.25082317  31.52863829  32.79272057\n",
            "  33.97762392  35.12477855  36.26624503  37.37800548  38.43405272\n",
            "  39.46031567  40.47059638  41.44868839  42.39947535  43.34892839\n",
            "  44.2919093   45.19937638  46.07094348  46.93765629  47.78090228\n",
            "  48.60760135  49.42805175  50.2175182   51.00184525  51.76818147\n",
            "  52.52127695  53.26862979  53.99336594  54.71116554  55.42511267\n",
            "  56.11738436  56.80391605  57.47584566  58.14187007  58.80169505\n",
            "  59.45484712  60.08086443  60.70207401  61.31933725  61.93345711\n",
            "  62.52745062  63.11258868  63.68780778  64.2546821   64.81390515\n",
            "  65.36756905  65.91128292  66.44879336  66.98200156  67.49817844\n",
            "  68.00585922  68.51014604  69.01050064  69.49904097  69.98266573\n",
            "  70.45432696  70.91722334  71.37204893  71.82082465  72.26394878\n",
            "  72.70333049  73.13771076  73.56699449  73.99103349  74.40679964\n",
            "  74.81649849  75.22591167  75.61458455  75.99422687  76.36960754\n",
            "  76.7409814   77.1011627   77.45708236  77.80881586  78.15637709\n",
            "  78.49127555  78.81924693  79.14560788  79.46644273  79.78249372\n",
            "  80.09312874  80.39737778  80.69731377  80.98424133  81.26773799\n",
            "  81.54748917  81.82652217  82.1032278   82.37451518  82.63592919\n",
            "  82.89619102  83.1533145   83.4077752   83.65570413  83.90197044\n",
            "  84.14483571  84.38207969  84.617238    84.85027361  85.08159949\n",
            "  85.30864644  85.5315902   85.75267048  85.97118986  86.18482058\n",
            "  86.39713151  86.60589068  86.81286143  87.0175928   87.21995346\n",
            "  87.41969041  87.61653579  87.81273172  88.00548231  88.19711182\n",
            "  88.38713456  88.57569583  88.76102959  88.94569545  89.12864713\n",
            "  89.30877326  89.48840074  89.66623414  89.84059652  90.01363828\n",
            "  90.18616731  90.35701827  90.52480599  90.69151553  90.85615289\n",
            "  91.01913302  91.18045036  91.33958498  91.49707104  91.65184942\n",
            "  91.80487419  91.95543754  92.10400886  92.25053118  92.39632991\n",
            "  92.54064187  92.68325627  92.82548067  92.96467007  93.10146969\n",
            "  93.23740532  93.37069368  93.50276528  93.63263436  93.76183798\n",
            "  93.88850257  94.01444891  94.1383738   94.26093076  94.3815895\n",
            "  94.50045854  94.61892641  94.73550258  94.84977558  94.9620715\n",
            "  95.07262428  95.18213897  95.29153558  95.39833575  95.50291191\n",
            "  95.6066812   95.70992053  95.81055592  95.90878024  96.00614484\n",
            "  96.10309246  96.19803086  96.29131395  96.38326327  96.47347929\n",
            "  96.56273654  96.64961783  96.73505979  96.81865932  96.90019795\n",
            "  96.98076104  97.05970912  97.13671219  97.21228917  97.28524453\n",
            "  97.35772437  97.42850063  97.49843353  97.56658577  97.63211398\n",
            "  97.69690364  97.76035148  97.82268831  97.88272626  97.94238797\n",
            "  97.99994054  98.05650356  98.11124552  98.16524525  98.21808045\n",
            "  98.26835423  98.31715536  98.36536412  98.41304431  98.45851728\n",
            "  98.50318721  98.54580583  98.58802288  98.62989171  98.67075305\n",
            "  98.70974835  98.74732033  98.78441184  98.82114114  98.85633099\n",
            "  98.89133071  98.92405894  98.95668218  98.98826156  99.01917499\n",
            "  99.04795147  99.07668415  99.10433567  99.13067383  99.15567682\n",
            "  99.18021394  99.20357928  99.22554455  99.24687577  99.26758306\n",
            "  99.28800821  99.30780061  99.32725663  99.34583161  99.36387303\n",
            "  99.38054985  99.39609032  99.4109685   99.42581035  99.43979563\n",
            "  99.45331594  99.46663082  99.47974481  99.4925417   99.50502006\n",
            "  99.51715067  99.52883501  99.54037985  99.55159645  99.56243087\n",
            "  99.573048    99.58355818  99.59364366  99.60366288  99.61324192\n",
            "  99.62251936  99.63143824  99.64019304  99.6487197   99.65709174\n",
            "  99.66525022  99.67333289  99.68126789  99.68910038  99.69664957\n",
            "  99.7039594   99.71111139  99.71814025  99.72503587  99.73190369\n",
            "  99.73848539  99.7448692   99.75110064  99.75729106  99.76340905\n",
            "  99.76936555  99.77521189  99.78092332  99.78654681  99.79207568\n",
            "  99.79751246  99.80272546  99.80790109  99.81295695  99.81799081\n",
            "  99.82290374  99.8277401   99.83245542  99.83703991  99.84158171\n",
            "  99.84600671  99.85034524  99.85462582  99.85878485  99.86290993\n",
            "  99.86687952  99.87075876  99.87451819  99.87819215  99.88178898\n",
            "  99.88534353  99.88883747  99.89228419  99.89572506  99.89898639\n",
            "  99.90213997  99.9052815   99.90828696  99.91121178  99.91404558\n",
            "  99.91687183  99.91962846  99.92234953  99.92499168  99.92756632\n",
            "  99.93009033  99.93253212  99.93488328  99.93719597  99.93941659\n",
            "  99.94160835  99.9436905   99.9457456   99.94771199  99.94965608\n",
            "  99.95154998  99.95334584  99.95505137  99.95672121  99.95831193\n",
            "  99.95987756  99.96141989  99.96292224  99.96435022  99.96573503\n",
            "  99.96709835  99.96843733  99.96974268  99.97103124  99.9722668\n",
            "  99.97344978  99.9746085   99.97571239  99.97680415  99.97784955\n",
            "  99.97882609  99.97974557  99.98063174  99.98146742  99.98227249\n",
            "  99.98304366  99.98376629  99.98447231  99.98513982  99.98578591\n",
            "  99.98641638  99.98703019  99.98761381  99.98817368  99.98872463\n",
            "  99.98923982  99.98973174  99.99020353  99.99064958  99.99108527\n",
            "  99.99150375  99.99189992  99.99229475  99.99267602  99.9930421\n",
            "  99.99340246  99.99373817  99.99403913  99.99433602  99.9946255\n",
            "  99.99490641  99.99516821  99.99542127  99.99565892  99.9958841\n",
            "  99.99609793  99.99630481  99.99649794  99.99668481  99.99686736\n",
            "  99.99703888  99.99720622  99.99736786  99.99752501  99.99767458\n",
            "  99.99781556  99.99795064  99.99808378  99.99820843  99.99832385\n",
            "  99.99843401  99.99853633  99.99863752  99.99873369  99.99882253\n",
            "  99.99890407  99.99898113  99.99905678  99.99913025  99.99919396\n",
            "  99.99925508  99.99930994  99.99936053  99.99940861  99.99945487\n",
            "  99.99949642  99.99953604  99.99957397  99.9996097   99.99963936\n",
            "  99.99966798  99.99969468  99.9997202   99.99974506  99.99976908\n",
            "  99.99979187  99.99981361  99.99983307  99.99985154  99.99986959\n",
            "  99.99988667  99.99990149  99.99991538  99.99992893  99.99994125\n",
            "  99.9999526   99.9999592   99.99996491  99.99996965  99.99997369\n",
            "  99.99997733  99.99998069  99.99998362  99.99998642  99.99998857\n",
            "  99.99999054  99.99999222  99.9999937   99.99999503  99.99999608\n",
            "  99.99999704  99.99999786  99.99999854  99.99999907  99.99999941\n",
            "  99.99999956  99.99999971  99.99999983  99.99999992  99.99999998\n",
            "  99.99999999 100.         100.         100.         100.\n",
            " 100.         100.         100.         100.        ]\n"
          ]
        }
      ]
    },
    {
      "cell_type": "code",
      "source": [
        "# plotting cumulative variance explained with number of components\n",
        "\n",
        "plt.figure(figsize=(5,5))\n",
        "plt.bar(range(1, e_vals.size +1), var_exp, alpha = 0.5, align = 'center', label='Individual explained variance')\n",
        "plt.step(range(1,e_vals.size + 1), cum_var_exp, where='mid', label='Cumulative explained variance')\n",
        "plt.ylabel('Explained Variance ratio')\n",
        "plt.xlabel('Principal Components')\n",
        "plt.legend(loc='best')\n",
        "plt.tight_layout()\n",
        "plt.show()"
      ],
      "metadata": {
        "colab": {
          "base_uri": "https://localhost:8080/",
          "height": 507
        },
        "id": "wMt8jwzDTghV",
        "outputId": "476c1fd7-7304-4d9f-dfe2-48c803b56b62"
      },
      "execution_count": 123,
      "outputs": [
        {
          "output_type": "display_data",
          "data": {
            "text/plain": [
              "<Figure size 500x500 with 1 Axes>"
            ],
            "image/png": "[encoded data removed]"
          },
          "metadata": {}
        }
      ]
    },
    {
      "cell_type": "markdown",
      "source": [
        "Q5 E - Display and explain the classification report in detail."
      ],
      "metadata": {
        "id": "Z_Gv3N1R8f6u"
      }
    },
    {
      "cell_type": "code",
      "source": [
        "pca250 = PCA(n_components=250)\n",
        "pca250.fit(normalized_x)"
      ],
      "metadata": {
        "colab": {
          "base_uri": "https://localhost:8080/",
          "height": 74
        },
        "id": "tLW-0s8UeDsF",
        "outputId": "8faa0e1e-9f37-462c-afdf-670a7bc00099"
      },
      "execution_count": 65,
      "outputs": [
        {
          "output_type": "execute_result",
          "data": {
            "text/plain": [
              "PCA(n_components=250)"
            ],
            "text/html": [
              "<style>#sk-container-id-5 {color: black;background-color: white;}#sk-container-id-5 pre{padding: 0;}#sk-container-id-5 div.sk-toggleable {background-color: white;}#sk-container-id-5 label.sk-toggleable__label {cursor: pointer;display: block;width: 100%;margin-bottom: 0;padding: 0.3em;box-sizing: border-box;text-align: center;}#sk-container-id-5 label.sk-toggleable__label-arrow:before {content: \"▸\";float: left;margin-right: 0.25em;color: #696969;}#sk-container-id-5 label.sk-toggleable__label-arrow:hover:before {color: black;}#sk-container-id-5 div.sk-estimator:hover label.sk-toggleable__label-arrow:before {color: black;}#sk-container-id-5 div.sk-toggleable__content {max-height: 0;max-width: 0;overflow: hidden;text-align: left;background-color: #f0f8ff;}#sk-container-id-5 div.sk-toggleable__content pre {margin: 0.2em;color: black;border-radius: 0.25em;background-color: #f0f8ff;}#sk-container-id-5 input.sk-toggleable__control:checked~div.sk-toggleable__content {max-height: 200px;max-width: 100%;overflow: auto;}#sk-container-id-5 input.sk-toggleable__control:checked~label.sk-toggleable__label-arrow:before {content: \"▾\";}#sk-container-id-5 div.sk-estimator input.sk-toggleable__control:checked~label.sk-toggleable__label {background-color: #d4ebff;}#sk-container-id-5 div.sk-label input.sk-toggleable__control:checked~label.sk-toggleable__label {background-color: #d4ebff;}#sk-container-id-5 input.sk-hidden--visually {border: 0;clip: rect(1px 1px 1px 1px);clip: rect(1px, 1px, 1px, 1px);height: 1px;margin: -1px;overflow: hidden;padding: 0;position: absolute;width: 1px;}#sk-container-id-5 div.sk-estimator {font-family: monospace;background-color: #f0f8ff;border: 1px dotted black;border-radius: 0.25em;box-sizing: border-box;margin-bottom: 0.5em;}#sk-container-id-5 div.sk-estimator:hover {background-color: #d4ebff;}#sk-container-id-5 div.sk-parallel-item::after {content: \"\";width: 100%;border-bottom: 1px solid gray;flex-grow: 1;}#sk-container-id-5 div.sk-label:hover label.sk-toggleable__label {background-color: #d4ebff;}#sk-container-id-5 div.sk-serial::before {content: \"\";position: absolute;border-left: 1px solid gray;box-sizing: border-box;top: 0;bottom: 0;left: 50%;z-index: 0;}#sk-container-id-5 div.sk-serial {display: flex;flex-direction: column;align-items: center;background-color: white;padding-right: 0.2em;padding-left: 0.2em;position: relative;}#sk-container-id-5 div.sk-item {position: relative;z-index: 1;}#sk-container-id-5 div.sk-parallel {display: flex;align-items: stretch;justify-content: center;background-color: white;position: relative;}#sk-container-id-5 div.sk-item::before, #sk-container-id-5 div.sk-parallel-item::before {content: \"\";position: absolute;border-left: 1px solid gray;box-sizing: border-box;top: 0;bottom: 0;left: 50%;z-index: -1;}#sk-container-id-5 div.sk-parallel-item {display: flex;flex-direction: column;z-index: 1;position: relative;background-color: white;}#sk-container-id-5 div.sk-parallel-item:first-child::after {align-self: flex-end;width: 50%;}#sk-container-id-5 div.sk-parallel-item:last-child::after {align-self: flex-start;width: 50%;}#sk-container-id-5 div.sk-parallel-item:only-child::after {width: 0;}#sk-container-id-5 div.sk-dashed-wrapped {border: 1px dashed gray;margin: 0 0.4em 0.5em 0.4em;box-sizing: border-box;padding-bottom: 0.4em;background-color: white;}#sk-container-id-5 div.sk-label label {font-family: monospace;font-weight: bold;display: inline-block;line-height: 1.2em;}#sk-container-id-5 div.sk-label-container {text-align: center;}#sk-container-id-5 div.sk-container {/* jupyter's `normalize.less` sets `[hidden] { display: none; }` but bootstrap.min.css set `[hidden] { display: none !important; }` so we also need the `!important` here to be able to override the default hidden behavior on the sphinx rendered scikit-learn.org. See: https://github.com/scikit-learn/scikit-learn/issues/21755 */display: inline-block !important;position: relative;}#sk-container-id-5 div.sk-text-repr-fallback {display: none;}</style><div id=\"sk-container-id-5\" class=\"sk-top-container\"><div class=\"sk-text-repr-fallback\"><pre>PCA(n_components=250)</pre><b>In a Jupyter environment, please rerun this cell to show the HTML representation or trust the notebook. <br />On GitHub, the HTML representation is unable to render, please try loading this page with nbviewer.org.</b></div><div class=\"sk-container\" hidden><div class=\"sk-item\"><div class=\"sk-estimator sk-toggleable\"><input class=\"sk-toggleable__control sk-hidden--visually\" id=\"sk-estimator-id-7\" type=\"checkbox\" checked><label for=\"sk-estimator-id-7\" class=\"sk-toggleable__label sk-toggleable__label-arrow\">PCA</label><div class=\"sk-toggleable__content\"><pre>PCA(n_components=250)</pre></div></div></div></div></div>"
            ]
          },
          "metadata": {},
          "execution_count": 65
        }
      ]
    },
    {
      "cell_type": "code",
      "source": [
        "Xpca250=pca250.transform(normalized_x)\n",
        "\n",
        "X_train_pca, X_test_pca, y_train_pca, y_test_pca =train_test_split(Xpca250, Y, test_size=0.20, random_state=100)\n",
        "model.fit(X_train_pca, y_train_pca)\n",
        "y_pred_pca=model.predict(X_test_pca)"
      ],
      "metadata": {
        "colab": {
          "base_uri": "https://localhost:8080/"
        },
        "id": "KqLYiqFsd9Em",
        "outputId": "dcd5c7e6-6763-4f5e-bdc2-f09346c5fe45"
      },
      "execution_count": 66,
      "outputs": [
        {
          "output_type": "stream",
          "name": "stderr",
          "text": [
            "/usr/local/lib/python3.10/dist-packages/sklearn/utils/validation.py:1143: DataConversionWarning: A column-vector y was passed when a 1d array was expected. Please change the shape of y to (n_samples, ), for example using ravel().\n",
            "  y = column_or_1d(y, warn=True)\n"
          ]
        }
      ]
    },
    {
      "cell_type": "code",
      "source": [
        "print(\"Accuracy score of test data after PCA: \", metrics.accuracy_score(y_test_pca, y_pred_pca))"
      ],
      "metadata": {
        "colab": {
          "base_uri": "https://localhost:8080/"
        },
        "id": "McE1W-GmbrKv",
        "outputId": "e178eb6a-0c38-4699-ad82-40008822ccb9"
      },
      "execution_count": 67,
      "outputs": [
        {
          "output_type": "stream",
          "name": "stdout",
          "text": [
            "Accuracy score of test data after PCA:  0.9299363057324841\n"
          ]
        }
      ]
    },
    {
      "cell_type": "code",
      "source": [
        "print(X_train_pca.shape)\n",
        "print(X_test_pca.shape)\n",
        "print(y_train_pca.shape)\n",
        "print(y_test_pca.shape)\n",
        "print(y_pred_pca.shape)"
      ],
      "metadata": {
        "colab": {
          "base_uri": "https://localhost:8080/"
        },
        "id": "-w46IdWyf47E",
        "outputId": "c85d44d2-fe0c-4b4d-fbac-bef144d15103"
      },
      "execution_count": 68,
      "outputs": [
        {
          "output_type": "stream",
          "name": "stdout",
          "text": [
            "(1253, 250)\n",
            "(314, 250)\n",
            "(1253, 1)\n",
            "(314, 1)\n",
            "(314,)\n"
          ]
        }
      ]
    },
    {
      "cell_type": "code",
      "source": [
        "print(metrics.classification_report(y_test_pca,y_pred_pca, labels=[1,0], zero_division=0))"
      ],
      "metadata": {
        "colab": {
          "base_uri": "https://localhost:8080/"
        },
        "id": "l-zbw9j1fbUY",
        "outputId": "20a67d37-c009-43b6-bec8-6ea62d2db4a3"
      },
      "execution_count": 121,
      "outputs": [
        {
          "output_type": "stream",
          "name": "stdout",
          "text": [
            "              precision    recall  f1-score   support\n",
            "\n",
            "           1       0.33      0.05      0.08        21\n",
            "           0       0.00      0.00      0.00         0\n",
            "\n",
            "   micro avg       0.33      0.05      0.08        21\n",
            "   macro avg       0.17      0.02      0.04        21\n",
            "weighted avg       0.33      0.05      0.08        21\n",
            "\n"
          ]
        }
      ]
    },
    {
      "cell_type": "markdown",
      "source": [
        "Q5 F - Apply the above steps for all possible models that you have learnt so far."
      ],
      "metadata": {
        "id": "b3cGkIrc8jqC"
      }
    },
    {
      "cell_type": "markdown",
      "source": [
        "KNN, Decision Tree, Naive Bayes, Random forest, SVM"
      ],
      "metadata": {
        "id": "BZ479vViCXwl"
      }
    },
    {
      "cell_type": "markdown",
      "source": [
        "KNN technique"
      ],
      "metadata": {
        "id": "ADKCRDmpCzSe"
      }
    },
    {
      "cell_type": "code",
      "source": [
        "#knn model\n",
        "\n",
        "kscores = []\n",
        "for i in range(1,20):\n",
        "    knn = KNeighborsClassifier(n_neighbors = i, weights='distance')\n",
        "    knn.fit(normalized_x_train, y_train.values.ravel())\n",
        "    s = knn.score(normalized_x_test, y_test.values.ravel())\n",
        "    kscores.append(s)\n",
        "plt.plot(range(1,20), kscores, 'o-')\n",
        "plt.xticks(range(1,20))\n",
        "plt.show()"
      ],
      "metadata": {
        "colab": {
          "base_uri": "https://localhost:8080/",
          "height": 430
        },
        "id": "T4VV2OsVHG0_",
        "outputId": "b6389adb-751a-401b-ab5d-538efd8367a0"
      },
      "execution_count": 70,
      "outputs": [
        {
          "output_type": "display_data",
          "data": {
            "text/plain": [
              "<Figure size 640x480 with 1 Axes>"
            ],
            "image/png": "[encoded data removed]"
          },
          "metadata": {}
        }
      ]
    },
    {
      "cell_type": "code",
      "source": [
        "knn = KNeighborsClassifier(n_neighbors = 6)\n",
        "knn.fit(normalized_x_train, y_train)\n",
        "\n",
        "knn_test_score = knn.score(normalized_x_test, y_test)\n",
        "print(f\"KNN Test Score/ Accuracy : {knn_test_score}\")\n",
        "\n",
        "knn_train_score = knn.score(normalized_x_train, y_train)\n",
        "print(f\"KNN Train Score : {knn_train_score}\")\n",
        "\n",
        "y_pred_knn=knn.predict(normalized_x_test)\n",
        "print(metrics.classification_report(y_test,y_pred_knn))\n"
      ],
      "metadata": {
        "colab": {
          "base_uri": "https://localhost:8080/"
        },
        "id": "F2BTdRLDQfZz",
        "outputId": "f07c6de8-3633-4f52-a62e-8dcb722bf2bb"
      },
      "execution_count": 112,
      "outputs": [
        {
          "output_type": "stream",
          "name": "stderr",
          "text": [
            "/usr/local/lib/python3.10/dist-packages/sklearn/neighbors/_classification.py:215: DataConversionWarning: A column-vector y was passed when a 1d array was expected. Please change the shape of y to (n_samples,), for example using ravel().\n",
            "  return self._fit(X, y)\n"
          ]
        },
        {
          "output_type": "stream",
          "name": "stdout",
          "text": [
            "KNN Test Score/ Accuracy : 0.9336734693877551\n",
            "KNN Train Score : 0.934468085106383\n",
            "              precision    recall  f1-score   support\n",
            "\n",
            "          -1       0.93      1.00      0.97       366\n",
            "           1       0.00      0.00      0.00        26\n",
            "\n",
            "    accuracy                           0.93       392\n",
            "   macro avg       0.47      0.50      0.48       392\n",
            "weighted avg       0.87      0.93      0.90       392\n",
            "\n"
          ]
        },
        {
          "output_type": "stream",
          "name": "stderr",
          "text": [
            "/usr/local/lib/python3.10/dist-packages/sklearn/metrics/_classification.py:1344: UndefinedMetricWarning: Precision and F-score are ill-defined and being set to 0.0 in labels with no predicted samples. Use `zero_division` parameter to control this behavior.\n",
            "  _warn_prf(average, modifier, msg_start, len(result))\n",
            "/usr/local/lib/python3.10/dist-packages/sklearn/metrics/_classification.py:1344: UndefinedMetricWarning: Precision and F-score are ill-defined and being set to 0.0 in labels with no predicted samples. Use `zero_division` parameter to control this behavior.\n",
            "  _warn_prf(average, modifier, msg_start, len(result))\n",
            "/usr/local/lib/python3.10/dist-packages/sklearn/metrics/_classification.py:1344: UndefinedMetricWarning: Precision and F-score are ill-defined and being set to 0.0 in labels with no predicted samples. Use `zero_division` parameter to control this behavior.\n",
            "  _warn_prf(average, modifier, msg_start, len(result))\n"
          ]
        }
      ]
    },
    {
      "cell_type": "markdown",
      "source": [
        "NB Gaussian"
      ],
      "metadata": {
        "id": "CNaQ87EgWm2H"
      }
    },
    {
      "cell_type": "code",
      "source": [
        "#NB Gaussian\n",
        "\n",
        "nb = GaussianNB()\n",
        "nb.fit(normalized_x_train, y_train.values.ravel())\n",
        "\n",
        "nb_test_score = nb.score(normalized_x_test, y_test)\n",
        "print(f\"NB Test Score : {nb_test_score}\")\n",
        "\n",
        "nb_train_score = nb.score(normalized_x_train, y_train)\n",
        "print(f\"NB Train Score : {nb_train_score}\")\n",
        "\n",
        "pred = nb.predict(normalized_x_test)\n",
        "\n",
        "nb_test_accuracy = nb.score(normalized_x_test, pred)\n",
        "print (\"NB test accuracy: \", nb_test_accuracy)\n",
        "\n",
        "y_pred_nb=nb.predict(normalized_x_test)\n",
        "print(metrics.classification_report(y_test,y_pred_nb,zero_division=0))"
      ],
      "metadata": {
        "colab": {
          "base_uri": "https://localhost:8080/"
        },
        "id": "lB1XvOxJWwXa",
        "outputId": "695459e6-a663-46e6-f13d-9b4090ff84dc"
      },
      "execution_count": 115,
      "outputs": [
        {
          "output_type": "stream",
          "name": "stdout",
          "text": [
            "NB Test Score : 0.1989795918367347\n",
            "NB Train Score : 0.21361702127659574\n",
            "NB test accuracy:  1.0\n",
            "              precision    recall  f1-score   support\n",
            "\n",
            "          -1       0.93      0.15      0.26       366\n",
            "           1       0.07      0.85      0.12        26\n",
            "\n",
            "    accuracy                           0.20       392\n",
            "   macro avg       0.50      0.50      0.19       392\n",
            "weighted avg       0.88      0.20      0.25       392\n",
            "\n"
          ]
        }
      ]
    },
    {
      "cell_type": "code",
      "source": [
        "#Random Forest\n",
        "\n",
        "rf = RandomForestClassifier(n_estimators=20,criterion='gini', max_depth=8, max_leaf_nodes=2)\n",
        "rf.fit(normalized_x_train, y_train.values.ravel())\n",
        "\n",
        "rf_test_score = rf.score(normalized_x_test, y_test)\n",
        "print(f\"Random Forest Test Score/ Accuracy : {rf_test_score}\")\n",
        "\n",
        "rf_train_score = rf.score(normalized_x_train, y_train)\n",
        "print(f\"Random Forest Train Score : {rf_train_score}\")\n",
        "\n",
        "y_pred_rf=rf.predict(normalized_x_test)\n",
        "\n",
        "print(metrics.classification_report(y_test,y_pred_rf,zero_division=0))"
      ],
      "metadata": {
        "colab": {
          "base_uri": "https://localhost:8080/"
        },
        "id": "pBkGc9gdco06",
        "outputId": "c2067570-92bc-4f64-aa16-a0872c3f222e"
      },
      "execution_count": 114,
      "outputs": [
        {
          "output_type": "stream",
          "name": "stdout",
          "text": [
            "Random Forest Test Score/ Accuracy : 0.9336734693877551\n",
            "Random Forest Train Score : 0.9336170212765957\n",
            "              precision    recall  f1-score   support\n",
            "\n",
            "          -1       0.93      1.00      0.97       366\n",
            "           1       0.00      0.00      0.00        26\n",
            "\n",
            "    accuracy                           0.93       392\n",
            "   macro avg       0.47      0.50      0.48       392\n",
            "weighted avg       0.87      0.93      0.90       392\n",
            "\n"
          ]
        }
      ]
    },
    {
      "cell_type": "code",
      "source": [
        "#Decision Tree Model\n",
        "\n",
        "dtc = DecisionTreeClassifier(criterion='gini', max_depth=3, max_leaf_nodes=2)\n",
        "dtc.fit(normalized_x_train, y_train.values.ravel())\n",
        "\n",
        "dtc_test_score = dtc.score(normalized_x_test, y_test)\n",
        "print(f\"Decision Tree Test Score/ Accuracy : {dtc_test_score}\")\n",
        "\n",
        "dtc_train_score = dtc.score(normalized_x_train, y_train)\n",
        "print(f\"Decision Tree Train Score : {dtc_train_score}\")\n",
        "\n",
        "y_pred_dtc=dtc.predict(normalized_x_test)\n",
        "\n",
        "print(metrics.classification_report(y_test,y_pred_dtc,zero_division=0))"
      ],
      "metadata": {
        "colab": {
          "base_uri": "https://localhost:8080/"
        },
        "id": "fCM1-e6NgBXR",
        "outputId": "3015896c-0a15-486f-afcc-dbaedf0b2f42"
      },
      "execution_count": 116,
      "outputs": [
        {
          "output_type": "stream",
          "name": "stdout",
          "text": [
            "Decision Tree Test Score/ Accuracy : 0.9336734693877551\n",
            "Decision Tree Train Score : 0.9336170212765957\n",
            "              precision    recall  f1-score   support\n",
            "\n",
            "          -1       0.93      1.00      0.97       366\n",
            "           1       0.00      0.00      0.00        26\n",
            "\n",
            "    accuracy                           0.93       392\n",
            "   macro avg       0.47      0.50      0.48       392\n",
            "weighted avg       0.87      0.93      0.90       392\n",
            "\n"
          ]
        }
      ]
    },
    {
      "cell_type": "markdown",
      "source": [
        "Q6 A- Display and compare all the models designed with their train and test accuracies."
      ],
      "metadata": {
        "id": "XDozQ6fgjind"
      }
    },
    {
      "cell_type": "code",
      "source": [
        "results = pd.DataFrame({'Model':['KNN', 'Random Forest', 'Decision Tree Classifier','Naive Bayes'],\n",
        "                        'Train Set Score':[knn_train_score, rf_train_score, dtc_train_score, nb_train_score],\n",
        "                        'Test Set Score': [knn_test_score, rf_test_score, dtc_test_score, nb_test_score]})\n",
        "\n",
        "print(results)\n",
        "\n",
        "f=plt.figure()\n",
        "f.set_figwidth(18)\n",
        "f.set_figheight(7)\n",
        "plt.subplot(1,2,1)\n",
        "plt.plot(results['Model'],results['Train Set Score'], label=\"Training Score\");\n",
        "plt.plot(results['Model'],results['Test Set Score'], label=\"Testing Score\");\n",
        "plt.title('Model v/s Train/Test')\n",
        "plt.legend()\n",
        "plt.show()"
      ],
      "metadata": {
        "colab": {
          "base_uri": "https://localhost:8080/",
          "height": 709
        },
        "id": "hmjrKvNJdaVD",
        "outputId": "38148420-096a-4f86-d2f2-446472a0dcd0"
      },
      "execution_count": 117,
      "outputs": [
        {
          "output_type": "stream",
          "name": "stdout",
          "text": [
            "                      Model  Train Set Score  Test Set Score\n",
            "0                       KNN         0.934468        0.933673\n",
            "1             Random Forest         0.933617        0.933673\n",
            "2  Decision Tree Classifier         0.933617        0.933673\n",
            "3               Naive Bayes         0.213617        0.198980\n"
          ]
        },
        {
          "output_type": "display_data",
          "data": {
            "text/plain": [
              "<Figure size 1800x700 with 1 Axes>"
            ],
            "image/png": "[encoded data removed]"
          },
          "metadata": {}
        }
      ]
    },
    {
      "cell_type": "markdown",
      "source": [
        "Q6 B - Select the final best trained model along with your detailed comments for selecting this model."
      ],
      "metadata": {
        "id": "WwDGdf5ef8an"
      }
    },
    {
      "cell_type": "markdown",
      "source": [
        "if we go by the accuracy, we can see that KNN, Random Forest and Decision Tree have given 93% accuracy which is descent and not an overfit either. Naive Bayes has performed poorly and not a contributive at all.\n",
        "\n",
        "if we check precision and recall for these models, then KNN, Random Forest and Decision Tree have all give precision of 0.93 and recall of 1, which is a good value. However, if we see Naive Bayes, it contributes more towards precision and recall even for fail cases identification.\n",
        "\n",
        "However, since NB's accuracy is low, one may not choose such a model but can certainly choose from other models available."
      ],
      "metadata": {
        "id": "nydlDtiv0y8Q"
      }
    },
    {
      "cell_type": "markdown",
      "source": [
        "Q6 C - Write your conclusion on the results."
      ],
      "metadata": {
        "id": "dm5ERWlRf-n9"
      }
    },
    {
      "cell_type": "markdown",
      "source": [
        "As the features in the dataset are huge, it is important to reduce the dimensions and then consume the data. Almost 200-250 features are contributing to 95% or more so we can drop the remaining. Scaling is important here as working on more than 200 dimensions is a complex task and to understand their relation one has to scale the data.\n",
        "\n",
        "On application of various models, it is evident that 3 models are capable of handling this volume of data nd and provide good accuracy. There could be more models which could be applied but at the moment this 3 have proven fit."
      ],
      "metadata": {
        "id": "lsQJiRBs3gWv"
      }
    }
  ]
}